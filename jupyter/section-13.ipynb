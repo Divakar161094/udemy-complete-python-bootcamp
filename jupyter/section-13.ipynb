{
 "cells": [
  {
   "cell_type": "markdown",
   "metadata": {},
   "source": [
    "## Section 13: Python Generators\n",
    "\n",
    "83. Generators with Python\n",
    "84. Generators Homework Overview\n",
    "85. Generators Homework Solutions"
   ]
  },
  {
   "cell_type": "markdown",
   "metadata": {},
   "source": [
    "### 83. Generators with Python\n",
    "\n",
    "Generators allow generate a sequence of values over time.   \n",
    "For example, pick off the number between [1, 1.000.000.000].   \n",
    "The generator gonna generate the number when you request. Thus, don't need to fill the hole memory for that.   \n"
   ]
  },
  {
   "cell_type": "code",
   "execution_count": 1,
   "metadata": {
    "ExecuteTime": {
     "end_time": "2019-03-02T21:07:14.064022Z",
     "start_time": "2019-03-02T21:07:14.054225Z"
    }
   },
   "outputs": [],
   "source": [
    "def create_cubes(n):\n",
    "    result = []\n",
    "    for x in range(n):\n",
    "        result.append(x**3)\n",
    "    return result"
   ]
  },
  {
   "cell_type": "markdown",
   "metadata": {},
   "source": [
    "This is useful if you need the `list` element."
   ]
  },
  {
   "cell_type": "code",
   "execution_count": 2,
   "metadata": {
    "ExecuteTime": {
     "end_time": "2019-03-02T21:07:14.206828Z",
     "start_time": "2019-03-02T21:07:14.068830Z"
    }
   },
   "outputs": [
    {
     "data": {
      "text/plain": [
       "[0, 1, 8, 27, 64]"
      ]
     },
     "execution_count": 2,
     "metadata": {},
     "output_type": "execute_result"
    }
   ],
   "source": [
    "create_cubes(5)"
   ]
  },
  {
   "cell_type": "markdown",
   "metadata": {},
   "source": [
    "But is wast of memory if you do this:"
   ]
  },
  {
   "cell_type": "code",
   "execution_count": 3,
   "metadata": {
    "ExecuteTime": {
     "end_time": "2019-03-02T21:07:14.343704Z",
     "start_time": "2019-03-02T21:07:14.211280Z"
    }
   },
   "outputs": [
    {
     "name": "stdout",
     "output_type": "stream",
     "text": [
      "0\n",
      "1\n",
      "8\n",
      "27\n",
      "64\n"
     ]
    }
   ],
   "source": [
    "for x in create_cubes(5):\n",
    "    print(x)"
   ]
  },
  {
   "cell_type": "markdown",
   "metadata": {
    "ExecuteTime": {
     "end_time": "2019-03-02T20:55:19.609371Z",
     "start_time": "2019-03-02T20:55:19.601838Z"
    }
   },
   "source": [
    "Way memory efficient:"
   ]
  },
  {
   "cell_type": "code",
   "execution_count": 4,
   "metadata": {
    "ExecuteTime": {
     "end_time": "2019-03-02T21:07:14.481873Z",
     "start_time": "2019-03-02T21:07:14.349187Z"
    }
   },
   "outputs": [],
   "source": [
    "def create_cubes(n):\n",
    "    for x in range(n):\n",
    "        yield (x**3) # it's like return"
   ]
  },
  {
   "cell_type": "code",
   "execution_count": 5,
   "metadata": {
    "ExecuteTime": {
     "end_time": "2019-03-02T21:07:14.693093Z",
     "start_time": "2019-03-02T21:07:14.492075Z"
    }
   },
   "outputs": [
    {
     "name": "stdout",
     "output_type": "stream",
     "text": [
      "0\n",
      "1\n",
      "8\n",
      "27\n",
      "64\n"
     ]
    }
   ],
   "source": [
    "for x in create_cubes(5):\n",
    "    print(x)"
   ]
  },
  {
   "cell_type": "code",
   "execution_count": 6,
   "metadata": {
    "ExecuteTime": {
     "end_time": "2019-03-02T21:07:14.863473Z",
     "start_time": "2019-03-02T21:07:14.696338Z"
    }
   },
   "outputs": [
    {
     "data": {
      "text/plain": [
       "<generator object create_cubes at 0x7f76aa0bffc0>"
      ]
     },
     "execution_count": 6,
     "metadata": {},
     "output_type": "execute_result"
    }
   ],
   "source": [
    "create_cubes(5)"
   ]
  },
  {
   "cell_type": "code",
   "execution_count": 7,
   "metadata": {
    "ExecuteTime": {
     "end_time": "2019-03-02T21:07:15.059643Z",
     "start_time": "2019-03-02T21:07:14.866324Z"
    }
   },
   "outputs": [
    {
     "data": {
      "text/plain": [
       "[0, 1, 8, 27, 64]"
      ]
     },
     "execution_count": 7,
     "metadata": {},
     "output_type": "execute_result"
    }
   ],
   "source": [
    "list(create_cubes(5))"
   ]
  },
  {
   "cell_type": "code",
   "execution_count": 8,
   "metadata": {
    "ExecuteTime": {
     "end_time": "2019-03-02T21:07:15.201516Z",
     "start_time": "2019-03-02T21:07:15.062700Z"
    }
   },
   "outputs": [],
   "source": [
    "def fibonacci(n):\n",
    "    a = 1\n",
    "    b = 1\n",
    "    for i in range(n):\n",
    "        yield a\n",
    "        a, b = b, (a+b)"
   ]
  },
  {
   "cell_type": "code",
   "execution_count": 9,
   "metadata": {
    "ExecuteTime": {
     "end_time": "2019-03-02T21:07:15.350912Z",
     "start_time": "2019-03-02T21:07:15.204814Z"
    }
   },
   "outputs": [
    {
     "data": {
      "text/plain": [
       "<generator object fibonacci at 0x7f769a7f5d58>"
      ]
     },
     "execution_count": 9,
     "metadata": {},
     "output_type": "execute_result"
    }
   ],
   "source": [
    "fibonacci(5)"
   ]
  },
  {
   "cell_type": "code",
   "execution_count": 10,
   "metadata": {
    "ExecuteTime": {
     "end_time": "2019-03-02T21:07:15.493366Z",
     "start_time": "2019-03-02T21:07:15.355229Z"
    }
   },
   "outputs": [
    {
     "data": {
      "text/plain": [
       "[1, 1, 2, 3, 5]"
      ]
     },
     "execution_count": 10,
     "metadata": {},
     "output_type": "execute_result"
    }
   ],
   "source": [
    "list(fibonacci(5))"
   ]
  },
  {
   "cell_type": "code",
   "execution_count": 11,
   "metadata": {
    "ExecuteTime": {
     "end_time": "2019-03-02T21:07:15.667669Z",
     "start_time": "2019-03-02T21:07:15.497818Z"
    }
   },
   "outputs": [],
   "source": [
    "ext_fib = fibonacci(5)"
   ]
  },
  {
   "cell_type": "code",
   "execution_count": 12,
   "metadata": {
    "ExecuteTime": {
     "end_time": "2019-03-02T21:07:15.802280Z",
     "start_time": "2019-03-02T21:07:15.679184Z"
    }
   },
   "outputs": [
    {
     "data": {
      "text/plain": [
       "<generator object fibonacci at 0x7f769a7f5fc0>"
      ]
     },
     "execution_count": 12,
     "metadata": {},
     "output_type": "execute_result"
    }
   ],
   "source": [
    "ext_fib"
   ]
  },
  {
   "cell_type": "code",
   "execution_count": 13,
   "metadata": {
    "ExecuteTime": {
     "end_time": "2019-03-02T21:07:15.925183Z",
     "start_time": "2019-03-02T21:07:15.809010Z"
    }
   },
   "outputs": [
    {
     "name": "stdout",
     "output_type": "stream",
     "text": [
      "1\n",
      "1\n",
      "2\n",
      "3\n",
      "5\n",
      "error: index 5\n"
     ]
    }
   ],
   "source": [
    "for i in range(6):\n",
    "    try:\n",
    "        print(next(ext_fib))\n",
    "    except:\n",
    "        print('error: index {}'.format(i))"
   ]
  },
  {
   "cell_type": "code",
   "execution_count": null,
   "metadata": {},
   "outputs": [],
   "source": []
  }
 ],
 "metadata": {
  "kernelspec": {
   "display_name": "Python 3",
   "language": "python",
   "name": "python3"
  },
  "language_info": {
   "codemirror_mode": {
    "name": "ipython",
    "version": 3
   },
   "file_extension": ".py",
   "mimetype": "text/x-python",
   "name": "python",
   "nbconvert_exporter": "python",
   "pygments_lexer": "ipython3",
   "version": "3.6.5"
  }
 },
 "nbformat": 4,
 "nbformat_minor": 2
}
