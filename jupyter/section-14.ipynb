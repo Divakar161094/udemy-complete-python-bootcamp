{
 "cells": [
  {
   "cell_type": "markdown",
   "metadata": {},
   "source": [
    "## Section 14: Final Capstone Python Project\n",
    "\n",
    "86. Final Capstone Project"
   ]
  },
  {
   "cell_type": "markdown",
   "metadata": {},
   "source": [
    "### 86. Final Capstone Project\n",
    "\n",
    "A list with more than one hundred small projects.   \n",
    "https://github.com/Pierian-Data/Complete-Python-3-Bootcamp/blob/master/12-Final%20Capstone%20Python%20Project/02-Final%20Capstone%20Project%20Ideas.ipynb"
   ]
  },
  {
   "cell_type": "markdown",
   "metadata": {},
   "source": [
    "1) **Calculator** - A simple calculator to do basic operators. Make it a scientific calculator for added complexity."
   ]
  },
  {
   "cell_type": "code",
   "execution_count": 7,
   "metadata": {
    "ExecuteTime": {
     "end_time": "2019-03-30T19:57:00.902808Z",
     "start_time": "2019-03-30T19:56:59.827247Z"
    }
   },
   "outputs": [],
   "source": [
    "import math"
   ]
  },
  {
   "cell_type": "code",
   "execution_count": 29,
   "metadata": {
    "ExecuteTime": {
     "end_time": "2019-03-30T20:15:48.272144Z",
     "start_time": "2019-03-30T20:15:48.244548Z"
    }
   },
   "outputs": [
    {
     "name": "stdout",
     "output_type": "stream",
     "text": [
      "R: 0.000000\n",
      "R: 10.400000\n",
      "R: 3.000000\n",
      "R: 27.000000\n"
     ]
    }
   ],
   "source": [
    "class Calculator:\n",
    "    \n",
    "    def __init__(self):\n",
    "        self.num = 0\n",
    "        self.print()\n",
    "        \n",
    "    def sum(self, num):\n",
    "        '''\n",
    "        - sum by a number\n",
    "        '''\n",
    "        self.num += num\n",
    "        self.print()\n",
    "    \n",
    "    def minus(self, num):\n",
    "        '''\n",
    "        - minus by a number\n",
    "        '''\n",
    "        self.num -= num\n",
    "        self.print()\n",
    "    \n",
    "    def mult(self, num):\n",
    "        '''\n",
    "        - multiple by a number\n",
    "        '''\n",
    "        self.num *= num\n",
    "        self.print()\n",
    "    \n",
    "    def div(self, num):\n",
    "        '''\n",
    "        - divide by a number\n",
    "        '''\n",
    "        self.num /= num\n",
    "        self.print()\n",
    "    \n",
    "    def pow(self, num):\n",
    "        '''\n",
    "        - pow by a number\n",
    "        '''\n",
    "        self.num **= num\n",
    "        self.print()\n",
    "    \n",
    "    def print(self):\n",
    "        '''\n",
    "        - print the result\n",
    "        '''\n",
    "        print('R: %.6f' % self.num)\n",
    "        \n",
    "calc = Calculator()\n",
    "calc.sum(10.4)\n",
    "calc.minus(7.4)\n",
    "calc.pow(3)"
   ]
  },
  {
   "cell_type": "code",
   "execution_count": null,
   "metadata": {},
   "outputs": [],
   "source": []
  }
 ],
 "metadata": {
  "kernelspec": {
   "display_name": "Python 3",
   "language": "python",
   "name": "python3"
  },
  "language_info": {
   "codemirror_mode": {
    "name": "ipython",
    "version": 3
   },
   "file_extension": ".py",
   "mimetype": "text/x-python",
   "name": "python",
   "nbconvert_exporter": "python",
   "pygments_lexer": "ipython3",
   "version": "3.6.5"
  }
 },
 "nbformat": 4,
 "nbformat_minor": 2
}
