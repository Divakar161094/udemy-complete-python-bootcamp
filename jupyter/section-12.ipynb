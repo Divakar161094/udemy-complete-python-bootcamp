{
 "cells": [
  {
   "cell_type": "markdown",
   "metadata": {},
   "source": [
    "## Section 12: Python Decorators\n",
    "\n",
    "81. Decorators with Python Overview\n",
    "82. Website Homework (Optional)"
   ]
  },
  {
   "cell_type": "markdown",
   "metadata": {},
   "source": [
    "### 81. Decorators with Python Overview\n",
    "\n",
    "Decorators allow you to 'decorate' a function.   \n",
    "You can active/deactive a new 'functionality' in your function.   \n",
    "\n",
    "```python\n",
    "@some_decorator\n",
    "def simple_func():\n",
    "    # Do something\n",
    "    pass\n",
    "```"
   ]
  },
  {
   "cell_type": "code",
   "execution_count": 1,
   "metadata": {
    "ExecuteTime": {
     "end_time": "2019-03-02T20:40:35.954735Z",
     "start_time": "2019-03-02T20:40:35.947105Z"
    }
   },
   "outputs": [],
   "source": [
    "def f1(name='Jose'):\n",
    "    print('Hello {}!'.format(name))\n",
    "    \n",
    "    def f1_2():\n",
    "        return '\\tInside function'\n",
    "    \n",
    "    print(f1_2())\n",
    "    print('-finish f1 function')\n",
    "    return f1_2"
   ]
  },
  {
   "cell_type": "code",
   "execution_count": 2,
   "metadata": {
    "ExecuteTime": {
     "end_time": "2019-03-02T20:40:36.078696Z",
     "start_time": "2019-03-02T20:40:35.959241Z"
    }
   },
   "outputs": [
    {
     "name": "stdout",
     "output_type": "stream",
     "text": [
      "Hello Jose!\n",
      "\tInside function\n",
      "-finish f1 function\n"
     ]
    }
   ],
   "source": [
    "r = f1()"
   ]
  },
  {
   "cell_type": "code",
   "execution_count": 3,
   "metadata": {
    "ExecuteTime": {
     "end_time": "2019-03-02T20:40:36.216766Z",
     "start_time": "2019-03-02T20:40:36.085671Z"
    }
   },
   "outputs": [
    {
     "data": {
      "text/plain": [
       "'\\tInside function'"
      ]
     },
     "execution_count": 3,
     "metadata": {},
     "output_type": "execute_result"
    }
   ],
   "source": [
    "r()"
   ]
  },
  {
   "cell_type": "markdown",
   "metadata": {},
   "source": [
    "Create a 'decorator'\n",
    "\n",
    "- Receive the original function\n",
    "- Create a necessary modifications to the function\n",
    "    - _e.g._, add before and after content\n",
    "- Return the warp function"
   ]
  },
  {
   "cell_type": "code",
   "execution_count": 4,
   "metadata": {
    "ExecuteTime": {
     "end_time": "2019-03-02T20:40:36.342573Z",
     "start_time": "2019-03-02T20:40:36.220659Z"
    }
   },
   "outputs": [],
   "source": [
    "def new_decorator(original_func):\n",
    "    \n",
    "    def warp_func():\n",
    "        print('-before')\n",
    "        original_func()\n",
    "        print('-after')\n",
    "    \n",
    "    return warp_func"
   ]
  },
  {
   "cell_type": "code",
   "execution_count": 5,
   "metadata": {
    "ExecuteTime": {
     "end_time": "2019-03-02T20:40:36.464314Z",
     "start_time": "2019-03-02T20:40:36.345255Z"
    }
   },
   "outputs": [],
   "source": [
    "def func_needs_decorator():\n",
    "    print('I need a decorator!')"
   ]
  },
  {
   "cell_type": "code",
   "execution_count": 6,
   "metadata": {
    "ExecuteTime": {
     "end_time": "2019-03-02T20:40:36.597863Z",
     "start_time": "2019-03-02T20:40:36.467619Z"
    }
   },
   "outputs": [
    {
     "name": "stdout",
     "output_type": "stream",
     "text": [
      "I need a decorator!\n"
     ]
    }
   ],
   "source": [
    "func_needs_decorator()"
   ]
  },
  {
   "cell_type": "code",
   "execution_count": 7,
   "metadata": {
    "ExecuteTime": {
     "end_time": "2019-03-02T20:40:36.744473Z",
     "start_time": "2019-03-02T20:40:36.601340Z"
    }
   },
   "outputs": [],
   "source": [
    "func_decorated = new_decorator(func_needs_decorator)"
   ]
  },
  {
   "cell_type": "code",
   "execution_count": 8,
   "metadata": {
    "ExecuteTime": {
     "end_time": "2019-03-02T20:40:36.877713Z",
     "start_time": "2019-03-02T20:40:36.748205Z"
    }
   },
   "outputs": [
    {
     "name": "stdout",
     "output_type": "stream",
     "text": [
      "-before\n",
      "I need a decorator!\n",
      "-after\n"
     ]
    }
   ],
   "source": [
    "func_decorated()"
   ]
  },
  {
   "cell_type": "code",
   "execution_count": 9,
   "metadata": {
    "ExecuteTime": {
     "end_time": "2019-03-02T20:40:37.009501Z",
     "start_time": "2019-03-02T20:40:36.880754Z"
    }
   },
   "outputs": [],
   "source": [
    "# inside of \n",
    "#   func_decorated = new_decorator(func_needs_decorator)\n",
    "# you can use\n",
    "#   @function_name\n",
    "\n",
    "@new_decorator\n",
    "def func_needs_decorator():\n",
    "    print('I need a decorator!')"
   ]
  },
  {
   "cell_type": "code",
   "execution_count": 10,
   "metadata": {
    "ExecuteTime": {
     "end_time": "2019-03-02T20:40:37.143830Z",
     "start_time": "2019-03-02T20:40:37.013425Z"
    }
   },
   "outputs": [
    {
     "name": "stdout",
     "output_type": "stream",
     "text": [
      "-before\n",
      "I need a decorator!\n",
      "-after\n"
     ]
    }
   ],
   "source": [
    "func_needs_decorator()"
   ]
  },
  {
   "cell_type": "markdown",
   "metadata": {},
   "source": [
    "### 82. Website Homework (Optional)\n",
    "\n",
    "Since you won't run into decorators until further in your coding career, this homework is optional. Check out the Web Framework [Flask](http://flask.pocoo.org/). You can use Flask to create web pages with Python (as long as you know some HTML and CSS) and they use decorators a lot! Learn how they use [view decorators](http://flask.pocoo.org/docs/0.12/patterns/viewdecorators/). Don't worry if you don't completely understand everything about Flask, the main point of this optional homework is that you have an awareness of decorators in Web Frameworks. That way if you decide to become a \\\"Full-Stack\\\" Python Web Developer, you won't find yourself perplexed by decorators. You can also check out [Django](https://www.djangoproject.com/) another (and more popular) web framework for Python which is a bit more heavy duty."
   ]
  },
  {
   "cell_type": "code",
   "execution_count": null,
   "metadata": {},
   "outputs": [],
   "source": []
  }
 ],
 "metadata": {
  "kernelspec": {
   "display_name": "Python 3",
   "language": "python",
   "name": "python3"
  },
  "language_info": {
   "codemirror_mode": {
    "name": "ipython",
    "version": 3
   },
   "file_extension": ".py",
   "mimetype": "text/x-python",
   "name": "python",
   "nbconvert_exporter": "python",
   "pygments_lexer": "ipython3",
   "version": "3.6.5"
  }
 },
 "nbformat": 4,
 "nbformat_minor": 2
}
