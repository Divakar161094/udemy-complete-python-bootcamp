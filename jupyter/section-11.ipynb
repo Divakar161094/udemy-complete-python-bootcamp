{
 "cells": [
  {
   "cell_type": "markdown",
   "metadata": {},
   "source": [
    "## Section 11: Milestone Project - 2\n",
    "\n",
    "76. Milestone Overview\n",
    "77. Solution Walkhrough - Card and Deck Classes\n",
    "78. Solution Walkhrough - Hand and Chip Classes\n",
    "79. Solution Walkhrough - Functions\n",
    "80. Solution Walkhrough - Final Gameplay Script"
   ]
  },
  {
   "cell_type": "markdown",
   "metadata": {},
   "source": [
    "### 76. Milestone Overview\n",
    "\n",
    "Game: Black Jack   \n",
    "\n",
    "Here are the requirements:\n",
    "- You need to create a simple text-based BlackJack game\n",
    "- The game needs to have one player versus an automated dealer.\n",
    "- The player can stand or hit.\n",
    "- The player must be able to pick their betting amount.\n",
    "- You need to keep track of the player's total money.\n",
    "- You need to alert the player of wins, losses, or busts, etc...\n",
    "\n",
    "**You must use OOP and classes in some portion of your game. You can not just use functions in your game. Use classes to help you define the Deck and the Player's hand. There are many right ways to do this, so explore it well!** (observation)   "
   ]
  },
  {
   "cell_type": "code",
   "execution_count": 1,
   "metadata": {
    "ExecuteTime": {
     "end_time": "2019-02-24T02:13:24.423153Z",
     "start_time": "2019-02-24T02:13:24.411694Z"
    }
   },
   "outputs": [],
   "source": [
    "# imports and definitions\n",
    "import random\n",
    "from IPython.display import clear_output\n",
    "\n",
    "suits = ('♥', '♦', '♠', '♣')\n",
    "ranks = ('2', '3', '4', '5', '6', '7', '8', '9', '10', 'J', 'Q', 'K', 'A')\n",
    "values = {'2':2, '3':3, '4':4, '5':5, '6':6, '7':7, '8':8, '9':9, '10':10, 'J':10, 'Q':10, 'K':10, 'A':11}"
   ]
  },
  {
   "cell_type": "code",
   "execution_count": 2,
   "metadata": {
    "ExecuteTime": {
     "end_time": "2019-02-24T02:13:24.571133Z",
     "start_time": "2019-02-24T02:13:24.426579Z"
    }
   },
   "outputs": [
    {
     "name": "stdout",
     "output_type": "stream",
     "text": [
      "|2 ♥|\n"
     ]
    }
   ],
   "source": [
    "class Card:\n",
    "    \n",
    "    def __init__(self, suit, rank):\n",
    "        self.suit = suit\n",
    "        self.rank = rank\n",
    "            \n",
    "    def __str__(self):\n",
    "        return '|{r: <2}{s:s}|'.format(r=self.rank,s=self.suit)\n",
    "    \n",
    "    def hide(self):\n",
    "        return '|▓▓▓|'\n",
    "    \n",
    "    def get_rank(self):\n",
    "        return self.rank\n",
    "    \n",
    "    def get_suit(self):\n",
    "        return self.suit\n",
    "    \n",
    "print(Card(suits[0], ranks[0]))"
   ]
  },
  {
   "cell_type": "code",
   "execution_count": 3,
   "metadata": {
    "ExecuteTime": {
     "end_time": "2019-02-24T02:13:24.711398Z",
     "start_time": "2019-02-24T02:13:24.574824Z"
    }
   },
   "outputs": [],
   "source": [
    "class Deck:\n",
    "    \n",
    "    def __init__(self, suits, ranks):\n",
    "        self.suits = suits\n",
    "        self.ranks = ranks\n",
    "        self.deck = None\n",
    "        \n",
    "        self._create_cards()\n",
    "        self._shuffle()\n",
    "    \n",
    "    def __str__(self):\n",
    "        return 'Deck with %d cards.' % len(self.deck)\n",
    "        \n",
    "    def _create_cards(self):\n",
    "        self.deck = []\n",
    "        for suit in self.suits:\n",
    "            for rank in self.ranks:\n",
    "                card = Card(suit, rank)\n",
    "                self.deck.append(card)\n",
    "                \n",
    "    def _shuffle(self):\n",
    "        random.shuffle(self.deck)\n",
    "        \n",
    "    def get_card(self):\n",
    "        if len(self.deck):\n",
    "            return self.deck.pop(0)\n",
    "        return None"
   ]
  },
  {
   "cell_type": "code",
   "execution_count": 4,
   "metadata": {
    "ExecuteTime": {
     "end_time": "2019-02-24T02:13:24.858459Z",
     "start_time": "2019-02-24T02:13:24.714792Z"
    }
   },
   "outputs": [
    {
     "name": "stdout",
     "output_type": "stream",
     "text": [
      "|J ♦|\n",
      "|6 ♣|\n",
      "Deck with 50 cards.\n"
     ]
    }
   ],
   "source": [
    "# deck testing\n",
    "\n",
    "deck = Deck(suits, ranks)\n",
    "print(deck.get_card()) # remove 1\n",
    "print(deck.get_card()) # remove 2\n",
    "print(deck)"
   ]
  },
  {
   "cell_type": "code",
   "execution_count": 5,
   "metadata": {
    "ExecuteTime": {
     "end_time": "2019-02-24T02:13:25.001471Z",
     "start_time": "2019-02-24T02:13:24.862749Z"
    }
   },
   "outputs": [],
   "source": [
    "class Hand:\n",
    "    \n",
    "    def __init__(self, values):\n",
    "        self.deck = []\n",
    "        self.value = 0\n",
    "        self.values = values\n",
    "    \n",
    "    def __str__(self):\n",
    "        cards = ' , '.join(['%s' % card for card in self.deck])\n",
    "        value = self.value\n",
    "        return '%s, v=%d' % (cards, value)\n",
    "    \n",
    "    def hide(self):\n",
    "        cards = self.deck[0].hide()+' , '\n",
    "        cards += ' , '.join(['%s' % card for card in self.deck[1:]])\n",
    "        return '%s, v=%s' % (cards, '?')\n",
    "    \n",
    "    def add_card(self,card):\n",
    "        if card:\n",
    "            self.deck.append(card)\n",
    "            self.value = self._get_value()\n",
    "    \n",
    "    def get_value(self):\n",
    "        return self.value\n",
    "    \n",
    "    def _get_value(self):\n",
    "        value = 0\n",
    "        aces = 0\n",
    "        c = 0\n",
    "        for card in self.deck:\n",
    "            rank = card.get_rank()\n",
    "            if rank != 'A':\n",
    "                c += 1\n",
    "                value += self.values[rank]\n",
    "            else:\n",
    "                aces += 1\n",
    "        for _ in range(aces):\n",
    "            if value > 21:\n",
    "                value += 1\n",
    "            elif value + 11 <= 21 and c == len(self.deck)-1:\n",
    "                value += 11\n",
    "            else:\n",
    "                value += 1\n",
    "        return value"
   ]
  },
  {
   "cell_type": "code",
   "execution_count": 6,
   "metadata": {
    "ExecuteTime": {
     "end_time": "2019-02-24T02:13:25.190262Z",
     "start_time": "2019-02-24T02:13:25.010278Z"
    }
   },
   "outputs": [
    {
     "name": "stdout",
     "output_type": "stream",
     "text": [
      "|4 ♠| , |8 ♥| , |9 ♥|, v=21\n",
      "|▓▓▓| , |8 ♥| , |9 ♥|, v=?\n",
      "Deck with 47 cards.\n"
     ]
    }
   ],
   "source": [
    "hand = Hand(values)\n",
    "hand.add_card(deck.get_card())\n",
    "hand.add_card(deck.get_card())\n",
    "hand.add_card(deck.get_card())\n",
    "print(hand)\n",
    "print(hand.hide())\n",
    "print(deck)"
   ]
  },
  {
   "cell_type": "code",
   "execution_count": 7,
   "metadata": {
    "ExecuteTime": {
     "end_time": "2019-02-24T02:13:25.321190Z",
     "start_time": "2019-02-24T02:13:25.198924Z"
    }
   },
   "outputs": [],
   "source": [
    "class Chips:\n",
    "    \n",
    "    def __init__(self, value):\n",
    "        self.total = value\n",
    "        self.bet = 0\n",
    "    \n",
    "    def __str__(self):\n",
    "        return 'chips=%d, bet=%d' % (self.total, sef.bet)\n",
    "    \n",
    "    def set_bet(self, bet):\n",
    "        self.bet = bet\n",
    "    \n",
    "    def get_chips(self):\n",
    "        return self.total\n",
    "    \n",
    "    def win_bet(self):\n",
    "        self.total += self.bet\n",
    "    \n",
    "    def lose_bet(self):\n",
    "        self.total -= self.bet"
   ]
  },
  {
   "cell_type": "code",
   "execution_count": 8,
   "metadata": {
    "ExecuteTime": {
     "end_time": "2019-02-24T02:13:25.460289Z",
     "start_time": "2019-02-24T02:13:25.325132Z"
    },
    "scrolled": false
   },
   "outputs": [],
   "source": [
    "class Game:\n",
    "    \n",
    "    def __init__(self):\n",
    "        # game definitions\n",
    "        self.deck = None\n",
    "        self.player = None\n",
    "        self.dealer = None\n",
    "        self.playing = True\n",
    "        self.chips = Chips(50)\n",
    "        # player definitions\n",
    "        self.wins = 0\n",
    "        self.loses = 0\n",
    "    \n",
    "    # reset hand and deck\n",
    "    def _reset(self):\n",
    "        self.deck = Deck(suits, ranks)\n",
    "        self.player = Hand(values)\n",
    "        self.dealer = Hand(values)\n",
    "    \n",
    "    # input definition\n",
    "    def _input(self, start, rule, msg):\n",
    "        player = start\n",
    "        while not rule(player):\n",
    "            player = int(input(msg))\n",
    "        return player\n",
    "    \n",
    "    # take a bet\n",
    "    def _take_bet(self):\n",
    "        limit = self.chips.get_chips()\n",
    "        rule = lambda x: 0 < x <= limit\n",
    "        msg = 'Bet [1, {:d}]: '.format(limit)\n",
    "        value = self._input(-1, rule, msg)\n",
    "        # set the bet\n",
    "        self.chips.set_bet(value)\n",
    "    \n",
    "    # hit a card\n",
    "    def _hit(self, hand):\n",
    "        card = self.deck.get_card()\n",
    "        hand.add_card(card)\n",
    "    \n",
    "    # hit mutiples cards\n",
    "    def _take_cards(self, hand, count):\n",
    "        for _ in range(count):\n",
    "            self._hit(hand)\n",
    "    \n",
    "    # player choice\n",
    "    def _hit_or_not(self):\n",
    "        rule = lambda x: 0 <= x <= 1\n",
    "        msg = 'Stay (0) or Hit (1): '\n",
    "        value = self._input(-1, rule, msg)\n",
    "        return value\n",
    "    \n",
    "    def _again(self):\n",
    "        if self.chips.get_chips() <= 0:\n",
    "            return False\n",
    "        # again?\n",
    "        rule = lambda x: 0 <= x <= 1\n",
    "        msg = 'Again? No (0) or Yes (1): '\n",
    "        value = self._input(-1, rule, msg)\n",
    "        return value\n",
    "    \n",
    "    # print hands\n",
    "    def _print(self, init=False):\n",
    "        if init:\n",
    "            print('D: ', self.dealer.hide())\n",
    "        else:\n",
    "            print('D: ', self.dealer)\n",
    "        print('P: ', self.player)\n",
    "    \n",
    "    def _lose(self):\n",
    "        print('> Player Lose...')\n",
    "        self.loses += 1\n",
    "        self.chips.lose_bet()\n",
    "    \n",
    "    def _win(self):\n",
    "        print('> Player Win!')\n",
    "        self.wins += 1\n",
    "        self.chips.win_bet()\n",
    "    \n",
    "    def play(self):\n",
    "        while self.playing:\n",
    "            #clear_output()\n",
    "            #- take bet\n",
    "            self._take_bet()\n",
    "            #- shuffle the deck\n",
    "            #   and get cards\n",
    "            self._reset()\n",
    "            self._take_cards(self.player, 2)\n",
    "            self._take_cards(self.dealer, 2)\n",
    "            \n",
    "            #- print game\n",
    "            print('----------------------------\\n> Init')\n",
    "            self._print(True)\n",
    "            print('> Player Turn')\n",
    "            while self.player.get_value() < 21:\n",
    "                #- player turn\n",
    "                choice = self._hit_or_not()\n",
    "                if choice:\n",
    "                    self._hit(self.player)\n",
    "                    self._print(True)\n",
    "                else:\n",
    "                    break\n",
    "            #- scene 1: player bust\n",
    "            if self.player.get_value() > 21:\n",
    "                self._lose()\n",
    "                self.playing = self._again()\n",
    "                continue\n",
    "            print('> Dealer Turn')\n",
    "            self._print()\n",
    "            while self.dealer.get_value() < self.player.get_value():\n",
    "                self._hit(self.dealer)\n",
    "                self._print()\n",
    "            #- scene 2: dealer bust\n",
    "            if self.dealer.get_value() > 21:\n",
    "                self._win()\n",
    "                self.playing = self._again()\n",
    "                continue\n",
    "            #- scene 3: dealer > player\n",
    "            elif self.dealer.get_value() > self.player.get_value():\n",
    "                self._lose()\n",
    "                self.playing = self._again()\n",
    "                continue\n",
    "            #- scene 4: player > dealer\n",
    "            elif self.dealer.get_value() < self.player.get_value():\n",
    "                self._win()\n",
    "                self.playing = self._again()\n",
    "                continue\n",
    "            else:\n",
    "                print('> Tie!')\n",
    "                self.playing = self._again()\n",
    "                continue\n",
    "        print('> Finish the game with {:d} chips.'.format(self.chips.get_chips()))"
   ]
  },
  {
   "cell_type": "code",
   "execution_count": 9,
   "metadata": {
    "ExecuteTime": {
     "end_time": "2019-02-24T02:13:44.521421Z",
     "start_time": "2019-02-24T02:13:25.464435Z"
    }
   },
   "outputs": [
    {
     "name": "stdout",
     "output_type": "stream",
     "text": [
      "Bet [1, 50]: 10\n",
      "----------------------------\n",
      "> Init\n",
      "D:  |▓▓▓| , |Q ♥|, v=?\n",
      "P:  |10♥| , |5 ♠|, v=15\n",
      "> Player Turn\n",
      "Stay (0) or Hit (1): 1\n",
      "D:  |▓▓▓| , |Q ♥|, v=?\n",
      "P:  |10♥| , |5 ♠| , |4 ♦|, v=19\n",
      "Stay (0) or Hit (1): 0\n",
      "> Dealer Turn\n",
      "D:  |2 ♦| , |Q ♥|, v=12\n",
      "P:  |10♥| , |5 ♠| , |4 ♦|, v=19\n",
      "D:  |2 ♦| , |Q ♥| , |10♠|, v=22\n",
      "P:  |10♥| , |5 ♠| , |4 ♦|, v=19\n",
      "> Player Win!\n",
      "Again? No (0) or Yes (1): 1\n",
      "Bet [1, 60]: 30\n",
      "----------------------------\n",
      "> Init\n",
      "D:  |▓▓▓| , |A ♥|, v=?\n",
      "P:  |Q ♥| , |3 ♠|, v=13\n",
      "> Player Turn\n",
      "Stay (0) or Hit (1): 1\n",
      "D:  |▓▓▓| , |A ♥|, v=?\n",
      "P:  |Q ♥| , |3 ♠| , |7 ♣|, v=20\n",
      "Stay (0) or Hit (1): 0\n",
      "> Dealer Turn\n",
      "D:  |10♠| , |A ♥|, v=21\n",
      "P:  |Q ♥| , |3 ♠| , |7 ♣|, v=20\n",
      "> Player Lose...\n",
      "Again? No (0) or Yes (1): 0\n",
      "> Finish the game with 30 chips.\n"
     ]
    }
   ],
   "source": [
    "game = Game()\n",
    "game.play()"
   ]
  },
  {
   "cell_type": "code",
   "execution_count": null,
   "metadata": {},
   "outputs": [],
   "source": []
  }
 ],
 "metadata": {
  "kernelspec": {
   "display_name": "Python 3",
   "language": "python",
   "name": "python3"
  },
  "language_info": {
   "codemirror_mode": {
    "name": "ipython",
    "version": 3
   },
   "file_extension": ".py",
   "mimetype": "text/x-python",
   "name": "python",
   "nbconvert_exporter": "python",
   "pygments_lexer": "ipython3",
   "version": "3.6.5"
  }
 },
 "nbformat": 4,
 "nbformat_minor": 2
}
