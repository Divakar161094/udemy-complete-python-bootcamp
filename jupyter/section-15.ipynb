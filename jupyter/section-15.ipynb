{
 "cells": [
  {
   "cell_type": "markdown",
   "metadata": {},
   "source": [
    "## Section 15: Advanced Python Modules\n",
    "\n",
    "87. Collections Module - counter\n",
    "88. Collections Module - defaultdict\n",
    "89. Collections Module - OrderedDict\n",
    "90. Collections Module - namedtuple\n",
    "    1. deque"
   ]
  },
  {
   "cell_type": "markdown",
   "metadata": {},
   "source": [
    "### 87. Collections Module - counter\n",
    "\n",
    "Dictionary help class which count objects.\n",
    "```python\n",
    "from collections import Counter\n",
    "```"
   ]
  },
  {
   "cell_type": "code",
   "execution_count": 1,
   "metadata": {
    "ExecuteTime": {
     "end_time": "2019-03-30T22:16:11.053627Z",
     "start_time": "2019-03-30T22:16:11.044754Z"
    }
   },
   "outputs": [],
   "source": [
    "from collections import Counter"
   ]
  },
  {
   "cell_type": "code",
   "execution_count": 2,
   "metadata": {
    "ExecuteTime": {
     "end_time": "2019-03-30T22:16:11.230134Z",
     "start_time": "2019-03-30T22:16:11.058087Z"
    }
   },
   "outputs": [
    {
     "data": {
      "text/plain": [
       "Counter({1: 3, 2: 1, 4: 4, 77: 1, 8: 1, 9: 1})"
      ]
     },
     "execution_count": 2,
     "metadata": {},
     "output_type": "execute_result"
    }
   ],
   "source": [
    "l = [1,1,1,2,4,4,4,4,77,8,9]\n",
    "Counter(l)"
   ]
  },
  {
   "cell_type": "code",
   "execution_count": 3,
   "metadata": {
    "ExecuteTime": {
     "end_time": "2019-03-30T22:16:11.351328Z",
     "start_time": "2019-03-30T22:16:11.236461Z"
    }
   },
   "outputs": [
    {
     "data": {
      "text/plain": [
       "Counter({'a': 8, 's': 7, 'k': 4, 'd': 1, 'j': 3})"
      ]
     },
     "execution_count": 3,
     "metadata": {},
     "output_type": "execute_result"
    }
   ],
   "source": [
    "s = 'asasasasakdjaksaksjaksj'\n",
    "Counter(s)"
   ]
  },
  {
   "cell_type": "code",
   "execution_count": 4,
   "metadata": {
    "ExecuteTime": {
     "end_time": "2019-03-30T22:16:11.484617Z",
     "start_time": "2019-03-30T22:16:11.354590Z"
    }
   },
   "outputs": [
    {
     "data": {
      "text/plain": [
       "Counter({'how': 1,\n",
       "         'many': 1,\n",
       "         'time': 1,\n",
       "         'each': 1,\n",
       "         'word': 3,\n",
       "         'show': 1,\n",
       "         'up': 2,\n",
       "         'in': 1,\n",
       "         'this': 1,\n",
       "         'sentence': 1,\n",
       "         'and': 1})"
      ]
     },
     "execution_count": 4,
     "metadata": {},
     "output_type": "execute_result"
    }
   ],
   "source": [
    "s = 'how many time each word show up in this sentence word and word up'\n",
    "words = s.split()\n",
    "c = Counter(words)\n",
    "c"
   ]
  },
  {
   "cell_type": "code",
   "execution_count": 5,
   "metadata": {
    "ExecuteTime": {
     "end_time": "2019-03-30T22:16:11.608872Z",
     "start_time": "2019-03-30T22:16:11.489118Z"
    }
   },
   "outputs": [
    {
     "data": {
      "text/plain": [
       "[('word', 3), ('up', 2), ('how', 1)]"
      ]
     },
     "execution_count": 5,
     "metadata": {},
     "output_type": "execute_result"
    }
   ],
   "source": [
    "c.most_common(3) # the k first common words"
   ]
  },
  {
   "cell_type": "code",
   "execution_count": 6,
   "metadata": {
    "ExecuteTime": {
     "end_time": "2019-03-30T22:16:11.741553Z",
     "start_time": "2019-03-30T22:16:11.615582Z"
    }
   },
   "outputs": [
    {
     "data": {
      "text/plain": [
       "[('and', 1),\n",
       " ('sentence', 1),\n",
       " ('this', 1),\n",
       " ('in', 1),\n",
       " ('show', 1),\n",
       " ('each', 1),\n",
       " ('time', 1),\n",
       " ('many', 1),\n",
       " ('how', 1),\n",
       " ('up', 2),\n",
       " ('word', 3)]"
      ]
     },
     "execution_count": 6,
     "metadata": {},
     "output_type": "execute_result"
    }
   ],
   "source": [
    "c.most_common()[::-1] # the least common words"
   ]
  },
  {
   "cell_type": "markdown",
   "metadata": {},
   "source": [
    "### 88. Collections Module - defaultdict\n",
    "\n",
    "Dictionary which provides all dictionary methods. **Not Exists KeyError!**\n",
    "```python\n",
    "from collections import defaultdict\n",
    "```"
   ]
  },
  {
   "cell_type": "code",
   "execution_count": 7,
   "metadata": {
    "ExecuteTime": {
     "end_time": "2019-03-30T22:16:11.847772Z",
     "start_time": "2019-03-30T22:16:11.745851Z"
    }
   },
   "outputs": [],
   "source": [
    "from collections import defaultdict"
   ]
  },
  {
   "cell_type": "code",
   "execution_count": 8,
   "metadata": {
    "ExecuteTime": {
     "end_time": "2019-03-30T22:16:11.975246Z",
     "start_time": "2019-03-30T22:16:11.850889Z"
    }
   },
   "outputs": [
    {
     "data": {
      "text/plain": [
       "10"
      ]
     },
     "execution_count": 8,
     "metadata": {},
     "output_type": "execute_result"
    }
   ],
   "source": [
    "d = {'k1':10}\n",
    "d['k1']"
   ]
  },
  {
   "cell_type": "code",
   "execution_count": 9,
   "metadata": {
    "ExecuteTime": {
     "end_time": "2019-03-30T22:16:12.177197Z",
     "start_time": "2019-03-30T22:16:11.981062Z"
    }
   },
   "outputs": [
    {
     "ename": "KeyError",
     "evalue": "'k2'",
     "output_type": "error",
     "traceback": [
      "\u001b[0;31m---------------------------------------------------------------------------\u001b[0m",
      "\u001b[0;31mKeyError\u001b[0m                                  Traceback (most recent call last)",
      "\u001b[0;32m<ipython-input-9-b2441cdc6b89>\u001b[0m in \u001b[0;36m<module>\u001b[0;34m()\u001b[0m\n\u001b[0;32m----> 1\u001b[0;31m \u001b[0md\u001b[0m\u001b[0;34m[\u001b[0m\u001b[0;34m'k2'\u001b[0m\u001b[0;34m]\u001b[0m\u001b[0;34m\u001b[0m\u001b[0m\n\u001b[0m",
      "\u001b[0;31mKeyError\u001b[0m: 'k2'"
     ]
    }
   ],
   "source": [
    "d['k2']"
   ]
  },
  {
   "cell_type": "code",
   "execution_count": 10,
   "metadata": {
    "ExecuteTime": {
     "end_time": "2019-03-30T22:16:18.926299Z",
     "start_time": "2019-03-30T22:16:18.913614Z"
    }
   },
   "outputs": [],
   "source": [
    "d = defaultdict(object) # need to be a object"
   ]
  },
  {
   "cell_type": "code",
   "execution_count": 11,
   "metadata": {
    "ExecuteTime": {
     "end_time": "2019-03-30T22:16:19.971176Z",
     "start_time": "2019-03-30T22:16:19.951581Z"
    }
   },
   "outputs": [
    {
     "data": {
      "text/plain": [
       "<object at 0x7fe2e6ee5ba0>"
      ]
     },
     "execution_count": 11,
     "metadata": {},
     "output_type": "execute_result"
    }
   ],
   "source": [
    "d['k2']"
   ]
  },
  {
   "cell_type": "code",
   "execution_count": 12,
   "metadata": {
    "ExecuteTime": {
     "end_time": "2019-03-30T22:16:21.597835Z",
     "start_time": "2019-03-30T22:16:21.581769Z"
    }
   },
   "outputs": [
    {
     "data": {
      "text/plain": [
       "0"
      ]
     },
     "execution_count": 12,
     "metadata": {},
     "output_type": "execute_result"
    }
   ],
   "source": [
    "d = defaultdict(lambda: 0)\n",
    "d['k1']"
   ]
  },
  {
   "cell_type": "code",
   "execution_count": 13,
   "metadata": {
    "ExecuteTime": {
     "end_time": "2019-03-30T22:16:22.126626Z",
     "start_time": "2019-03-30T22:16:22.114204Z"
    }
   },
   "outputs": [
    {
     "data": {
      "text/plain": [
       "0"
      ]
     },
     "execution_count": 13,
     "metadata": {},
     "output_type": "execute_result"
    }
   ],
   "source": [
    "d['k2']"
   ]
  },
  {
   "cell_type": "code",
   "execution_count": 14,
   "metadata": {
    "ExecuteTime": {
     "end_time": "2019-03-30T22:16:22.510606Z",
     "start_time": "2019-03-30T22:16:22.502288Z"
    }
   },
   "outputs": [
    {
     "data": {
      "text/plain": [
       "dict_keys(['k1', 'k2'])"
      ]
     },
     "execution_count": 14,
     "metadata": {},
     "output_type": "execute_result"
    }
   ],
   "source": [
    "d.keys()"
   ]
  },
  {
   "cell_type": "code",
   "execution_count": 15,
   "metadata": {
    "ExecuteTime": {
     "end_time": "2019-03-30T22:16:22.984110Z",
     "start_time": "2019-03-30T22:16:22.974359Z"
    }
   },
   "outputs": [
    {
     "data": {
      "text/plain": [
       "dict_items([('yellow', [1, 3]), ('blue', [2, 4]), ('red', [1])])"
      ]
     },
     "execution_count": 15,
     "metadata": {},
     "output_type": "execute_result"
    }
   ],
   "source": [
    "l = [('yellow', 1), ('blue', 2), ('yellow', 3), ('blue', 4), ('red', 1)]\n",
    "d = defaultdict(list)\n",
    "\n",
    "for k, v in l:\n",
    "    d[k].append(v)\n",
    "d.items()"
   ]
  },
  {
   "cell_type": "markdown",
   "metadata": {},
   "source": [
    "### 89. Collections Module - OrderedDict\n",
    "\n",
    "It is a dictionary subclass that remembers the order of added objects.\n",
    "\n",
    "```python\n",
    "from collections import OrderedDict\n",
    "```"
   ]
  },
  {
   "cell_type": "code",
   "execution_count": 16,
   "metadata": {
    "ExecuteTime": {
     "end_time": "2019-03-30T22:16:24.882022Z",
     "start_time": "2019-03-30T22:16:24.877935Z"
    }
   },
   "outputs": [],
   "source": [
    "from collections import OrderedDict"
   ]
  },
  {
   "cell_type": "code",
   "execution_count": 17,
   "metadata": {
    "ExecuteTime": {
     "end_time": "2019-03-30T22:16:25.200810Z",
     "start_time": "2019-03-30T22:16:25.190787Z"
    }
   },
   "outputs": [
    {
     "data": {
      "text/plain": [
       "{'a': 1, 'b': 2, 'c': 3, 'd': 4, 'e': 5, 'f': 6, 'g': 7, 'h': 8}"
      ]
     },
     "execution_count": 17,
     "metadata": {},
     "output_type": "execute_result"
    }
   ],
   "source": [
    "d = {}\n",
    "\n",
    "d['a'] = 1\n",
    "d['b'] = 2\n",
    "d['c'] = 3\n",
    "d['d'] = 4\n",
    "d['e'] = 5\n",
    "d['f'] = 6\n",
    "d['g'] = 7\n",
    "d['h'] = 8\n",
    "d"
   ]
  },
  {
   "cell_type": "code",
   "execution_count": 18,
   "metadata": {
    "ExecuteTime": {
     "end_time": "2019-03-30T22:16:25.548745Z",
     "start_time": "2019-03-30T22:16:25.537724Z"
    }
   },
   "outputs": [
    {
     "name": "stdout",
     "output_type": "stream",
     "text": [
      "a 1\n",
      "b 2\n",
      "c 3\n",
      "d 4\n",
      "e 5\n",
      "f 6\n",
      "g 7\n",
      "h 8\n"
     ]
    }
   ],
   "source": [
    "for k, v in d.items():\n",
    "    print(k,v)"
   ]
  },
  {
   "cell_type": "code",
   "execution_count": 19,
   "metadata": {
    "ExecuteTime": {
     "end_time": "2019-03-30T22:16:25.971498Z",
     "start_time": "2019-03-30T22:16:25.958420Z"
    }
   },
   "outputs": [
    {
     "data": {
      "text/plain": [
       "OrderedDict([('a', 1),\n",
       "             ('b', 2),\n",
       "             ('c', 3),\n",
       "             ('d', 4),\n",
       "             ('e', 5),\n",
       "             ('f', 6),\n",
       "             ('g', 7),\n",
       "             ('h', 8)])"
      ]
     },
     "execution_count": 19,
     "metadata": {},
     "output_type": "execute_result"
    }
   ],
   "source": [
    "d = OrderedDict()\n",
    "\n",
    "d['a'] = 1\n",
    "d['b'] = 2\n",
    "d['c'] = 3\n",
    "d['d'] = 4\n",
    "d['e'] = 5\n",
    "d['f'] = 6\n",
    "d['g'] = 7\n",
    "d['h'] = 8\n",
    "d"
   ]
  },
  {
   "cell_type": "code",
   "execution_count": 20,
   "metadata": {
    "ExecuteTime": {
     "end_time": "2019-03-30T22:16:26.495818Z",
     "start_time": "2019-03-30T22:16:26.486962Z"
    }
   },
   "outputs": [
    {
     "name": "stdout",
     "output_type": "stream",
     "text": [
      "a 1\n",
      "b 2\n",
      "c 3\n",
      "d 4\n",
      "e 5\n",
      "f 6\n",
      "g 7\n",
      "h 8\n"
     ]
    }
   ],
   "source": [
    "for k, v in d.items():\n",
    "    print(k,v)"
   ]
  },
  {
   "cell_type": "code",
   "execution_count": 21,
   "metadata": {
    "ExecuteTime": {
     "end_time": "2019-03-30T22:16:27.177470Z",
     "start_time": "2019-03-30T22:16:27.165695Z"
    }
   },
   "outputs": [
    {
     "data": {
      "text/plain": [
       "True"
      ]
     },
     "execution_count": 21,
     "metadata": {},
     "output_type": "execute_result"
    }
   ],
   "source": [
    "d1 = {}\n",
    "d1['a'] = 1\n",
    "d1['b'] = 2\n",
    "\n",
    "d2 = {}\n",
    "d2['b'] = 2\n",
    "d2['a'] = 1\n",
    "\n",
    "d1 == d2"
   ]
  },
  {
   "cell_type": "code",
   "execution_count": 22,
   "metadata": {
    "ExecuteTime": {
     "end_time": "2019-03-30T22:16:27.832737Z",
     "start_time": "2019-03-30T22:16:27.819294Z"
    }
   },
   "outputs": [
    {
     "data": {
      "text/plain": [
       "False"
      ]
     },
     "execution_count": 22,
     "metadata": {},
     "output_type": "execute_result"
    }
   ],
   "source": [
    "d1 = OrderedDict()\n",
    "d1['a'] = 1\n",
    "d1['b'] = 2\n",
    "\n",
    "d2 = OrderedDict()\n",
    "d2['b'] = 2\n",
    "d2['a'] = 1\n",
    "\n",
    "d1 == d2 # different order"
   ]
  },
  {
   "cell_type": "markdown",
   "metadata": {},
   "source": [
    "### 90. Collections Module - namedtuple\n",
    "\n",
    "Collection module to set name to a index of tuple.   \n",
    "Can be used as a struct `{keys...}`.   \n",
    "\n",
    "```python\n",
    "from collections import namedtuple\n",
    "```"
   ]
  },
  {
   "cell_type": "code",
   "execution_count": 23,
   "metadata": {
    "ExecuteTime": {
     "end_time": "2019-03-30T22:16:29.077095Z",
     "start_time": "2019-03-30T22:16:29.072862Z"
    }
   },
   "outputs": [],
   "source": [
    "from collections import namedtuple"
   ]
  },
  {
   "cell_type": "code",
   "execution_count": 24,
   "metadata": {
    "ExecuteTime": {
     "end_time": "2019-03-30T22:16:29.996639Z",
     "start_time": "2019-03-30T22:16:29.992068Z"
    }
   },
   "outputs": [],
   "source": [
    "t = (1,2,3)"
   ]
  },
  {
   "cell_type": "code",
   "execution_count": 25,
   "metadata": {
    "ExecuteTime": {
     "end_time": "2019-03-30T22:16:30.497645Z",
     "start_time": "2019-03-30T22:16:30.487808Z"
    }
   },
   "outputs": [
    {
     "data": {
      "text/plain": [
       "3"
      ]
     },
     "execution_count": 25,
     "metadata": {},
     "output_type": "execute_result"
    }
   ],
   "source": [
    "t[2]"
   ]
  },
  {
   "cell_type": "code",
   "execution_count": 26,
   "metadata": {
    "ExecuteTime": {
     "end_time": "2019-03-30T22:16:31.098449Z",
     "start_time": "2019-03-30T22:16:31.092358Z"
    }
   },
   "outputs": [],
   "source": [
    "Dog = namedtuple('Dog', 'age breed name') #name, [columns..]"
   ]
  },
  {
   "cell_type": "code",
   "execution_count": 27,
   "metadata": {
    "ExecuteTime": {
     "end_time": "2019-03-30T22:16:31.988356Z",
     "start_time": "2019-03-30T22:16:31.981556Z"
    }
   },
   "outputs": [
    {
     "data": {
      "text/plain": [
       "Dog(age=2, breed='Lab', name='Sammy')"
      ]
     },
     "execution_count": 27,
     "metadata": {},
     "output_type": "execute_result"
    }
   ],
   "source": [
    "sam = Dog(age=2, breed='Lab', name='Sammy')\n",
    "sam"
   ]
  },
  {
   "cell_type": "code",
   "execution_count": 28,
   "metadata": {
    "ExecuteTime": {
     "end_time": "2019-03-30T22:16:32.648498Z",
     "start_time": "2019-03-30T22:16:32.639331Z"
    }
   },
   "outputs": [
    {
     "data": {
      "text/plain": [
       "(2, 'Lab', 'Sammy')"
      ]
     },
     "execution_count": 28,
     "metadata": {},
     "output_type": "execute_result"
    }
   ],
   "source": [
    "sam.age, sam[1], sam.name"
   ]
  },
  {
   "cell_type": "markdown",
   "metadata": {
    "ExecuteTime": {
     "end_time": "2019-03-30T22:13:57.251074Z",
     "start_time": "2019-03-30T22:13:57.245298Z"
    }
   },
   "source": [
    "### 90.1. Collections Module - deque\n",
    "\n",
    "Queue and stack together.   \n",
    "\n",
    "```python\n",
    "from collections import deque\n",
    "```"
   ]
  },
  {
   "cell_type": "code",
   "execution_count": 29,
   "metadata": {
    "ExecuteTime": {
     "end_time": "2019-03-30T22:16:34.441129Z",
     "start_time": "2019-03-30T22:16:34.434880Z"
    }
   },
   "outputs": [],
   "source": [
    "from collections import deque"
   ]
  },
  {
   "cell_type": "code",
   "execution_count": 30,
   "metadata": {
    "ExecuteTime": {
     "end_time": "2019-03-30T22:16:36.293010Z",
     "start_time": "2019-03-30T22:16:36.288832Z"
    }
   },
   "outputs": [],
   "source": [
    "l = deque()"
   ]
  },
  {
   "cell_type": "code",
   "execution_count": 31,
   "metadata": {
    "ExecuteTime": {
     "end_time": "2019-03-30T22:16:36.727468Z",
     "start_time": "2019-03-30T22:16:36.718744Z"
    }
   },
   "outputs": [
    {
     "data": {
      "text/plain": [
       "deque(['e', 'a', 'b', 'c', 'd'])"
      ]
     },
     "execution_count": 31,
     "metadata": {},
     "output_type": "execute_result"
    }
   ],
   "source": [
    "l.append('a')\n",
    "l.append('b')\n",
    "l.append('c')\n",
    "l.append('d')\n",
    "l.appendleft('e')\n",
    "\n",
    "l"
   ]
  },
  {
   "cell_type": "code",
   "execution_count": 32,
   "metadata": {
    "ExecuteTime": {
     "end_time": "2019-03-30T22:16:37.330443Z",
     "start_time": "2019-03-30T22:16:37.323872Z"
    }
   },
   "outputs": [
    {
     "data": {
      "text/plain": [
       "'d'"
      ]
     },
     "execution_count": 32,
     "metadata": {},
     "output_type": "execute_result"
    }
   ],
   "source": [
    "l.pop()"
   ]
  },
  {
   "cell_type": "code",
   "execution_count": 33,
   "metadata": {
    "ExecuteTime": {
     "end_time": "2019-03-30T22:16:37.786938Z",
     "start_time": "2019-03-30T22:16:37.779468Z"
    }
   },
   "outputs": [
    {
     "data": {
      "text/plain": [
       "deque(['e', 'a', 'b', 'c'])"
      ]
     },
     "execution_count": 33,
     "metadata": {},
     "output_type": "execute_result"
    }
   ],
   "source": [
    "l"
   ]
  },
  {
   "cell_type": "code",
   "execution_count": 34,
   "metadata": {
    "ExecuteTime": {
     "end_time": "2019-03-30T22:16:38.382297Z",
     "start_time": "2019-03-30T22:16:38.373923Z"
    }
   },
   "outputs": [
    {
     "data": {
      "text/plain": [
       "'e'"
      ]
     },
     "execution_count": 34,
     "metadata": {},
     "output_type": "execute_result"
    }
   ],
   "source": [
    "l.popleft()"
   ]
  },
  {
   "cell_type": "code",
   "execution_count": 35,
   "metadata": {
    "ExecuteTime": {
     "end_time": "2019-03-30T22:16:40.541411Z",
     "start_time": "2019-03-30T22:16:40.534496Z"
    }
   },
   "outputs": [
    {
     "data": {
      "text/plain": [
       "deque(['a', 'b', 'c'])"
      ]
     },
     "execution_count": 35,
     "metadata": {},
     "output_type": "execute_result"
    }
   ],
   "source": [
    "l"
   ]
  },
  {
   "cell_type": "code",
   "execution_count": 36,
   "metadata": {
    "ExecuteTime": {
     "end_time": "2019-03-30T22:16:41.149663Z",
     "start_time": "2019-03-30T22:16:41.145008Z"
    }
   },
   "outputs": [],
   "source": [
    "l.rotate(1)"
   ]
  },
  {
   "cell_type": "code",
   "execution_count": 37,
   "metadata": {
    "ExecuteTime": {
     "end_time": "2019-03-30T22:16:41.827122Z",
     "start_time": "2019-03-30T22:16:41.819872Z"
    }
   },
   "outputs": [
    {
     "data": {
      "text/plain": [
       "deque(['c', 'a', 'b'])"
      ]
     },
     "execution_count": 37,
     "metadata": {},
     "output_type": "execute_result"
    }
   ],
   "source": [
    "l"
   ]
  },
  {
   "cell_type": "code",
   "execution_count": 38,
   "metadata": {
    "ExecuteTime": {
     "end_time": "2019-03-30T22:16:54.102221Z",
     "start_time": "2019-03-30T22:16:54.095871Z"
    }
   },
   "outputs": [],
   "source": [
    "l.reverse()"
   ]
  },
  {
   "cell_type": "code",
   "execution_count": 39,
   "metadata": {
    "ExecuteTime": {
     "end_time": "2019-03-30T22:16:55.048122Z",
     "start_time": "2019-03-30T22:16:55.040733Z"
    }
   },
   "outputs": [
    {
     "data": {
      "text/plain": [
       "deque(['b', 'a', 'c'])"
      ]
     },
     "execution_count": 39,
     "metadata": {},
     "output_type": "execute_result"
    }
   ],
   "source": [
    "l"
   ]
  },
  {
   "cell_type": "code",
   "execution_count": null,
   "metadata": {},
   "outputs": [],
   "source": []
  }
 ],
 "metadata": {
  "kernelspec": {
   "display_name": "Python 3",
   "language": "python",
   "name": "python3"
  },
  "language_info": {
   "codemirror_mode": {
    "name": "ipython",
    "version": 3
   },
   "file_extension": ".py",
   "mimetype": "text/x-python",
   "name": "python",
   "nbconvert_exporter": "python",
   "pygments_lexer": "ipython3",
   "version": "3.6.5"
  }
 },
 "nbformat": 4,
 "nbformat_minor": 2
}
