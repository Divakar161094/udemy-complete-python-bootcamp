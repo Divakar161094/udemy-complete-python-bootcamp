{
 "cells": [
  {
   "cell_type": "markdown",
   "metadata": {},
   "source": [
    "## Section 7: Milestone Project - 1\n",
    "\n",
    "54. First Python Milestone Project Overview"
   ]
  },
  {
   "cell_type": "markdown",
   "metadata": {},
   "source": [
    "### 54. First Python Milestone Project Overview\n",
    "\n",
    "Game: Tic Tac Toe   \n",
    "\n",
    "Here are the requirements:\n",
    "- 2 players should be able to play the game (both sitting at the same computer)\n",
    "- The board should be printed out every time a player makes a move\n",
    "- You should be able to accept input of the player position and then place a symbol on the board\n",
    "   \n",
    "Input: numpad:\n",
    "```\n",
    "7 8 9\n",
    "4 5 6\n",
    "1 2 3\n",
    "```"
   ]
  },
  {
   "cell_type": "code",
   "execution_count": 1,
   "metadata": {
    "ExecuteTime": {
     "end_time": "2019-02-03T17:39:28.698301Z",
     "start_time": "2019-02-03T17:39:28.695409Z"
    }
   },
   "outputs": [],
   "source": [
    "# import\n",
    "from IPython.display import clear_output\n",
    "import random"
   ]
  },
  {
   "cell_type": "code",
   "execution_count": 2,
   "metadata": {
    "ExecuteTime": {
     "end_time": "2019-02-03T17:39:28.823928Z",
     "start_time": "2019-02-03T17:39:28.708359Z"
    }
   },
   "outputs": [],
   "source": [
    "def display_board(board):\n",
    "    clear_output()\n",
    "    print(' {} | {} | {} \\n-----------'.format(board[7], board[8], board[9]))\n",
    "    print(' {} | {} | {} \\n-----------'.format(board[4], board[5], board[6]))\n",
    "    print(' {} | {} | {} '.format(board[1], board[2], board[3]))"
   ]
  },
  {
   "cell_type": "code",
   "execution_count": 3,
   "metadata": {
    "ExecuteTime": {
     "end_time": "2019-02-03T17:39:28.957293Z",
     "start_time": "2019-02-03T17:39:28.826168Z"
    }
   },
   "outputs": [],
   "source": [
    "def player_input(rule, msg):\n",
    "    player = '0'\n",
    "    while not rule(player):\n",
    "        player = input(msg)\n",
    "    return player"
   ]
  },
  {
   "cell_type": "code",
   "execution_count": 4,
   "metadata": {
    "ExecuteTime": {
     "end_time": "2019-02-03T17:39:29.212279Z",
     "start_time": "2019-02-03T17:39:28.959454Z"
    }
   },
   "outputs": [],
   "source": [
    "def choose_first():\n",
    "    choose = random.choice(['X', 'O'])\n",
    "    print('First to play: {!r}'.format(choose))\n",
    "    return choose"
   ]
  },
  {
   "cell_type": "code",
   "execution_count": 5,
   "metadata": {
    "ExecuteTime": {
     "end_time": "2019-02-03T17:39:29.334551Z",
     "start_time": "2019-02-03T17:39:29.215007Z"
    }
   },
   "outputs": [],
   "source": [
    "def space_check(board, position):\n",
    "    return (board[position] == ' ')"
   ]
  },
  {
   "cell_type": "code",
   "execution_count": 6,
   "metadata": {
    "ExecuteTime": {
     "end_time": "2019-02-03T17:39:29.534212Z",
     "start_time": "2019-02-03T17:39:29.336724Z"
    }
   },
   "outputs": [],
   "source": [
    "def place_marker(board, marker, position):\n",
    "    board[position] = marker"
   ]
  },
  {
   "cell_type": "code",
   "execution_count": 7,
   "metadata": {
    "ExecuteTime": {
     "end_time": "2019-02-03T17:39:29.655777Z",
     "start_time": "2019-02-03T17:39:29.536725Z"
    }
   },
   "outputs": [],
   "source": [
    "def win_check(board, mark):\n",
    "    return (board[1] == mark and board[2] == mark and board[3] == mark) or \\\n",
    "        (board[4] == mark and board[5] == mark and board[6] == mark) or \\\n",
    "        (board[7] == mark and board[8] == mark and board[9] == mark) or \\\n",
    "        (board[1] == mark and board[4] == mark and board[7] == mark) or \\\n",
    "        (board[2] == mark and board[5] == mark and board[8] == mark) or \\\n",
    "        (board[3] == mark and board[6] == mark and board[9] == mark) or \\\n",
    "        (board[1] == mark and board[5] == mark and board[9] == mark) or \\\n",
    "        (board[3] == mark and board[5] == mark and board[7] == mark)"
   ]
  },
  {
   "cell_type": "code",
   "execution_count": 8,
   "metadata": {
    "ExecuteTime": {
     "end_time": "2019-02-03T17:39:29.855820Z",
     "start_time": "2019-02-03T17:39:29.657981Z"
    }
   },
   "outputs": [],
   "source": [
    "def full_board_check(board):\n",
    "    return not (' ' in board)"
   ]
  },
  {
   "cell_type": "code",
   "execution_count": 9,
   "metadata": {
    "ExecuteTime": {
     "end_time": "2019-02-03T17:39:29.977813Z",
     "start_time": "2019-02-03T17:39:29.858282Z"
    }
   },
   "outputs": [],
   "source": [
    "def replay():\n",
    "    rule = lambda x: x == 'y' or x == 'n'\n",
    "    again = player_input(rule, \"Replay ('y' or 'n'): \")\n",
    "    return (again == 'y')"
   ]
  },
  {
   "cell_type": "code",
   "execution_count": 10,
   "metadata": {
    "ExecuteTime": {
     "end_time": "2019-02-03T17:39:40.996859Z",
     "start_time": "2019-02-03T17:39:29.980349Z"
    }
   },
   "outputs": [
    {
     "name": "stdout",
     "output_type": "stream",
     "text": [
      " O |   |   \n",
      "-----------\n",
      " X | O | X \n",
      "-----------\n",
      " O | X | O \n",
      "- Player 2 win!\n",
      "Replay ('y' or 'n'): n\n"
     ]
    }
   ],
   "source": [
    "print('Welcome to Tic Tac Toe!')\n",
    "\n",
    "while True:\n",
    "    # Set the game up here\n",
    "    clear_output()\n",
    "    board = ['#'] + [' ']*9\n",
    "    # choose a stone\n",
    "    rule = lambda x: x in 'XO'\n",
    "    player1 = player_input(rule, \"Please pick a marker 'X' or 'O': \")\n",
    "    player2 = 'X' if (player1 == 'O') else 'O'\n",
    "    # choose firts\n",
    "    to_play = choose_first()\n",
    "\n",
    "    game_on = True\n",
    "    while game_on:\n",
    "        # choose a location\n",
    "        position = 0\n",
    "        display_board(board)\n",
    "        while not space_check(board, position):\n",
    "            rule = lambda x: 0 < int(x) < 10\n",
    "            to_player = '1' if (player1 == to_play) else '2'\n",
    "            position = int(player_input(rule, 'Player {} enter a number (1-9): '.format(to_player)))\n",
    "        place_marker(board, to_play, position)\n",
    "        \n",
    "        # check board\n",
    "        if win_check(board, to_play):\n",
    "            display_board(board)\n",
    "            print('- Player {} win!'.format(to_player))\n",
    "            game_on = False\n",
    "        elif full_board_check(board):\n",
    "            display_board(board)\n",
    "            print('- Draw')\n",
    "            game_on = False\n",
    "        \n",
    "        # change player to play\n",
    "        to_play = 'X' if(to_play == 'O') else 'O'\n",
    "    \n",
    "    # play again?\n",
    "    if not replay():\n",
    "        break"
   ]
  },
  {
   "cell_type": "markdown",
   "metadata": {
    "ExecuteTime": {
     "end_time": "2019-02-02T20:57:04.106970Z",
     "start_time": "2019-02-02T20:57:04.101420Z"
    }
   },
   "source": []
  }
 ],
 "metadata": {
  "kernelspec": {
   "display_name": "Python 3",
   "language": "python",
   "name": "python3"
  },
  "language_info": {
   "codemirror_mode": {
    "name": "ipython",
    "version": 3
   },
   "file_extension": ".py",
   "mimetype": "text/x-python",
   "name": "python",
   "nbconvert_exporter": "python",
   "pygments_lexer": "ipython3",
   "version": "3.6.5"
  }
 },
 "nbformat": 4,
 "nbformat_minor": 2
}
