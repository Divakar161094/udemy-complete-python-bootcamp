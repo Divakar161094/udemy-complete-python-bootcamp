{
 "cells": [
  {
   "cell_type": "markdown",
   "metadata": {},
   "source": [
    "## Section 9: Modules and Packages\n",
    "\n",
    "68. Pip Install and PyPi\n",
    "69. Modules and Packages\n",
    "70. __name__ and \"__main__\""
   ]
  },
  {
   "cell_type": "markdown",
   "metadata": {},
   "source": [
    "### 68. Pip Install and PyPi\n",
    "\n",
    "PyPi is a packgist of Python Classes.   \n",
    "`pip install 'package'` to install the packages.   \n",
    "\n",
    "```shell\n",
    "# Upgrade the 'pip'\n",
    "pip install --upgrade pip\n",
    "\n",
    "# Install some packages\n",
    "pip install requests\n",
    "pip install colorama\n",
    "```\n",
    "\n",
    "How work with Excel? Shearching in Google `python package for Excel`:\n",
    "\n",
    "```shell\n",
    "# https://pypi.org/project/openpyxl/\n",
    "pip install pillow\n",
    "pip install openpyxl\n",
    "```"
   ]
  },
  {
   "cell_type": "code",
   "execution_count": 1,
   "metadata": {
    "ExecuteTime": {
     "end_time": "2019-02-16T21:40:52.777031Z",
     "start_time": "2019-02-16T21:40:52.765659Z"
    }
   },
   "outputs": [
    {
     "name": "stdout",
     "output_type": "stream",
     "text": [
      "green text\n"
     ]
    }
   ],
   "source": [
    "from colorama import init\n",
    "from colorama import Fore\n",
    "\n",
    "init()\n",
    "print(Fore.GREEN + \"green text\") # works on terminal"
   ]
  },
  {
   "cell_type": "markdown",
   "metadata": {},
   "source": [
    "### 69. Modules and Packages\n",
    "\n",
    "Running the codes in _terminal_.   \n",
    "See in folder `python`:   \n",
    "- main.py\n",
    "- mymodule.py\n",
    "- mypackage/\n",
    "\n",
    "Add `__init__.py` file in a folder to declare this is a Python package.   "
   ]
  },
  {
   "cell_type": "markdown",
   "metadata": {},
   "source": [
    "### 70. __name__ and \"__main__\"\n",
    "\n",
    "Check if the code is the main using `if`:\n",
    "```python\n",
    "if __name__ == '__main__':\n",
    "```"
   ]
  },
  {
   "cell_type": "code",
   "execution_count": null,
   "metadata": {},
   "outputs": [],
   "source": []
  }
 ],
 "metadata": {
  "kernelspec": {
   "display_name": "Python 3",
   "language": "python",
   "name": "python3"
  },
  "language_info": {
   "codemirror_mode": {
    "name": "ipython",
    "version": 3
   },
   "file_extension": ".py",
   "mimetype": "text/x-python",
   "name": "python",
   "nbconvert_exporter": "python",
   "pygments_lexer": "ipython3",
   "version": "3.6.5"
  }
 },
 "nbformat": 4,
 "nbformat_minor": 2
}
