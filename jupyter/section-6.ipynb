{
 "cells": [
  {
   "cell_type": "markdown",
   "metadata": {},
   "source": [
    "## Section 6: Methods and Functions\n",
    "\n",
    "40. Methods and Python Documentation\n",
    "41. Functions in Python\n",
    "42. Overview of Quick Functions Exercices \\#1-10\n",
    "43. \\*args and \\*\\*kwargs in Python\n",
    "44. Function Pratice - Exercises\n",
    "45. - Exercises\n",
    "46. - Exercises\n",
    "47. - Exercises\n",
    "48. - Exercises\n",
    "49. Lambda Expressions, Map and Filter Functions\n",
    "50. Nested Statements and Scope\n",
    "51. Homework"
   ]
  },
  {
   "cell_type": "markdown",
   "metadata": {},
   "source": [
    "### 40. Methods and Python Documentation\n",
    "\n",
    "Methods are functions built into objects.   \n",
    "In _Jupyter Notebook_, you can check the methods os a object by typing `object.` and press `Tab`.   \n",
    "In Python, you can use `help(func)` to see the args of a `func`.   \n",
    "Link: [Documentation](https://docs.python.org/3/).   "
   ]
  },
  {
   "cell_type": "code",
   "execution_count": 1,
   "metadata": {
    "ExecuteTime": {
     "end_time": "2019-01-26T22:09:59.909791Z",
     "start_time": "2019-01-26T22:09:59.898730Z"
    },
    "scrolled": true
   },
   "outputs": [
    {
     "name": "stdout",
     "output_type": "stream",
     "text": [
      "Help on method_descriptor:\n",
      "\n",
      "insert(...)\n",
      "    L.insert(index, object) -- insert object before index\n",
      "\n"
     ]
    }
   ],
   "source": [
    "help(list.insert)"
   ]
  },
  {
   "cell_type": "markdown",
   "metadata": {},
   "source": [
    "### 41. Functions in Python"
   ]
  },
  {
   "cell_type": "code",
   "execution_count": 2,
   "metadata": {
    "ExecuteTime": {
     "end_time": "2019-01-26T22:10:00.058725Z",
     "start_time": "2019-01-26T22:09:59.920440Z"
    }
   },
   "outputs": [],
   "source": [
    "def fuction_name(name):\n",
    "    '''\n",
    "    fuction(str). -- say hello to 'str'\n",
    "    input:\n",
    "        name: person name\n",
    "    '''\n",
    "    print(f'Hello {name}!')"
   ]
  },
  {
   "cell_type": "code",
   "execution_count": 3,
   "metadata": {
    "ExecuteTime": {
     "end_time": "2019-01-26T22:10:00.193733Z",
     "start_time": "2019-01-26T22:10:00.062302Z"
    }
   },
   "outputs": [
    {
     "name": "stdout",
     "output_type": "stream",
     "text": [
      "Help on function fuction_name in module __main__:\n",
      "\n",
      "fuction_name(name)\n",
      "    fuction(str). -- say hello to 'str'\n",
      "    input:\n",
      "        name: person name\n",
      "\n"
     ]
    }
   ],
   "source": [
    "help(fuction_name)"
   ]
  },
  {
   "cell_type": "code",
   "execution_count": 4,
   "metadata": {
    "ExecuteTime": {
     "end_time": "2019-01-26T22:10:00.336109Z",
     "start_time": "2019-01-26T22:10:00.198347Z"
    }
   },
   "outputs": [
    {
     "name": "stdout",
     "output_type": "stream",
     "text": [
      "Hello Leonardo!\n"
     ]
    }
   ],
   "source": [
    "fuction_name('Leonardo')"
   ]
  },
  {
   "cell_type": "code",
   "execution_count": 5,
   "metadata": {
    "ExecuteTime": {
     "end_time": "2019-01-26T22:10:00.480164Z",
     "start_time": "2019-01-26T22:10:00.340626Z"
    }
   },
   "outputs": [],
   "source": [
    "def add_function(val1, val2):\n",
    "    return (val1 + val2)"
   ]
  },
  {
   "cell_type": "code",
   "execution_count": 6,
   "metadata": {
    "ExecuteTime": {
     "end_time": "2019-01-26T22:10:00.620381Z",
     "start_time": "2019-01-26T22:10:00.486723Z"
    }
   },
   "outputs": [
    {
     "data": {
      "text/plain": [
       "3"
      ]
     },
     "execution_count": 6,
     "metadata": {},
     "output_type": "execute_result"
    }
   ],
   "source": [
    "result = add_function(1, 2)\n",
    "result"
   ]
  },
  {
   "cell_type": "code",
   "execution_count": 7,
   "metadata": {
    "ExecuteTime": {
     "end_time": "2019-01-26T22:10:00.756890Z",
     "start_time": "2019-01-26T22:10:00.624290Z"
    }
   },
   "outputs": [],
   "source": [
    "def say_hello(name='predefined'):\n",
    "    print('Hey {n}!'.format(n=name))"
   ]
  },
  {
   "cell_type": "code",
   "execution_count": 8,
   "metadata": {
    "ExecuteTime": {
     "end_time": "2019-01-26T22:10:00.891334Z",
     "start_time": "2019-01-26T22:10:00.762101Z"
    }
   },
   "outputs": [
    {
     "name": "stdout",
     "output_type": "stream",
     "text": [
      "Hey predefined!\n"
     ]
    }
   ],
   "source": [
    "say_hello()"
   ]
  },
  {
   "cell_type": "code",
   "execution_count": 9,
   "metadata": {
    "ExecuteTime": {
     "end_time": "2019-01-26T22:10:01.045649Z",
     "start_time": "2019-01-26T22:10:00.895882Z"
    }
   },
   "outputs": [
    {
     "name": "stdout",
     "output_type": "stream",
     "text": [
      "Hey Bob!\n"
     ]
    }
   ],
   "source": [
    "say_hello('Bob')"
   ]
  },
  {
   "cell_type": "code",
   "execution_count": 10,
   "metadata": {
    "ExecuteTime": {
     "end_time": "2019-01-26T22:10:01.200058Z",
     "start_time": "2019-01-26T22:10:01.049195Z"
    }
   },
   "outputs": [],
   "source": [
    "# Check if a 'word' is in a 'string'\n",
    "\n",
    "def check_word(word, string):\n",
    "    '''\n",
    "    fuction(str, str). -- Check if a 'word' is in a 'string'\n",
    "    input:\n",
    "        word: word to check\n",
    "        string: big string\n",
    "    return:\n",
    "        bool: True or False\n",
    "    '''\n",
    "    return (word.lower() in string.lower())"
   ]
  },
  {
   "cell_type": "code",
   "execution_count": 11,
   "metadata": {
    "ExecuteTime": {
     "end_time": "2019-01-26T22:10:01.556059Z",
     "start_time": "2019-01-26T22:10:01.203687Z"
    }
   },
   "outputs": [
    {
     "data": {
      "text/plain": [
       "True"
      ]
     },
     "execution_count": 11,
     "metadata": {},
     "output_type": "execute_result"
    }
   ],
   "source": [
    "check_word('dog', 'Dog is eating.')"
   ]
  },
  {
   "cell_type": "code",
   "execution_count": 12,
   "metadata": {
    "ExecuteTime": {
     "end_time": "2019-01-26T22:10:02.135206Z",
     "start_time": "2019-01-26T22:10:01.560382Z"
    }
   },
   "outputs": [
    {
     "name": "stdout",
     "output_type": "stream",
     "text": [
      "Help on function check_word in module __main__:\n",
      "\n",
      "check_word(word, string)\n",
      "    fuction(str, str). -- Check if a 'word' is in a 'string'\n",
      "    input:\n",
      "        word: word to check\n",
      "        string: big string\n",
      "    return:\n",
      "        bool: True or False\n",
      "\n"
     ]
    }
   ],
   "source": [
    "help(check_word)"
   ]
  },
  {
   "cell_type": "code",
   "execution_count": 13,
   "metadata": {
    "ExecuteTime": {
     "end_time": "2019-01-26T22:10:02.323228Z",
     "start_time": "2019-01-26T22:10:02.138626Z"
    }
   },
   "outputs": [],
   "source": [
    "def pig_latin(word):\n",
    "    if word[0] == 'a' or word[0] == 'e' or word[0] == 'i' or \\\n",
    "       word[0] == 'o' or word[0] == 'u':\n",
    "        return (word + 'ay')\n",
    "    else:\n",
    "        return (word[1:] + word[0] + 'ay')"
   ]
  },
  {
   "cell_type": "code",
   "execution_count": 14,
   "metadata": {
    "ExecuteTime": {
     "end_time": "2019-01-26T22:10:02.453870Z",
     "start_time": "2019-01-26T22:10:02.326509Z"
    }
   },
   "outputs": [],
   "source": [
    "def pig_latin(word): # better way\n",
    "    if word[0] in 'aeiou':\n",
    "        return (word + 'ay')\n",
    "    else:\n",
    "        return (word[1:] + word[0] + 'ay')"
   ]
  },
  {
   "cell_type": "code",
   "execution_count": 15,
   "metadata": {
    "ExecuteTime": {
     "end_time": "2019-01-26T22:10:02.581849Z",
     "start_time": "2019-01-26T22:10:02.459691Z"
    }
   },
   "outputs": [
    {
     "data": {
      "text/plain": [
       "'ordway'"
      ]
     },
     "execution_count": 15,
     "metadata": {},
     "output_type": "execute_result"
    }
   ],
   "source": [
    "pig_latin('word')"
   ]
  },
  {
   "cell_type": "code",
   "execution_count": 16,
   "metadata": {
    "ExecuteTime": {
     "end_time": "2019-01-26T22:10:02.752701Z",
     "start_time": "2019-01-26T22:10:02.587029Z"
    }
   },
   "outputs": [
    {
     "data": {
      "text/plain": [
       "'appleay'"
      ]
     },
     "execution_count": 16,
     "metadata": {},
     "output_type": "execute_result"
    }
   ],
   "source": [
    "pig_latin('apple')"
   ]
  },
  {
   "cell_type": "markdown",
   "metadata": {},
   "source": [
    "### 43. \\*args and \\*\\*kwargs in Python\n",
    "\n",
    "- `*args`: is a tuple of args.\n",
    "- `**kwargs`: is a dict of args (keywords).\n",
    "\n",
    "**Note**: preserve the order."
   ]
  },
  {
   "cell_type": "code",
   "execution_count": 17,
   "metadata": {
    "ExecuteTime": {
     "end_time": "2019-01-26T22:10:02.864464Z",
     "start_time": "2019-01-26T22:10:02.756991Z"
    }
   },
   "outputs": [],
   "source": [
    "def myfunc(a,b):\n",
    "    # Returns 5% of the sum of 'a' and 'b'\n",
    "    return (sum((a,b)) * 0.05)"
   ]
  },
  {
   "cell_type": "code",
   "execution_count": 18,
   "metadata": {
    "ExecuteTime": {
     "end_time": "2019-01-26T22:10:03.009822Z",
     "start_time": "2019-01-26T22:10:02.868993Z"
    }
   },
   "outputs": [
    {
     "data": {
      "text/plain": [
       "5.0"
      ]
     },
     "execution_count": 18,
     "metadata": {},
     "output_type": "execute_result"
    }
   ],
   "source": [
    "myfunc(40,60)"
   ]
  },
  {
   "cell_type": "code",
   "execution_count": 19,
   "metadata": {
    "ExecuteTime": {
     "end_time": "2019-01-26T22:10:03.152656Z",
     "start_time": "2019-01-26T22:10:03.014065Z"
    }
   },
   "outputs": [],
   "source": [
    "#Multiple *args\n",
    "def myfunc(*args):\n",
    "    return (sum(args) * 0.05)"
   ]
  },
  {
   "cell_type": "code",
   "execution_count": 20,
   "metadata": {
    "ExecuteTime": {
     "end_time": "2019-01-26T22:10:03.302710Z",
     "start_time": "2019-01-26T22:10:03.155762Z"
    }
   },
   "outputs": [
    {
     "data": {
      "text/plain": [
       "11.55"
      ]
     },
     "execution_count": 20,
     "metadata": {},
     "output_type": "execute_result"
    }
   ],
   "source": [
    "myfunc(40,60,100,1,30)"
   ]
  },
  {
   "cell_type": "code",
   "execution_count": 21,
   "metadata": {
    "ExecuteTime": {
     "end_time": "2019-01-26T22:10:03.442487Z",
     "start_time": "2019-01-26T22:10:03.306150Z"
    }
   },
   "outputs": [],
   "source": [
    "def myfunc(**kwargs):\n",
    "    print(kwargs)"
   ]
  },
  {
   "cell_type": "code",
   "execution_count": 22,
   "metadata": {
    "ExecuteTime": {
     "end_time": "2019-01-26T22:10:03.576408Z",
     "start_time": "2019-01-26T22:10:03.445612Z"
    }
   },
   "outputs": [
    {
     "name": "stdout",
     "output_type": "stream",
     "text": [
      "{'fruit': 'apple', 'another': 'grape'}\n"
     ]
    }
   ],
   "source": [
    "myfunc(fruit='apple', another='grape')"
   ]
  },
  {
   "cell_type": "code",
   "execution_count": 23,
   "metadata": {
    "ExecuteTime": {
     "end_time": "2019-01-26T22:10:03.698155Z",
     "start_time": "2019-01-26T22:10:03.583908Z"
    }
   },
   "outputs": [],
   "source": [
    "def myfunc(*args,**kwargs):\n",
    "    print('*args', args)\n",
    "    print('**kwargs', kwargs)"
   ]
  },
  {
   "cell_type": "code",
   "execution_count": 24,
   "metadata": {
    "ExecuteTime": {
     "end_time": "2019-01-26T22:10:03.846425Z",
     "start_time": "2019-01-26T22:10:03.703702Z"
    }
   },
   "outputs": [
    {
     "name": "stdout",
     "output_type": "stream",
     "text": [
      "*args (10, 20, 30)\n",
      "**kwargs {'key1': 'val1', 'key2': 'val2'}\n"
     ]
    }
   ],
   "source": [
    "myfunc(10,20,30,key1='val1',key2='val2')"
   ]
  },
  {
   "cell_type": "markdown",
   "metadata": {},
   "source": [
    "### 49. Lambda Expressions, Map and Filter Functions\n",
    "\n",
    "```python\n",
    "map(func, *iterables)\n",
    "```"
   ]
  },
  {
   "cell_type": "code",
   "execution_count": 25,
   "metadata": {
    "ExecuteTime": {
     "end_time": "2019-01-26T22:10:03.963380Z",
     "start_time": "2019-01-26T22:10:03.855708Z"
    }
   },
   "outputs": [],
   "source": [
    "def square(num):\n",
    "    return num**2"
   ]
  },
  {
   "cell_type": "code",
   "execution_count": 26,
   "metadata": {
    "ExecuteTime": {
     "end_time": "2019-01-26T22:10:04.073167Z",
     "start_time": "2019-01-26T22:10:03.966111Z"
    }
   },
   "outputs": [],
   "source": [
    "nums = [1,2,3,4,5,6,7,8,9,10]"
   ]
  },
  {
   "cell_type": "code",
   "execution_count": 27,
   "metadata": {
    "ExecuteTime": {
     "end_time": "2019-01-26T22:10:04.208814Z",
     "start_time": "2019-01-26T22:10:04.076638Z"
    }
   },
   "outputs": [
    {
     "data": {
      "text/plain": [
       "[1, 4, 9, 16, 25, 36, 49, 64, 81, 100]"
      ]
     },
     "execution_count": 27,
     "metadata": {},
     "output_type": "execute_result"
    }
   ],
   "source": [
    "[item for item in map(square, nums)]"
   ]
  },
  {
   "cell_type": "code",
   "execution_count": 28,
   "metadata": {
    "ExecuteTime": {
     "end_time": "2019-01-26T22:10:04.356517Z",
     "start_time": "2019-01-26T22:10:04.211467Z"
    }
   },
   "outputs": [
    {
     "data": {
      "text/plain": [
       "[1, 4, 9, 16, 25, 36, 49, 64, 81, 100]"
      ]
     },
     "execution_count": 28,
     "metadata": {},
     "output_type": "execute_result"
    }
   ],
   "source": [
    "list(map(square, nums))"
   ]
  },
  {
   "cell_type": "code",
   "execution_count": 29,
   "metadata": {
    "ExecuteTime": {
     "end_time": "2019-01-26T22:10:04.484064Z",
     "start_time": "2019-01-26T22:10:04.359947Z"
    }
   },
   "outputs": [],
   "source": [
    "def splicer(string):\n",
    "    return 'EVEN' if (len(string)%2==0) else string[0]"
   ]
  },
  {
   "cell_type": "code",
   "execution_count": 30,
   "metadata": {
    "ExecuteTime": {
     "end_time": "2019-01-26T22:10:04.629859Z",
     "start_time": "2019-01-26T22:10:04.486779Z"
    }
   },
   "outputs": [],
   "source": [
    "names = ['Andy', 'Eve', 'Sally']"
   ]
  },
  {
   "cell_type": "code",
   "execution_count": 31,
   "metadata": {
    "ExecuteTime": {
     "end_time": "2019-01-26T22:10:04.776759Z",
     "start_time": "2019-01-26T22:10:04.635476Z"
    }
   },
   "outputs": [
    {
     "data": {
      "text/plain": [
       "['EVEN', 'E', 'S']"
      ]
     },
     "execution_count": 31,
     "metadata": {},
     "output_type": "execute_result"
    }
   ],
   "source": [
    "list(map(splicer, names))"
   ]
  },
  {
   "cell_type": "code",
   "execution_count": 32,
   "metadata": {
    "ExecuteTime": {
     "end_time": "2019-01-26T22:10:04.896993Z",
     "start_time": "2019-01-26T22:10:04.779391Z"
    }
   },
   "outputs": [
    {
     "data": {
      "text/plain": [
       "[2.0, 3.0, 4.0, 5.0]"
      ]
     },
     "execution_count": 32,
     "metadata": {},
     "output_type": "execute_result"
    }
   ],
   "source": [
    "import math\n",
    "list(map(math.sqrt, [4, 9, 16, 25]))"
   ]
  },
  {
   "cell_type": "code",
   "execution_count": 33,
   "metadata": {
    "ExecuteTime": {
     "end_time": "2019-01-26T22:10:05.016330Z",
     "start_time": "2019-01-26T22:10:04.899656Z"
    }
   },
   "outputs": [],
   "source": [
    "def check_even(num):\n",
    "    return (num%2==0)"
   ]
  },
  {
   "cell_type": "code",
   "execution_count": 34,
   "metadata": {
    "ExecuteTime": {
     "end_time": "2019-01-26T22:10:05.149126Z",
     "start_time": "2019-01-26T22:10:05.019338Z"
    }
   },
   "outputs": [],
   "source": [
    "nums = [1,2,3,4,5,6,7,8,9,10]"
   ]
  },
  {
   "cell_type": "code",
   "execution_count": 35,
   "metadata": {
    "ExecuteTime": {
     "end_time": "2019-01-26T22:10:05.395256Z",
     "start_time": "2019-01-26T22:10:05.151749Z"
    }
   },
   "outputs": [
    {
     "data": {
      "text/plain": [
       "[2, 4, 6, 8, 10]"
      ]
     },
     "execution_count": 35,
     "metadata": {},
     "output_type": "execute_result"
    }
   ],
   "source": [
    "list(filter(check_even, nums))"
   ]
  },
  {
   "cell_type": "code",
   "execution_count": 36,
   "metadata": {
    "ExecuteTime": {
     "end_time": "2019-01-26T22:10:05.516627Z",
     "start_time": "2019-01-26T22:10:05.398110Z"
    }
   },
   "outputs": [],
   "source": [
    "def square(num):\n",
    "    return (num**2)"
   ]
  },
  {
   "cell_type": "code",
   "execution_count": 37,
   "metadata": {
    "ExecuteTime": {
     "end_time": "2019-01-26T22:10:05.642089Z",
     "start_time": "2019-01-26T22:10:05.521096Z"
    }
   },
   "outputs": [
    {
     "data": {
      "text/plain": [
       "16"
      ]
     },
     "execution_count": 37,
     "metadata": {},
     "output_type": "execute_result"
    }
   ],
   "source": [
    "square(4)"
   ]
  },
  {
   "cell_type": "code",
   "execution_count": 38,
   "metadata": {
    "ExecuteTime": {
     "end_time": "2019-01-26T22:10:05.760718Z",
     "start_time": "2019-01-26T22:10:05.645319Z"
    }
   },
   "outputs": [],
   "source": [
    "square = lambda num: num**2"
   ]
  },
  {
   "cell_type": "code",
   "execution_count": 39,
   "metadata": {
    "ExecuteTime": {
     "end_time": "2019-01-26T22:10:05.896831Z",
     "start_time": "2019-01-26T22:10:05.767072Z"
    }
   },
   "outputs": [
    {
     "data": {
      "text/plain": [
       "16"
      ]
     },
     "execution_count": 39,
     "metadata": {},
     "output_type": "execute_result"
    }
   ],
   "source": [
    "square(4)"
   ]
  },
  {
   "cell_type": "code",
   "execution_count": 40,
   "metadata": {
    "ExecuteTime": {
     "end_time": "2019-01-26T22:10:06.028316Z",
     "start_time": "2019-01-26T22:10:05.900692Z"
    }
   },
   "outputs": [
    {
     "data": {
      "text/plain": [
       "[2, 4, 6, 8, 10]"
      ]
     },
     "execution_count": 40,
     "metadata": {},
     "output_type": "execute_result"
    }
   ],
   "source": [
    "list(filter(lambda x: (x%2==0), nums))"
   ]
  },
  {
   "cell_type": "code",
   "execution_count": 41,
   "metadata": {
    "ExecuteTime": {
     "end_time": "2019-01-26T22:10:06.175192Z",
     "start_time": "2019-01-26T22:10:06.031396Z"
    }
   },
   "outputs": [
    {
     "data": {
      "text/plain": [
       "['Andy', 'Eve', 'Sally']"
      ]
     },
     "execution_count": 41,
     "metadata": {},
     "output_type": "execute_result"
    }
   ],
   "source": [
    "names"
   ]
  },
  {
   "cell_type": "code",
   "execution_count": 42,
   "metadata": {
    "ExecuteTime": {
     "end_time": "2019-01-26T22:10:06.350025Z",
     "start_time": "2019-01-26T22:10:06.179296Z"
    }
   },
   "outputs": [
    {
     "data": {
      "text/plain": [
       "['andy', 'eve', 'sally']"
      ]
     },
     "execution_count": 42,
     "metadata": {},
     "output_type": "execute_result"
    }
   ],
   "source": [
    "list(map(lambda x:x.lower(), names))"
   ]
  },
  {
   "cell_type": "markdown",
   "metadata": {},
   "source": [
    "### 50. Nested Statements and Scope"
   ]
  },
  {
   "cell_type": "code",
   "execution_count": 43,
   "metadata": {
    "ExecuteTime": {
     "end_time": "2019-01-26T22:10:06.470727Z",
     "start_time": "2019-01-26T22:10:06.354223Z"
    }
   },
   "outputs": [],
   "source": [
    "x = 25\n",
    "\n",
    "def printer():\n",
    "    x = 50\n",
    "    return x # only in this scope"
   ]
  },
  {
   "cell_type": "code",
   "execution_count": 44,
   "metadata": {
    "ExecuteTime": {
     "end_time": "2019-01-26T22:10:06.581866Z",
     "start_time": "2019-01-26T22:10:06.474523Z"
    }
   },
   "outputs": [
    {
     "name": "stdout",
     "output_type": "stream",
     "text": [
      "25\n"
     ]
    }
   ],
   "source": [
    "print(x)"
   ]
  },
  {
   "cell_type": "code",
   "execution_count": 45,
   "metadata": {
    "ExecuteTime": {
     "end_time": "2019-01-26T22:10:06.704108Z",
     "start_time": "2019-01-26T22:10:06.584976Z"
    }
   },
   "outputs": [
    {
     "name": "stdout",
     "output_type": "stream",
     "text": [
      "50\n"
     ]
    }
   ],
   "source": [
    "print(printer())"
   ]
  },
  {
   "cell_type": "code",
   "execution_count": 46,
   "metadata": {
    "ExecuteTime": {
     "end_time": "2019-01-26T22:10:06.925517Z",
     "start_time": "2019-01-26T22:10:06.708400Z"
    }
   },
   "outputs": [
    {
     "name": "stdout",
     "output_type": "stream",
     "text": [
      "25\n"
     ]
    }
   ],
   "source": [
    "print(x)"
   ]
  },
  {
   "cell_type": "markdown",
   "metadata": {},
   "source": [
    "**LEGB Rule:**\n",
    "\n",
    "- L: Local — Names assigned in any way within a function (def or lambda), and not declared global in that function.\n",
    "- E: Enclosing function locals — Names in the local scope of any and all enclosing functions (def or lambda), from inner to outer.\n",
    "- G: Global (module) — Names assigned at the top-level of a module file, or declared global in a def within the file.\n",
    "- B: Built-in (Python) — Names preassigned in the built-in names module : open, range, SyntaxError,..."
   ]
  },
  {
   "cell_type": "code",
   "execution_count": 47,
   "metadata": {
    "ExecuteTime": {
     "end_time": "2019-01-26T22:10:07.047669Z",
     "start_time": "2019-01-26T22:10:06.929178Z"
    }
   },
   "outputs": [
    {
     "name": "stdout",
     "output_type": "stream",
     "text": [
      "Before calling func(), x is:  50\n",
      "This function is now using the global x!\n",
      "Because of global x is:  50\n",
      "Ran func(), changed global x to 2\n",
      "Value of x (outside of func()) is:  2\n"
     ]
    }
   ],
   "source": [
    "x = 50\n",
    "\n",
    "def func():\n",
    "    global x\n",
    "    print('This function is now using the global x!')\n",
    "    print('Because of global x is: ', x)\n",
    "    x = 2\n",
    "    print('Ran func(), changed global x to', x)\n",
    "\n",
    "print('Before calling func(), x is: ', x)\n",
    "func()\n",
    "print('Value of x (outside of func()) is: ', x)"
   ]
  },
  {
   "cell_type": "code",
   "execution_count": 48,
   "metadata": {
    "ExecuteTime": {
     "end_time": "2019-01-26T22:10:07.262560Z",
     "start_time": "2019-01-26T22:10:07.051442Z"
    }
   },
   "outputs": [
    {
     "data": {
      "text/plain": [
       "{'__name__': '__main__',\n",
       " '__doc__': 'Automatically created module for IPython interactive environment',\n",
       " '__package__': None,\n",
       " '__loader__': None,\n",
       " '__spec__': None,\n",
       " '__builtin__': <module 'builtins' (built-in)>,\n",
       " '__builtins__': <module 'builtins' (built-in)>,\n",
       " '_ih': ['',\n",
       "  'help(list.insert)',\n",
       "  \"def fuction_name(name):\\n    '''\\n    fuction(str). -- say hello to 'str'\\n    input:\\n        name: person name\\n    '''\\n    print(f'Hello {name}!')\",\n",
       "  'help(fuction_name)',\n",
       "  \"fuction_name('Leonardo')\",\n",
       "  'def add_function(val1, val2):\\n    return (val1 + val2)',\n",
       "  'result = add_function(1, 2)\\nresult',\n",
       "  \"def say_hello(name='predefined'):\\n    print('Hey {n}!'.format(n=name))\",\n",
       "  'say_hello()',\n",
       "  \"say_hello('Bob')\",\n",
       "  \"# Check if a 'word' is in a 'string'\\n\\ndef check_word(word, string):\\n    '''\\n    fuction(str, str). -- Check if a 'word' is in a 'string'\\n    input:\\n        word: word to check\\n        string: big string\\n    return:\\n        bool: True or False\\n    '''\\n    return (word.lower() in string.lower())\",\n",
       "  \"check_word('dog', 'Dog is eating.')\",\n",
       "  'help(check_word)',\n",
       "  \"def pig_latin(word):\\n    if word[0] == 'a' or word[0] == 'e' or word[0] == 'i' or        word[0] == 'o' or word[0] == 'u':\\n        return (word + 'ay')\\n    else:\\n        return (word[1:] + word[0] + 'ay')\",\n",
       "  \"def pig_latin(word): # better way\\n    if word[0] in 'aeiou':\\n        return (word + 'ay')\\n    else:\\n        return (word[1:] + word[0] + 'ay')\",\n",
       "  \"pig_latin('word')\",\n",
       "  \"pig_latin('apple')\",\n",
       "  \"def myfunc(a,b):\\n    # Returns 5% of the sum of 'a' and 'b'\\n    return (sum((a,b)) * 0.05)\",\n",
       "  'myfunc(40,60)',\n",
       "  '#Multiple *args\\ndef myfunc(*args):\\n    return (sum(args) * 0.05)',\n",
       "  'myfunc(40,60,100,1,30)',\n",
       "  'def myfunc(**kwargs):\\n    print(kwargs)',\n",
       "  \"myfunc(fruit='apple', another='grape')\",\n",
       "  \"def myfunc(*args,**kwargs):\\n    print('*args', args)\\n    print('**kwargs', kwargs)\",\n",
       "  \"myfunc(10,20,30,key1='val1',key2='val2')\",\n",
       "  'def square(num):\\n    return num**2',\n",
       "  'nums = [1,2,3,4,5,6,7,8,9,10]',\n",
       "  '[item for item in map(square, nums)]',\n",
       "  'list(map(square, nums))',\n",
       "  \"def splicer(string):\\n    return 'EVEN' if (len(string)%2==0) else string[0]\",\n",
       "  \"names = ['Andy', 'Eve', 'Sally']\",\n",
       "  'list(map(splicer, names))',\n",
       "  'import math\\nlist(map(math.sqrt, [4, 9, 16, 25]))',\n",
       "  'def check_even(num):\\n    return (num%2==0)',\n",
       "  'nums = [1,2,3,4,5,6,7,8,9,10]',\n",
       "  'list(filter(check_even, nums))',\n",
       "  'def square(num):\\n    return (num**2)',\n",
       "  'square(4)',\n",
       "  'square = lambda num: num**2',\n",
       "  'square(4)',\n",
       "  'list(filter(lambda x: (x%2==0), nums))',\n",
       "  'names',\n",
       "  'list(map(lambda x:x.lower(), names))',\n",
       "  'x = 25\\n\\ndef printer():\\n    x = 50\\n    return x # only in this scope',\n",
       "  'print(x)',\n",
       "  'print(printer())',\n",
       "  'print(x)',\n",
       "  \"x = 50\\n\\ndef func():\\n    global x\\n    print('This function is now using the global x!')\\n    print('Because of global x is: ', x)\\n    x = 2\\n    print('Ran func(), changed global x to', x)\\n\\nprint('Before calling func(), x is: ', x)\\nfunc()\\nprint('Value of x (outside of func()) is: ', x)\",\n",
       "  'globals() # print all global variables'],\n",
       " '_oh': {6: 3,\n",
       "  11: True,\n",
       "  15: 'ordway',\n",
       "  16: 'appleay',\n",
       "  18: 5.0,\n",
       "  20: 11.55,\n",
       "  27: [1, 4, 9, 16, 25, 36, 49, 64, 81, 100],\n",
       "  28: [1, 4, 9, 16, 25, 36, 49, 64, 81, 100],\n",
       "  31: ['EVEN', 'E', 'S'],\n",
       "  32: [2.0, 3.0, 4.0, 5.0],\n",
       "  35: [2, 4, 6, 8, 10],\n",
       "  37: 16,\n",
       "  39: 16,\n",
       "  40: [2, 4, 6, 8, 10],\n",
       "  41: ['Andy', 'Eve', 'Sally'],\n",
       "  42: ['andy', 'eve', 'sally']},\n",
       " '_dh': ['/home/leonardo/Documents/Git/udemy-complete-python-bootcamp'],\n",
       " 'In': ['',\n",
       "  'help(list.insert)',\n",
       "  \"def fuction_name(name):\\n    '''\\n    fuction(str). -- say hello to 'str'\\n    input:\\n        name: person name\\n    '''\\n    print(f'Hello {name}!')\",\n",
       "  'help(fuction_name)',\n",
       "  \"fuction_name('Leonardo')\",\n",
       "  'def add_function(val1, val2):\\n    return (val1 + val2)',\n",
       "  'result = add_function(1, 2)\\nresult',\n",
       "  \"def say_hello(name='predefined'):\\n    print('Hey {n}!'.format(n=name))\",\n",
       "  'say_hello()',\n",
       "  \"say_hello('Bob')\",\n",
       "  \"# Check if a 'word' is in a 'string'\\n\\ndef check_word(word, string):\\n    '''\\n    fuction(str, str). -- Check if a 'word' is in a 'string'\\n    input:\\n        word: word to check\\n        string: big string\\n    return:\\n        bool: True or False\\n    '''\\n    return (word.lower() in string.lower())\",\n",
       "  \"check_word('dog', 'Dog is eating.')\",\n",
       "  'help(check_word)',\n",
       "  \"def pig_latin(word):\\n    if word[0] == 'a' or word[0] == 'e' or word[0] == 'i' or        word[0] == 'o' or word[0] == 'u':\\n        return (word + 'ay')\\n    else:\\n        return (word[1:] + word[0] + 'ay')\",\n",
       "  \"def pig_latin(word): # better way\\n    if word[0] in 'aeiou':\\n        return (word + 'ay')\\n    else:\\n        return (word[1:] + word[0] + 'ay')\",\n",
       "  \"pig_latin('word')\",\n",
       "  \"pig_latin('apple')\",\n",
       "  \"def myfunc(a,b):\\n    # Returns 5% of the sum of 'a' and 'b'\\n    return (sum((a,b)) * 0.05)\",\n",
       "  'myfunc(40,60)',\n",
       "  '#Multiple *args\\ndef myfunc(*args):\\n    return (sum(args) * 0.05)',\n",
       "  'myfunc(40,60,100,1,30)',\n",
       "  'def myfunc(**kwargs):\\n    print(kwargs)',\n",
       "  \"myfunc(fruit='apple', another='grape')\",\n",
       "  \"def myfunc(*args,**kwargs):\\n    print('*args', args)\\n    print('**kwargs', kwargs)\",\n",
       "  \"myfunc(10,20,30,key1='val1',key2='val2')\",\n",
       "  'def square(num):\\n    return num**2',\n",
       "  'nums = [1,2,3,4,5,6,7,8,9,10]',\n",
       "  '[item for item in map(square, nums)]',\n",
       "  'list(map(square, nums))',\n",
       "  \"def splicer(string):\\n    return 'EVEN' if (len(string)%2==0) else string[0]\",\n",
       "  \"names = ['Andy', 'Eve', 'Sally']\",\n",
       "  'list(map(splicer, names))',\n",
       "  'import math\\nlist(map(math.sqrt, [4, 9, 16, 25]))',\n",
       "  'def check_even(num):\\n    return (num%2==0)',\n",
       "  'nums = [1,2,3,4,5,6,7,8,9,10]',\n",
       "  'list(filter(check_even, nums))',\n",
       "  'def square(num):\\n    return (num**2)',\n",
       "  'square(4)',\n",
       "  'square = lambda num: num**2',\n",
       "  'square(4)',\n",
       "  'list(filter(lambda x: (x%2==0), nums))',\n",
       "  'names',\n",
       "  'list(map(lambda x:x.lower(), names))',\n",
       "  'x = 25\\n\\ndef printer():\\n    x = 50\\n    return x # only in this scope',\n",
       "  'print(x)',\n",
       "  'print(printer())',\n",
       "  'print(x)',\n",
       "  \"x = 50\\n\\ndef func():\\n    global x\\n    print('This function is now using the global x!')\\n    print('Because of global x is: ', x)\\n    x = 2\\n    print('Ran func(), changed global x to', x)\\n\\nprint('Before calling func(), x is: ', x)\\nfunc()\\nprint('Value of x (outside of func()) is: ', x)\",\n",
       "  'globals() # print all global variables'],\n",
       " 'Out': {6: 3,\n",
       "  11: True,\n",
       "  15: 'ordway',\n",
       "  16: 'appleay',\n",
       "  18: 5.0,\n",
       "  20: 11.55,\n",
       "  27: [1, 4, 9, 16, 25, 36, 49, 64, 81, 100],\n",
       "  28: [1, 4, 9, 16, 25, 36, 49, 64, 81, 100],\n",
       "  31: ['EVEN', 'E', 'S'],\n",
       "  32: [2.0, 3.0, 4.0, 5.0],\n",
       "  35: [2, 4, 6, 8, 10],\n",
       "  37: 16,\n",
       "  39: 16,\n",
       "  40: [2, 4, 6, 8, 10],\n",
       "  41: ['Andy', 'Eve', 'Sally'],\n",
       "  42: ['andy', 'eve', 'sally']},\n",
       " 'get_ipython': <bound method InteractiveShell.get_ipython of <ipykernel.zmqshell.ZMQInteractiveShell object at 0x7f02fd25f048>>,\n",
       " 'exit': <IPython.core.autocall.ZMQExitAutocall at 0x7f02fd22fba8>,\n",
       " 'quit': <IPython.core.autocall.ZMQExitAutocall at 0x7f02fd22fba8>,\n",
       " '_': ['andy', 'eve', 'sally'],\n",
       " '__': ['Andy', 'Eve', 'Sally'],\n",
       " '___': [2, 4, 6, 8, 10],\n",
       " 'json': <module 'json' from '/home/leonardo/anaconda3/lib/python3.6/json/__init__.py'>,\n",
       " 'yapf_reformat': <function __main__.yapf_reformat(cell_text)>,\n",
       " '_i': \"x = 50\\n\\ndef func():\\n    global x\\n    print('This function is now using the global x!')\\n    print('Because of global x is: ', x)\\n    x = 2\\n    print('Ran func(), changed global x to', x)\\n\\nprint('Before calling func(), x is: ', x)\\nfunc()\\nprint('Value of x (outside of func()) is: ', x)\",\n",
       " '_ii': 'print(x)',\n",
       " '_iii': 'print(printer())',\n",
       " '_i1': 'help(list.insert)',\n",
       " '_i2': \"def fuction_name(name):\\n    '''\\n    fuction(str). -- say hello to 'str'\\n    input:\\n        name: person name\\n    '''\\n    print(f'Hello {name}!')\",\n",
       " 'fuction_name': <function __main__.fuction_name(name)>,\n",
       " '_i3': 'help(fuction_name)',\n",
       " '_i4': \"fuction_name('Leonardo')\",\n",
       " '_i5': 'def add_function(val1, val2):\\n    return (val1 + val2)',\n",
       " 'add_function': <function __main__.add_function(val1, val2)>,\n",
       " '_i6': 'result = add_function(1, 2)\\nresult',\n",
       " 'result': 3,\n",
       " '_6': 3,\n",
       " '_i7': \"def say_hello(name='predefined'):\\n    print('Hey {n}!'.format(n=name))\",\n",
       " 'say_hello': <function __main__.say_hello(name='predefined')>,\n",
       " '_i8': 'say_hello()',\n",
       " '_i9': \"say_hello('Bob')\",\n",
       " '_i10': \"# Check if a 'word' is in a 'string'\\n\\ndef check_word(word, string):\\n    '''\\n    fuction(str, str). -- Check if a 'word' is in a 'string'\\n    input:\\n        word: word to check\\n        string: big string\\n    return:\\n        bool: True or False\\n    '''\\n    return (word.lower() in string.lower())\",\n",
       " 'check_word': <function __main__.check_word(word, string)>,\n",
       " '_i11': \"check_word('dog', 'Dog is eating.')\",\n",
       " '_11': True,\n",
       " '_i12': 'help(check_word)',\n",
       " '_i13': \"def pig_latin(word):\\n    if word[0] == 'a' or word[0] == 'e' or word[0] == 'i' or \\\\\\n       word[0] == 'o' or word[0] == 'u':\\n        return (word + 'ay')\\n    else:\\n        return (word[1:] + word[0] + 'ay')\",\n",
       " 'pig_latin': <function __main__.pig_latin(word)>,\n",
       " '_i14': \"def pig_latin(word): # better way\\n    if word[0] in 'aeiou':\\n        return (word + 'ay')\\n    else:\\n        return (word[1:] + word[0] + 'ay')\",\n",
       " '_i15': \"pig_latin('word')\",\n",
       " '_15': 'ordway',\n",
       " '_i16': \"pig_latin('apple')\",\n",
       " '_16': 'appleay',\n",
       " '_i17': \"def myfunc(a,b):\\n    # Returns 5% of the sum of 'a' and 'b'\\n    return (sum((a,b)) * 0.05)\",\n",
       " 'myfunc': <function __main__.myfunc(*args, **kwargs)>,\n",
       " '_i18': 'myfunc(40,60)',\n",
       " '_18': 5.0,\n",
       " '_i19': '#Multiple *args\\ndef myfunc(*args):\\n    return (sum(args) * 0.05)',\n",
       " '_i20': 'myfunc(40,60,100,1,30)',\n",
       " '_20': 11.55,\n",
       " '_i21': 'def myfunc(**kwargs):\\n    print(kwargs)',\n",
       " '_i22': \"myfunc(fruit='apple', another='grape')\",\n",
       " '_i23': \"def myfunc(*args,**kwargs):\\n    print('*args', args)\\n    print('**kwargs', kwargs)\",\n",
       " '_i24': \"myfunc(10,20,30,key1='val1',key2='val2')\",\n",
       " '_i25': 'def square(num):\\n    return num**2',\n",
       " 'square': <function __main__.<lambda>(num)>,\n",
       " '_i26': 'nums = [1,2,3,4,5,6,7,8,9,10]',\n",
       " 'nums': [1, 2, 3, 4, 5, 6, 7, 8, 9, 10],\n",
       " '_i27': '[item for item in map(square, nums)]',\n",
       " '_27': [1, 4, 9, 16, 25, 36, 49, 64, 81, 100],\n",
       " '_i28': 'list(map(square, nums))',\n",
       " '_28': [1, 4, 9, 16, 25, 36, 49, 64, 81, 100],\n",
       " '_i29': \"def splicer(string):\\n    return 'EVEN' if (len(string)%2==0) else string[0]\",\n",
       " 'splicer': <function __main__.splicer(string)>,\n",
       " '_i30': \"names = ['Andy', 'Eve', 'Sally']\",\n",
       " 'names': ['Andy', 'Eve', 'Sally'],\n",
       " '_i31': 'list(map(splicer, names))',\n",
       " '_31': ['EVEN', 'E', 'S'],\n",
       " '_i32': 'import math\\nlist(map(math.sqrt, [4, 9, 16, 25]))',\n",
       " 'math': <module 'math' from '/home/leonardo/anaconda3/lib/python3.6/lib-dynload/math.cpython-36m-x86_64-linux-gnu.so'>,\n",
       " '_32': [2.0, 3.0, 4.0, 5.0],\n",
       " '_i33': 'def check_even(num):\\n    return (num%2==0)',\n",
       " 'check_even': <function __main__.check_even(num)>,\n",
       " '_i34': 'nums = [1,2,3,4,5,6,7,8,9,10]',\n",
       " '_i35': 'list(filter(check_even, nums))',\n",
       " '_35': [2, 4, 6, 8, 10],\n",
       " '_i36': 'def square(num):\\n    return (num**2)',\n",
       " '_i37': 'square(4)',\n",
       " '_37': 16,\n",
       " '_i38': 'square = lambda num: num**2',\n",
       " '_i39': 'square(4)',\n",
       " '_39': 16,\n",
       " '_i40': 'list(filter(lambda x: (x%2==0), nums))',\n",
       " '_40': [2, 4, 6, 8, 10],\n",
       " '_i41': 'names',\n",
       " '_41': ['Andy', 'Eve', 'Sally'],\n",
       " '_i42': 'list(map(lambda x:x.lower(), names))',\n",
       " '_42': ['andy', 'eve', 'sally'],\n",
       " '_i43': 'x = 25\\n\\ndef printer():\\n    x = 50\\n    return x # only in this scope',\n",
       " 'x': 2,\n",
       " 'printer': <function __main__.printer()>,\n",
       " '_i44': 'print(x)',\n",
       " '_i45': 'print(printer())',\n",
       " '_i46': 'print(x)',\n",
       " '_i47': \"x = 50\\n\\ndef func():\\n    global x\\n    print('This function is now using the global x!')\\n    print('Because of global x is: ', x)\\n    x = 2\\n    print('Ran func(), changed global x to', x)\\n\\nprint('Before calling func(), x is: ', x)\\nfunc()\\nprint('Value of x (outside of func()) is: ', x)\",\n",
       " 'func': <function __main__.func()>,\n",
       " '_i48': 'globals() # print all global variables'}"
      ]
     },
     "execution_count": 48,
     "metadata": {},
     "output_type": "execute_result"
    }
   ],
   "source": [
    "globals() # print all global variables"
   ]
  },
  {
   "cell_type": "code",
   "execution_count": 49,
   "metadata": {
    "ExecuteTime": {
     "end_time": "2019-01-26T22:10:07.370697Z",
     "start_time": "2019-01-26T22:10:07.265602Z"
    }
   },
   "outputs": [
    {
     "name": "stdout",
     "output_type": "stream",
     "text": [
      "{'z': 3, 'y': 2, 'x': 1}\n"
     ]
    }
   ],
   "source": [
    "def example():\n",
    "    x, y, z = 1, 2, 3\n",
    "    print(locals()) # print local variables\n",
    "\n",
    "example()"
   ]
  },
  {
   "cell_type": "code",
   "execution_count": null,
   "metadata": {},
   "outputs": [],
   "source": []
  }
 ],
 "metadata": {
  "kernelspec": {
   "display_name": "Python 3",
   "language": "python",
   "name": "python3"
  },
  "language_info": {
   "codemirror_mode": {
    "name": "ipython",
    "version": 3
   },
   "file_extension": ".py",
   "mimetype": "text/x-python",
   "name": "python",
   "nbconvert_exporter": "python",
   "pygments_lexer": "ipython3",
   "version": "3.6.5"
  }
 },
 "nbformat": 4,
 "nbformat_minor": 2
}
