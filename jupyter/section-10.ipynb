{
 "cells": [
  {
   "cell_type": "markdown",
   "metadata": {},
   "source": [
    "## Section 10: Errors and Exceptions Handling\n",
    "\n",
    "71. Errors and Exceptions Handling\n",
    "72. Errors and Exceptions Homework\n",
    "73. Homework Solution\n",
    "74. Pylint Overview\n",
    "75. Running tests with the Unittest Library"
   ]
  },
  {
   "cell_type": "markdown",
   "metadata": {},
   "source": [
    "### 71. Errors and Exceptions Handling\n",
    "\n",
    "Error keywords:\n",
    "- `try`: code to be attempted\n",
    "- `except`: case there is an error in `try` block\n",
    "- `finally`: final execute, regardless of an error\n",
    "    - executed before than `return` of the previous blocks"
   ]
  },
  {
   "cell_type": "code",
   "execution_count": 1,
   "metadata": {
    "ExecuteTime": {
     "end_time": "2019-02-17T13:44:33.177939Z",
     "start_time": "2019-02-17T13:44:33.171270Z"
    }
   },
   "outputs": [],
   "source": [
    "def add(n1,n2):\n",
    "    print(n1 + n2)"
   ]
  },
  {
   "cell_type": "code",
   "execution_count": 2,
   "metadata": {
    "ExecuteTime": {
     "end_time": "2019-02-17T13:44:33.364477Z",
     "start_time": "2019-02-17T13:44:33.182185Z"
    }
   },
   "outputs": [
    {
     "ename": "TypeError",
     "evalue": "unsupported operand type(s) for +: 'int' and 'str'",
     "output_type": "error",
     "traceback": [
      "\u001b[0;31m---------------------------------------------------------------------------\u001b[0m",
      "\u001b[0;31mTypeError\u001b[0m                                 Traceback (most recent call last)",
      "\u001b[0;32m<ipython-input-2-ff9e76a9e48f>\u001b[0m in \u001b[0;36m<module>\u001b[0;34m()\u001b[0m\n\u001b[0;32m----> 1\u001b[0;31m \u001b[0madd\u001b[0m\u001b[0;34m(\u001b[0m\u001b[0;36m10\u001b[0m\u001b[0;34m,\u001b[0m \u001b[0;34m'20'\u001b[0m\u001b[0;34m)\u001b[0m\u001b[0;34m\u001b[0m\u001b[0m\n\u001b[0m\u001b[1;32m      2\u001b[0m \u001b[0mprint\u001b[0m\u001b[0;34m(\u001b[0m\u001b[0;34m'execute whether an error or not'\u001b[0m\u001b[0;34m)\u001b[0m\u001b[0;34m\u001b[0m\u001b[0m\n",
      "\u001b[0;32m<ipython-input-1-1572436ffd1c>\u001b[0m in \u001b[0;36madd\u001b[0;34m(n1, n2)\u001b[0m\n\u001b[1;32m      1\u001b[0m \u001b[0;32mdef\u001b[0m \u001b[0madd\u001b[0m\u001b[0;34m(\u001b[0m\u001b[0mn1\u001b[0m\u001b[0;34m,\u001b[0m\u001b[0mn2\u001b[0m\u001b[0;34m)\u001b[0m\u001b[0;34m:\u001b[0m\u001b[0;34m\u001b[0m\u001b[0m\n\u001b[0;32m----> 2\u001b[0;31m     \u001b[0mprint\u001b[0m\u001b[0;34m(\u001b[0m\u001b[0mn1\u001b[0m \u001b[0;34m+\u001b[0m \u001b[0mn2\u001b[0m\u001b[0;34m)\u001b[0m\u001b[0;34m\u001b[0m\u001b[0m\n\u001b[0m",
      "\u001b[0;31mTypeError\u001b[0m: unsupported operand type(s) for +: 'int' and 'str'"
     ]
    }
   ],
   "source": [
    "add(10, '20')\n",
    "print('execute whether an error or not')"
   ]
  },
  {
   "cell_type": "code",
   "execution_count": 3,
   "metadata": {
    "ExecuteTime": {
     "end_time": "2019-02-17T13:44:40.222016Z",
     "start_time": "2019-02-17T13:44:40.216500Z"
    }
   },
   "outputs": [
    {
     "name": "stdout",
     "output_type": "stream",
     "text": [
      "-- Error\n",
      "execute whether an error or not\n"
     ]
    }
   ],
   "source": [
    "try:\n",
    "    add(10, '20')\n",
    "except:\n",
    "    print('-- Error')\n",
    "finally:\n",
    "    print('execute whether an error or not')"
   ]
  },
  {
   "cell_type": "code",
   "execution_count": 4,
   "metadata": {
    "ExecuteTime": {
     "end_time": "2019-02-17T13:44:41.137779Z",
     "start_time": "2019-02-17T13:44:41.129165Z"
    }
   },
   "outputs": [
    {
     "name": "stdout",
     "output_type": "stream",
     "text": [
      "OS Error catched!\n"
     ]
    }
   ],
   "source": [
    "file_name = 'my_file.txt'\n",
    "try:\n",
    "    f = open(file_name, 'r')\n",
    "    f.write('It is possible?')\n",
    "except TypeError:\n",
    "    print('TypeError catched!')\n",
    "except OSError:\n",
    "    print('OS Error catched!')\n",
    "except:\n",
    "    print('All other exceptions!')\n",
    "finally:\n",
    "    f.close()"
   ]
  },
  {
   "cell_type": "code",
   "execution_count": 5,
   "metadata": {
    "ExecuteTime": {
     "end_time": "2019-02-17T13:44:42.165780Z",
     "start_time": "2019-02-17T13:44:42.161550Z"
    }
   },
   "outputs": [],
   "source": [
    "def ask_for_int():\n",
    "    while True:\n",
    "        try:\n",
    "            result = int(input('Provide a number: '))\n",
    "            break\n",
    "        except:\n",
    "            print('Whoops! That is not a number.')\n",
    "    return result"
   ]
  },
  {
   "cell_type": "code",
   "execution_count": 6,
   "metadata": {
    "ExecuteTime": {
     "end_time": "2019-02-17T13:44:47.992738Z",
     "start_time": "2019-02-17T13:44:44.181775Z"
    }
   },
   "outputs": [
    {
     "name": "stdout",
     "output_type": "stream",
     "text": [
      "Provide a number: aa\n",
      "Whoops! That is not a number.\n",
      "Provide a number: 12\n"
     ]
    },
    {
     "data": {
      "text/plain": [
       "12"
      ]
     },
     "execution_count": 6,
     "metadata": {},
     "output_type": "execute_result"
    }
   ],
   "source": [
    "ask_for_int()"
   ]
  },
  {
   "cell_type": "code",
   "execution_count": 7,
   "metadata": {
    "ExecuteTime": {
     "end_time": "2019-02-17T13:44:49.051573Z",
     "start_time": "2019-02-17T13:44:49.047011Z"
    }
   },
   "outputs": [],
   "source": [
    "def ask_for_int():\n",
    "    while True:\n",
    "        try:\n",
    "            result = int(input('Provide a number: '))\n",
    "        except:\n",
    "            print('Whoops! That is not a number.')\n",
    "            continue\n",
    "        else:\n",
    "            print('Thanks')\n",
    "            break\n",
    "    return result"
   ]
  },
  {
   "cell_type": "code",
   "execution_count": 8,
   "metadata": {
    "ExecuteTime": {
     "end_time": "2019-02-17T13:44:53.407264Z",
     "start_time": "2019-02-17T13:44:51.027022Z"
    }
   },
   "outputs": [
    {
     "name": "stdout",
     "output_type": "stream",
     "text": [
      "Provide a number: bb\n",
      "Whoops! That is not a number.\n",
      "Provide a number: 12\n",
      "Thanks\n"
     ]
    },
    {
     "data": {
      "text/plain": [
       "12"
      ]
     },
     "execution_count": 8,
     "metadata": {},
     "output_type": "execute_result"
    }
   ],
   "source": [
    "ask_for_int()"
   ]
  },
  {
   "cell_type": "markdown",
   "metadata": {},
   "source": [
    "### 72. Errors and Exceptions Homework\n",
    "\n",
    "File: `section-10-homework.ipynb`"
   ]
  },
  {
   "cell_type": "markdown",
   "metadata": {},
   "source": [
    "### 74. Pylint Overview\n",
    "\n",
    "There are several tools for unit testing, we focus on two:\n",
    "- `pylint`: looks your code and report back possible issues.\n",
    "    - `pip install pylint`\n",
    "    - `pylint 'code.py'`: check your code\n",
    "- `unittest`: allow to you test your program."
   ]
  },
  {
   "cell_type": "markdown",
   "metadata": {},
   "source": [
    "### 75. Running tests with the Unittest Library\n",
    "\n",
    "`unittest` is a standard module, you don't need install.   \n",
    "See a example in `python/test/` folder.   "
   ]
  },
  {
   "cell_type": "code",
   "execution_count": null,
   "metadata": {},
   "outputs": [],
   "source": []
  }
 ],
 "metadata": {
  "kernelspec": {
   "display_name": "Python 3",
   "language": "python",
   "name": "python3"
  },
  "language_info": {
   "codemirror_mode": {
    "name": "ipython",
    "version": 3
   },
   "file_extension": ".py",
   "mimetype": "text/x-python",
   "name": "python",
   "nbconvert_exporter": "python",
   "pygments_lexer": "ipython3",
   "version": "3.6.5"
  }
 },
 "nbformat": 4,
 "nbformat_minor": 2
}
