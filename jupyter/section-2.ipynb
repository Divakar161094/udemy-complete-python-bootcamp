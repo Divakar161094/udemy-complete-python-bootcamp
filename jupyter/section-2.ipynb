{
 "cells": [
  {
   "cell_type": "markdown",
   "metadata": {},
   "source": [
    "## Section 2: Python Setup\n",
    "\n",
    "5. Command Line Basics\n",
    "6. Installing Python\n",
    "7. Running Python Code\n",
    "8. Getting the Notebooks and the Course Material\n",
    "9. Git and GitHub Overview"
   ]
  },
  {
   "cell_type": "markdown",
   "metadata": {},
   "source": [
    "### 5. Command Line Basics\n",
    "\n",
    "In terminal:   \n",
    "- Basic: `pwd`, `ls`, `cd`, `clear`\n",
    "   \n",
    "### 6. Install\n",
    "\n",
    "Free [Anaconda distribution](https://www.anaconda.com/download/). \\[[How to do](http://docs.anaconda.com/anaconda/install/linux/)] \n",
    "   \n",
    "### 7. Running Python Code\n",
    "\n",
    "Enviroments:\n",
    "- Text Editors: Sublimetext, Adam, Notepadqq\n",
    "- Full IDE: PyCharm, Spyder\n",
    "- Notebook\n",
    "\n",
    "Execution Terminal:\n",
    "```sh\n",
    "python file.py # Run Python file\n",
    "python # Open Python Interpreter\n",
    "```"
   ]
  },
  {
   "cell_type": "code",
   "execution_count": 1,
   "metadata": {
    "ExecuteTime": {
     "end_time": "2019-01-09T18:42:24.999449Z",
     "start_time": "2019-01-09T18:42:24.994432Z"
    }
   },
   "outputs": [
    {
     "name": "stdout",
     "output_type": "stream",
     "text": [
      "Hello World!\n"
     ]
    }
   ],
   "source": [
    "# My First Notebook\n",
    "print('Hello World!')"
   ]
  },
  {
   "cell_type": "markdown",
   "metadata": {},
   "source": [
    "### 8. Getting the Notebooks and the Course Material\n",
    "\n",
    "Material Link: \\[https://github.com/Pierian-Data/Complete-Python-3-Bootcamp]   \n",
    "\n",
    "### 9. Git and GitHub\n",
    "\n",
    "Hello World: \\[https://guides.github.com/activities/hello-world/]   "
   ]
  },
  {
   "cell_type": "code",
   "execution_count": null,
   "metadata": {},
   "outputs": [],
   "source": []
  }
 ],
 "metadata": {
  "kernelspec": {
   "display_name": "Python 3",
   "language": "python",
   "name": "python3"
  },
  "language_info": {
   "codemirror_mode": {
    "name": "ipython",
    "version": 3
   },
   "file_extension": ".py",
   "mimetype": "text/x-python",
   "name": "python",
   "nbconvert_exporter": "python",
   "pygments_lexer": "ipython3",
   "version": "3.6.5"
  }
 },
 "nbformat": 4,
 "nbformat_minor": 2
}
