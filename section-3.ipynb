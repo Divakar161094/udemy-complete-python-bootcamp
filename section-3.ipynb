{
 "cells": [
  {
   "cell_type": "markdown",
   "metadata": {},
   "source": [
    "## Section 3: Python Object to Python Data Types\n",
    "\n",
    "10. Introduction to Python Data Types\n",
    "11. Numbers\n",
    "12. Quiz\n",
    "13. Variable Assignments\n",
    "14. Introduction to Strings\n",
    "15. Indexing and Slicing with Strings\n",
    "16. String Properties and Methods\n",
    "17. FAQ and Quiz\n",
    "18. Print Formatting with Strings\n",
    "19. FAQ and Quiz\n",
    "20. Lists in Python\n",
    "21. FAQ and Quiz\n",
    "22. Dictionaries in Python\n",
    "23. FAQ and Quiz\n",
    "24. Tuples with Python\n",
    "25. Sets in Python\n",
    "26. Booleans in Python\n",
    "27. I/O with Basic Files in Python\n",
    "28. FAQ and Quiz\n",
    "29. Python Objects and Data Structures Assessments Overview"
   ]
  },
  {
   "cell_type": "markdown",
   "metadata": {},
   "source": [
    "### 10. Introduction to Python Data Types\n",
    "\n",
    "_Data Types_: int, float, str   \n",
    "_Data Structures_: list, dict, tup, set, bool   \n",
    "\n",
    "| Name | Type | Description |\n",
    "| :--- | :---: | :--- |\n",
    "| Integers | `int` | Numbers: 3, 300, 200 |\n",
    "| Floating point | `float` | Number with decimal point: 2.3, 4.6, 100.0 |\n",
    "| Strings | `str` | Ordered sequence of characters: 'hello', \"Sammy\" |\n",
    "| Lists | `list` | Ordered sequence of objects: \\[10, 'hello', 200.3] |\n",
    "| Dictionaries | `dict` | Unordered Key:Value pairs: {\"key\":\"value\", ...} |\n",
    "| Tuples | `tup` | Ordered immutable sequence of objects: (10, 'hello', 200.3) |\n",
    "| Sets | `set` | Unordered collection of unique objects: {\"a\", \"b\"} |\n",
    "| Booleans | `bool` | Logical value indicating _True_ or _False_ |\n",
    "\n"
   ]
  },
  {
   "cell_type": "markdown",
   "metadata": {},
   "source": [
    "### 11. Numbers\n",
    "\n",
    "Basics:\n",
    "- Addition: `1 + 2`\n",
    "- Subtraction: `1 - 2`\n",
    "- Multiplication: `1 * 2`\n",
    "- Division: `1 / 2`\n",
    "\n",
    "Other operators:\n",
    "- Modulo or \"Mod\": `7 % 4`\n",
    "- Power: `2 ** 3`\n",
    "- Parentheses: `(2 + 1) * 10`"
   ]
  },
  {
   "cell_type": "markdown",
   "metadata": {},
   "source": [
    "### 13. Variable Assignments\n",
    "\n",
    "Rules for names:\n",
    "- Names can not start with a number;\n",
    "- There can be no scpaces in the name, use _ instead;\n",
    "- Can not use any of theses symbols: :\"',<>/?|\\()!@#$%^&*~-+=\n",
    "- Best pratice (PEP8):\n",
    "  - lowercase\n",
    "  - avoid using special words (like \"list\")\n",
    "  \n",
    "Python uses **Dymanic Typing** (can reassign variables to different data types)"
   ]
  },
  {
   "cell_type": "code",
   "execution_count": 1,
   "metadata": {
    "ExecuteTime": {
     "end_time": "2019-01-13T17:00:06.711299Z",
     "start_time": "2019-01-13T17:00:06.684561Z"
    }
   },
   "outputs": [
    {
     "name": "stdout",
     "output_type": "stream",
     "text": [
      "type: <class 'str'>\n"
     ]
    },
    {
     "data": {
      "text/plain": [
       "True"
      ]
     },
     "execution_count": 1,
     "metadata": {},
     "output_type": "execute_result"
    }
   ],
   "source": [
    "a = \"abc\"\n",
    "print('type:', type(a)) # check variable type\n",
    "type(a) == str"
   ]
  },
  {
   "cell_type": "markdown",
   "metadata": {},
   "source": [
    "### 14. Introduction to Strings\n",
    "\n",
    "Strings are _ordered sequences_ which can be indexing and slicing.   \n",
    "Also, there is reverse indexing to get the last letter of the string.   \n",
    "\n",
    "```python\n",
    "a = 'hello'\n",
    "a[4] == a[-1]\n",
    "```\n",
    "   \n",
    "Slicing, we use `[start:stop:step]`:   \n",
    "- `start`: index of slice star\n",
    "- `stop` : is the last index (but not include)\n",
    "- `stop` : \"jump\" size between `start` and `stop`\n",
    "   \n",
    "Example: `a[0:3:2]`   \n",
    "   \n",
    "Also, it is possible use _escape sequence_ (e.g., \\n, \\t, etc.)"
   ]
  },
  {
   "cell_type": "code",
   "execution_count": 2,
   "metadata": {
    "ExecuteTime": {
     "end_time": "2019-01-13T17:00:06.909388Z",
     "start_time": "2019-01-13T17:00:06.715861Z"
    }
   },
   "outputs": [
    {
     "name": "stdout",
     "output_type": "stream",
     "text": [
      "5\n",
      "hlo\n"
     ]
    }
   ],
   "source": [
    "a = 'hello'\n",
    "print(len(a))\n",
    "print(a[0:5:2])"
   ]
  },
  {
   "cell_type": "markdown",
   "metadata": {},
   "source": [
    "### 15. Indexing and Slicing with Strings"
   ]
  },
  {
   "cell_type": "code",
   "execution_count": 3,
   "metadata": {
    "ExecuteTime": {
     "end_time": "2019-01-13T17:00:07.075878Z",
     "start_time": "2019-01-13T17:00:06.914255Z"
    }
   },
   "outputs": [
    {
     "name": "stdout",
     "output_type": "stream",
     "text": [
      "indexing [0] : H\n",
      "indexing [-1]: d\n"
     ]
    }
   ],
   "source": [
    "mystring = 'Hello World'\n",
    "print('indexing [0] :', mystring[0])\n",
    "print('indexing [-1]:', mystring[-1])"
   ]
  },
  {
   "cell_type": "code",
   "execution_count": 4,
   "metadata": {
    "ExecuteTime": {
     "end_time": "2019-01-13T17:00:07.204251Z",
     "start_time": "2019-01-13T17:00:07.081345Z"
    }
   },
   "outputs": [
    {
     "name": "stdout",
     "output_type": "stream",
     "text": [
      "slicing [2:]   : llo World\n",
      "slicing [:2]   : He\n",
      "slicing [:]    : Hello World\n",
      "slicing [2:5]  : llo\n",
      "slicing [::]   : Hello World\n",
      "slicing [::2]  : HloWrd\n",
      "slicing [::-1] : dlroW olleH\n"
     ]
    }
   ],
   "source": [
    "print('slicing [2:]   :', mystring[2:])\n",
    "print('slicing [:2]   :', mystring[:2])\n",
    "print('slicing [:]    :', mystring[:])\n",
    "print('slicing [2:5]  :', mystring[2:5])\n",
    "print('slicing [::]   :', mystring[::])\n",
    "print('slicing [::2]  :', mystring[::2])\n",
    "print('slicing [::-1] :', mystring[::-1])"
   ]
  },
  {
   "cell_type": "markdown",
   "metadata": {},
   "source": [
    "### 16. String Properties and Methods\n",
    "\n",
    "- Immutability: you can not change a character by indexing.\n",
    "  - e.g., `mystring[0] = 'A'` - Error\n",
    "- Concatenation: put string together.\n",
    "  - e.g., `'A' + 'BCD' + 'EF'`\n",
    "  - mutiplication: `'zZ' * 10`\n",
    "- Some functions:"
   ]
  },
  {
   "cell_type": "code",
   "execution_count": 5,
   "metadata": {
    "ExecuteTime": {
     "end_time": "2019-01-13T17:00:07.407898Z",
     "start_time": "2019-01-13T17:00:07.214473Z"
    }
   },
   "outputs": [
    {
     "data": {
      "text/plain": [
       "'zZzZzZzZzZzZzZzZzZzZ'"
      ]
     },
     "execution_count": 5,
     "metadata": {},
     "output_type": "execute_result"
    }
   ],
   "source": [
    "'zZ' * 10"
   ]
  },
  {
   "cell_type": "code",
   "execution_count": 6,
   "metadata": {
    "ExecuteTime": {
     "end_time": "2019-01-13T17:00:07.525248Z",
     "start_time": "2019-01-13T17:00:07.412148Z"
    }
   },
   "outputs": [
    {
     "data": {
      "text/plain": [
       "'HELLO WORLD'"
      ]
     },
     "execution_count": 6,
     "metadata": {},
     "output_type": "execute_result"
    }
   ],
   "source": [
    "mystring.upper()"
   ]
  },
  {
   "cell_type": "code",
   "execution_count": 7,
   "metadata": {
    "ExecuteTime": {
     "end_time": "2019-01-13T17:00:07.641134Z",
     "start_time": "2019-01-13T17:00:07.529230Z"
    }
   },
   "outputs": [
    {
     "data": {
      "text/plain": [
       "'Hello world'"
      ]
     },
     "execution_count": 7,
     "metadata": {},
     "output_type": "execute_result"
    }
   ],
   "source": [
    "mystring.capitalize()"
   ]
  },
  {
   "cell_type": "code",
   "execution_count": 8,
   "metadata": {
    "ExecuteTime": {
     "end_time": "2019-01-13T17:00:07.785768Z",
     "start_time": "2019-01-13T17:00:07.645723Z"
    }
   },
   "outputs": [
    {
     "data": {
      "text/plain": [
       "['Hello', 'World']"
      ]
     },
     "execution_count": 8,
     "metadata": {},
     "output_type": "execute_result"
    }
   ],
   "source": [
    "mystring.split()"
   ]
  },
  {
   "cell_type": "markdown",
   "metadata": {},
   "source": [
    "### 18. Print Formatting with Strings\n",
    "\n",
    "Methods:\n",
    "- `.format()`\n",
    "- f-strings - formatted string"
   ]
  },
  {
   "cell_type": "code",
   "execution_count": 9,
   "metadata": {
    "ExecuteTime": {
     "end_time": "2019-01-13T17:00:07.902264Z",
     "start_time": "2019-01-13T17:00:07.790110Z"
    }
   },
   "outputs": [
    {
     "name": "stdout",
     "output_type": "stream",
     "text": [
      "This is a string INSERTED\n"
     ]
    }
   ],
   "source": [
    "print('This is a string {}'.format('INSERTED'))"
   ]
  },
  {
   "cell_type": "code",
   "execution_count": 10,
   "metadata": {
    "ExecuteTime": {
     "end_time": "2019-01-13T17:00:08.036603Z",
     "start_time": "2019-01-13T17:00:07.906290Z"
    }
   },
   "outputs": [
    {
     "name": "stdout",
     "output_type": "stream",
     "text": [
      "The fox red quick\n",
      "The quick red fox\n",
      "The fox fox fox\n"
     ]
    }
   ],
   "source": [
    "print('The {} {} {}'.format('fox', 'red', 'quick'))\n",
    "print('The {2} {1} {0}'.format('fox', 'red', 'quick'))\n",
    "print('The {0} {0} {0}'.format('fox', 'red', 'quick'))"
   ]
  },
  {
   "cell_type": "code",
   "execution_count": 11,
   "metadata": {
    "ExecuteTime": {
     "end_time": "2019-01-13T17:00:08.168578Z",
     "start_time": "2019-01-13T17:00:08.041463Z"
    }
   },
   "outputs": [
    {
     "name": "stdout",
     "output_type": "stream",
     "text": [
      "The quick red fox\n"
     ]
    }
   ],
   "source": [
    "print('The {q} {r} {f}'.format(f='fox', r='red', q='quick'))"
   ]
  },
  {
   "cell_type": "markdown",
   "metadata": {},
   "source": [
    "** Float formating follows ** `{value:width.precision}`"
   ]
  },
  {
   "cell_type": "code",
   "execution_count": 12,
   "metadata": {
    "ExecuteTime": {
     "end_time": "2019-01-13T17:00:08.287041Z",
     "start_time": "2019-01-13T17:00:08.171744Z"
    }
   },
   "outputs": [
    {
     "name": "stdout",
     "output_type": "stream",
     "text": [
      "11.11111111111111\n"
     ]
    }
   ],
   "source": [
    "result = 100/9\n",
    "print(result)"
   ]
  },
  {
   "cell_type": "code",
   "execution_count": 13,
   "metadata": {
    "ExecuteTime": {
     "end_time": "2019-01-13T17:00:08.439816Z",
     "start_time": "2019-01-13T17:00:08.291307Z"
    }
   },
   "outputs": [
    {
     "name": "stdout",
     "output_type": "stream",
     "text": [
      "The result was     11.111\n"
     ]
    }
   ],
   "source": [
    "print('The result was {r:10.3f}'.format(r=result))"
   ]
  },
  {
   "cell_type": "code",
   "execution_count": 14,
   "metadata": {
    "ExecuteTime": {
     "end_time": "2019-01-13T17:00:08.606678Z",
     "start_time": "2019-01-13T17:00:08.445096Z"
    }
   },
   "outputs": [
    {
     "name": "stdout",
     "output_type": "stream",
     "text": [
      "My name is Jose\n",
      "My name is Jose\n",
      "My name is 'Jose'\n"
     ]
    }
   ],
   "source": [
    "name = 'Jose'\n",
    "print('My name is {}'.format(name))\n",
    "print(f'My name is {name}') #formatted string literal - Python 3.6\n",
    "print(f'My name is {name!r}')"
   ]
  },
  {
   "cell_type": "markdown",
   "metadata": {},
   "source": [
    "** Placeholders **"
   ]
  },
  {
   "cell_type": "code",
   "execution_count": 15,
   "metadata": {
    "ExecuteTime": {
     "end_time": "2019-01-13T17:00:08.871357Z",
     "start_time": "2019-01-13T17:00:08.611200Z"
    }
   },
   "outputs": [
    {
     "name": "stdout",
     "output_type": "stream",
     "text": [
      "My name is Jose\n",
      "My name is 'Jose'\n"
     ]
    }
   ],
   "source": [
    "print('My name is %s' % (name))\n",
    "print('My name is %r' % (name))"
   ]
  },
  {
   "cell_type": "code",
   "execution_count": 16,
   "metadata": {
    "ExecuteTime": {
     "end_time": "2019-01-13T17:00:09.049183Z",
     "start_time": "2019-01-13T17:00:08.875726Z"
    }
   },
   "outputs": [
    {
     "name": "stdout",
     "output_type": "stream",
     "text": [
      "I wrote 3.75 programs today.\n",
      "I wrote 3 programs today.\n"
     ]
    }
   ],
   "source": [
    "print('I wrote %s programs today.' % 3.75)\n",
    "print('I wrote %d programs today.' % 3.75)"
   ]
  },
  {
   "cell_type": "markdown",
   "metadata": {},
   "source": [
    "** Alignment, padding and precision with ** `.format()`"
   ]
  },
  {
   "cell_type": "code",
   "execution_count": 17,
   "metadata": {
    "ExecuteTime": {
     "end_time": "2019-01-13T17:00:09.185692Z",
     "start_time": "2019-01-13T17:00:09.053771Z"
    }
   },
   "outputs": [
    {
     "name": "stdout",
     "output_type": "stream",
     "text": [
      "Left     |  Center  |    Right\n",
      "11       |    22    |       33\n"
     ]
    }
   ],
   "source": [
    "print('{0:<8} | {1:^8} | {2:>8}'.format('Left','Center','Right'))\n",
    "print('{0:<8} | {1:^8} | {2:>8}'.format(11,22,33))"
   ]
  },
  {
   "cell_type": "code",
   "execution_count": 18,
   "metadata": {
    "ExecuteTime": {
     "end_time": "2019-01-13T17:00:09.304682Z",
     "start_time": "2019-01-13T17:00:09.190560Z"
    }
   },
   "outputs": [
    {
     "name": "stdout",
     "output_type": "stream",
     "text": [
      "Left==== | -Center- | ...Right\n",
      "11====== | ---22--- | ......33\n"
     ]
    }
   ],
   "source": [
    "print('{0:=<8} | {1:-^8} | {2:.>8}'.format('Left','Center','Right'))\n",
    "print('{0:=<8} | {1:-^8} | {2:.>8}'.format(11,22,33))"
   ]
  },
  {
   "cell_type": "markdown",
   "metadata": {},
   "source": [
    "More functionalities: (https://pyformat.info/)"
   ]
  },
  {
   "cell_type": "markdown",
   "metadata": {},
   "source": [
    "### 20. Lists in Python"
   ]
  },
  {
   "cell_type": "code",
   "execution_count": 19,
   "metadata": {
    "ExecuteTime": {
     "end_time": "2019-01-13T17:00:09.447110Z",
     "start_time": "2019-01-13T17:00:09.309900Z"
    }
   },
   "outputs": [],
   "source": [
    "my_list = [1,2,3]\n",
    "my_list = ['string',2,3.54] # mixing type"
   ]
  },
  {
   "cell_type": "code",
   "execution_count": 20,
   "metadata": {
    "ExecuteTime": {
     "end_time": "2019-01-13T17:00:09.566783Z",
     "start_time": "2019-01-13T17:00:09.452125Z"
    }
   },
   "outputs": [
    {
     "data": {
      "text/plain": [
       "3"
      ]
     },
     "execution_count": 20,
     "metadata": {},
     "output_type": "execute_result"
    }
   ],
   "source": [
    "len(my_list)"
   ]
  },
  {
   "cell_type": "code",
   "execution_count": 21,
   "metadata": {
    "ExecuteTime": {
     "end_time": "2019-01-13T17:00:09.683562Z",
     "start_time": "2019-01-13T17:00:09.570842Z"
    }
   },
   "outputs": [
    {
     "data": {
      "text/plain": [
       "['two', 'three']"
      ]
     },
     "execution_count": 21,
     "metadata": {},
     "output_type": "execute_result"
    }
   ],
   "source": [
    "my_list = ['one','two','three']\n",
    "my_list[1:]"
   ]
  },
  {
   "cell_type": "code",
   "execution_count": 22,
   "metadata": {
    "ExecuteTime": {
     "end_time": "2019-01-13T17:00:09.826721Z",
     "start_time": "2019-01-13T17:00:09.687224Z"
    }
   },
   "outputs": [
    {
     "data": {
      "text/plain": [
       "['one', 'two', 'three', 'four', 'five']"
      ]
     },
     "execution_count": 22,
     "metadata": {},
     "output_type": "execute_result"
    }
   ],
   "source": [
    "another_list = ['four','five']\n",
    "my_list + another_list"
   ]
  },
  {
   "cell_type": "code",
   "execution_count": 23,
   "metadata": {
    "ExecuteTime": {
     "end_time": "2019-01-13T17:00:09.953411Z",
     "start_time": "2019-01-13T17:00:09.830318Z"
    }
   },
   "outputs": [
    {
     "data": {
      "text/plain": [
       "['one', 'two', 'three', 'four', 'five', 'six']"
      ]
     },
     "execution_count": 23,
     "metadata": {},
     "output_type": "execute_result"
    }
   ],
   "source": [
    "new_list = my_list + another_list\n",
    "new_list.append('six') # add a new item in a list\n",
    "new_list"
   ]
  },
  {
   "cell_type": "code",
   "execution_count": 24,
   "metadata": {
    "ExecuteTime": {
     "end_time": "2019-01-13T17:00:10.069492Z",
     "start_time": "2019-01-13T17:00:09.956811Z"
    }
   },
   "outputs": [
    {
     "data": {
      "text/plain": [
       "'six'"
      ]
     },
     "execution_count": 24,
     "metadata": {},
     "output_type": "execute_result"
    }
   ],
   "source": [
    "new_list.pop() # remove the last item"
   ]
  },
  {
   "cell_type": "code",
   "execution_count": 25,
   "metadata": {
    "ExecuteTime": {
     "end_time": "2019-01-13T17:00:10.214076Z",
     "start_time": "2019-01-13T17:00:10.073099Z"
    }
   },
   "outputs": [
    {
     "data": {
      "text/plain": [
       "['one', 'two', 'three', 'four', 'five']"
      ]
     },
     "execution_count": 25,
     "metadata": {},
     "output_type": "execute_result"
    }
   ],
   "source": [
    "new_list"
   ]
  },
  {
   "cell_type": "code",
   "execution_count": 26,
   "metadata": {
    "ExecuteTime": {
     "end_time": "2019-01-13T17:00:10.369464Z",
     "start_time": "2019-01-13T17:00:10.218435Z"
    }
   },
   "outputs": [
    {
     "data": {
      "text/plain": [
       "'one'"
      ]
     },
     "execution_count": 26,
     "metadata": {},
     "output_type": "execute_result"
    }
   ],
   "source": [
    "new_list.pop(0) # remove by indexing"
   ]
  },
  {
   "cell_type": "code",
   "execution_count": 27,
   "metadata": {
    "ExecuteTime": {
     "end_time": "2019-01-13T17:00:10.503384Z",
     "start_time": "2019-01-13T17:00:10.373239Z"
    }
   },
   "outputs": [
    {
     "data": {
      "text/plain": [
       "['two', 'three', 'four', 'five']"
      ]
     },
     "execution_count": 27,
     "metadata": {},
     "output_type": "execute_result"
    }
   ],
   "source": [
    "new_list"
   ]
  },
  {
   "cell_type": "code",
   "execution_count": 28,
   "metadata": {
    "ExecuteTime": {
     "end_time": "2019-01-13T17:00:11.005681Z",
     "start_time": "2019-01-13T17:00:10.507279Z"
    }
   },
   "outputs": [],
   "source": [
    "str_list = ['a','z','b','x','c','w']\n",
    "num_list = [7,5,3,1,2,4,6]"
   ]
  },
  {
   "cell_type": "code",
   "execution_count": 29,
   "metadata": {
    "ExecuteTime": {
     "end_time": "2019-01-13T17:00:11.121704Z",
     "start_time": "2019-01-13T17:00:11.009350Z"
    }
   },
   "outputs": [],
   "source": [
    "str_list.sort()\n",
    "num_list.sort()"
   ]
  },
  {
   "cell_type": "code",
   "execution_count": 30,
   "metadata": {
    "ExecuteTime": {
     "end_time": "2019-01-13T17:00:11.272896Z",
     "start_time": "2019-01-13T17:00:11.125786Z"
    }
   },
   "outputs": [
    {
     "data": {
      "text/plain": [
       "['a', 'b', 'c', 'w', 'x', 'z']"
      ]
     },
     "execution_count": 30,
     "metadata": {},
     "output_type": "execute_result"
    }
   ],
   "source": [
    "str_list"
   ]
  },
  {
   "cell_type": "code",
   "execution_count": 31,
   "metadata": {
    "ExecuteTime": {
     "end_time": "2019-01-13T17:00:11.400925Z",
     "start_time": "2019-01-13T17:00:11.277208Z"
    }
   },
   "outputs": [
    {
     "data": {
      "text/plain": [
       "[1, 2, 3, 4, 5, 6, 7]"
      ]
     },
     "execution_count": 31,
     "metadata": {},
     "output_type": "execute_result"
    }
   ],
   "source": [
    "num_list"
   ]
  },
  {
   "cell_type": "code",
   "execution_count": 32,
   "metadata": {
    "ExecuteTime": {
     "end_time": "2019-01-13T17:00:11.504549Z",
     "start_time": "2019-01-13T17:00:11.404506Z"
    }
   },
   "outputs": [],
   "source": [
    "num_list.reverse()"
   ]
  },
  {
   "cell_type": "code",
   "execution_count": 33,
   "metadata": {
    "ExecuteTime": {
     "end_time": "2019-01-13T17:00:11.622283Z",
     "start_time": "2019-01-13T17:00:11.507656Z"
    }
   },
   "outputs": [
    {
     "data": {
      "text/plain": [
       "[7, 6, 5, 4, 3, 2, 1]"
      ]
     },
     "execution_count": 33,
     "metadata": {},
     "output_type": "execute_result"
    }
   ],
   "source": [
    "num_list"
   ]
  },
  {
   "cell_type": "markdown",
   "metadata": {},
   "source": [
    "### 22. Dictionaries in Python"
   ]
  },
  {
   "cell_type": "code",
   "execution_count": 34,
   "metadata": {
    "ExecuteTime": {
     "end_time": "2019-01-13T17:00:11.743045Z",
     "start_time": "2019-01-13T17:00:11.625841Z"
    }
   },
   "outputs": [],
   "source": [
    "my_dict = {'key1':'value1','key2':'values2'} # also can mixing values"
   ]
  },
  {
   "cell_type": "code",
   "execution_count": 35,
   "metadata": {
    "ExecuteTime": {
     "end_time": "2019-01-13T17:00:11.867251Z",
     "start_time": "2019-01-13T17:00:11.747103Z"
    }
   },
   "outputs": [
    {
     "data": {
      "text/plain": [
       "{'key1': 'value1', 'key2': 'values2'}"
      ]
     },
     "execution_count": 35,
     "metadata": {},
     "output_type": "execute_result"
    }
   ],
   "source": [
    "my_dict"
   ]
  },
  {
   "cell_type": "code",
   "execution_count": 36,
   "metadata": {
    "ExecuteTime": {
     "end_time": "2019-01-13T17:00:11.961270Z",
     "start_time": "2019-01-13T17:00:11.871066Z"
    }
   },
   "outputs": [
    {
     "data": {
      "text/plain": [
       "'values2'"
      ]
     },
     "execution_count": 36,
     "metadata": {},
     "output_type": "execute_result"
    }
   ],
   "source": [
    "my_dict['key2']"
   ]
  },
  {
   "cell_type": "code",
   "execution_count": 37,
   "metadata": {
    "ExecuteTime": {
     "end_time": "2019-01-13T17:00:12.077489Z",
     "start_time": "2019-01-13T17:00:11.965619Z"
    }
   },
   "outputs": [
    {
     "data": {
      "text/plain": [
       "{'k1': 100, 'k2': 200}"
      ]
     },
     "execution_count": 37,
     "metadata": {},
     "output_type": "execute_result"
    }
   ],
   "source": [
    "my_dict = {'k1':100, 'k2':200}\n",
    "my_dict"
   ]
  },
  {
   "cell_type": "code",
   "execution_count": 38,
   "metadata": {
    "ExecuteTime": {
     "end_time": "2019-01-13T17:00:12.266327Z",
     "start_time": "2019-01-13T17:00:12.081309Z"
    }
   },
   "outputs": [
    {
     "data": {
      "text/plain": [
       "{'k1': 100, 'k2': 200, 'k3': 300}"
      ]
     },
     "execution_count": 38,
     "metadata": {},
     "output_type": "execute_result"
    }
   ],
   "source": [
    "my_dict['k3'] = 300 # append and change values by 'key'\n",
    "my_dict"
   ]
  },
  {
   "cell_type": "code",
   "execution_count": 39,
   "metadata": {
    "ExecuteTime": {
     "end_time": "2019-01-13T17:00:12.376609Z",
     "start_time": "2019-01-13T17:00:12.271256Z"
    }
   },
   "outputs": [
    {
     "data": {
      "text/plain": [
       "dict_keys(['k1', 'k2', 'k3'])"
      ]
     },
     "execution_count": 39,
     "metadata": {},
     "output_type": "execute_result"
    }
   ],
   "source": [
    "my_dict.keys() # keys"
   ]
  },
  {
   "cell_type": "code",
   "execution_count": 40,
   "metadata": {
    "ExecuteTime": {
     "end_time": "2019-01-13T17:00:12.509504Z",
     "start_time": "2019-01-13T17:00:12.380563Z"
    }
   },
   "outputs": [
    {
     "data": {
      "text/plain": [
       "dict_values([100, 200, 300])"
      ]
     },
     "execution_count": 40,
     "metadata": {},
     "output_type": "execute_result"
    }
   ],
   "source": [
    "my_dict.values() # values"
   ]
  },
  {
   "cell_type": "code",
   "execution_count": 41,
   "metadata": {
    "ExecuteTime": {
     "end_time": "2019-01-13T17:00:12.687385Z",
     "start_time": "2019-01-13T17:00:12.515327Z"
    }
   },
   "outputs": [
    {
     "data": {
      "text/plain": [
       "dict_items([('k1', 100), ('k2', 200), ('k3', 300)])"
      ]
     },
     "execution_count": 41,
     "metadata": {},
     "output_type": "execute_result"
    }
   ],
   "source": [
    "my_dict.items() # tuple of pair 'key', 'value'"
   ]
  },
  {
   "cell_type": "markdown",
   "metadata": {},
   "source": [
    "### 24. Tuples with Python\n",
    "\n",
    "Similar to lists. However, they are _immutability_.   \n",
    "Thus, the elements in a tuple can not be reassign.   "
   ]
  },
  {
   "cell_type": "code",
   "execution_count": 42,
   "metadata": {
    "ExecuteTime": {
     "end_time": "2019-01-13T17:00:12.863130Z",
     "start_time": "2019-01-13T17:00:12.691050Z"
    }
   },
   "outputs": [],
   "source": [
    "my_tup = (1,2,3) # also, mixing types"
   ]
  },
  {
   "cell_type": "code",
   "execution_count": 43,
   "metadata": {
    "ExecuteTime": {
     "end_time": "2019-01-13T17:00:12.987927Z",
     "start_time": "2019-01-13T17:00:12.865672Z"
    }
   },
   "outputs": [
    {
     "data": {
      "text/plain": [
       "(tuple, 3)"
      ]
     },
     "execution_count": 43,
     "metadata": {},
     "output_type": "execute_result"
    }
   ],
   "source": [
    "type(my_tup), len(my_tup)"
   ]
  },
  {
   "cell_type": "code",
   "execution_count": 44,
   "metadata": {
    "ExecuteTime": {
     "end_time": "2019-01-13T17:00:13.144225Z",
     "start_time": "2019-01-13T17:00:12.990968Z"
    }
   },
   "outputs": [
    {
     "data": {
      "text/plain": [
       "3"
      ]
     },
     "execution_count": 44,
     "metadata": {},
     "output_type": "execute_result"
    }
   ],
   "source": [
    "my_tup[-1] # indexing"
   ]
  },
  {
   "cell_type": "code",
   "execution_count": 45,
   "metadata": {
    "ExecuteTime": {
     "end_time": "2019-01-13T17:00:13.264797Z",
     "start_time": "2019-01-13T17:00:13.149332Z"
    }
   },
   "outputs": [],
   "source": [
    "my_tup = ('a', 'b', 'a', 'a')"
   ]
  },
  {
   "cell_type": "code",
   "execution_count": 46,
   "metadata": {
    "ExecuteTime": {
     "end_time": "2019-01-13T17:00:13.386621Z",
     "start_time": "2019-01-13T17:00:13.271851Z"
    }
   },
   "outputs": [
    {
     "data": {
      "text/plain": [
       "3"
      ]
     },
     "execution_count": 46,
     "metadata": {},
     "output_type": "execute_result"
    }
   ],
   "source": [
    "my_tup.count('a') # how many 'a' are there?"
   ]
  },
  {
   "cell_type": "code",
   "execution_count": 47,
   "metadata": {
    "ExecuteTime": {
     "end_time": "2019-01-13T17:00:13.519469Z",
     "start_time": "2019-01-13T17:00:13.390522Z"
    }
   },
   "outputs": [
    {
     "data": {
      "text/plain": [
       "0"
      ]
     },
     "execution_count": 47,
     "metadata": {},
     "output_type": "execute_result"
    }
   ],
   "source": [
    "my_tup.index('a') # index of first 'a'"
   ]
  },
  {
   "cell_type": "markdown",
   "metadata": {},
   "source": [
    "### 25. Sets in Python\n",
    "\n",
    "Unorder collections with _unique_ items.   "
   ]
  },
  {
   "cell_type": "code",
   "execution_count": 48,
   "metadata": {
    "ExecuteTime": {
     "end_time": "2019-01-13T17:00:13.677883Z",
     "start_time": "2019-01-13T17:00:13.523353Z"
    }
   },
   "outputs": [
    {
     "data": {
      "text/plain": [
       "set()"
      ]
     },
     "execution_count": 48,
     "metadata": {},
     "output_type": "execute_result"
    }
   ],
   "source": [
    "my_set = set()\n",
    "my_set"
   ]
  },
  {
   "cell_type": "code",
   "execution_count": 49,
   "metadata": {
    "ExecuteTime": {
     "end_time": "2019-01-13T17:00:13.790229Z",
     "start_time": "2019-01-13T17:00:13.681274Z"
    }
   },
   "outputs": [],
   "source": [
    "my_set.add(1)"
   ]
  },
  {
   "cell_type": "code",
   "execution_count": 50,
   "metadata": {
    "ExecuteTime": {
     "end_time": "2019-01-13T17:00:13.916614Z",
     "start_time": "2019-01-13T17:00:13.793567Z"
    }
   },
   "outputs": [
    {
     "data": {
      "text/plain": [
       "{1}"
      ]
     },
     "execution_count": 50,
     "metadata": {},
     "output_type": "execute_result"
    }
   ],
   "source": [
    "my_set"
   ]
  },
  {
   "cell_type": "code",
   "execution_count": 51,
   "metadata": {
    "ExecuteTime": {
     "end_time": "2019-01-13T17:00:14.039118Z",
     "start_time": "2019-01-13T17:00:13.923148Z"
    }
   },
   "outputs": [],
   "source": [
    "my_set.add(2)\n",
    "my_set.add(3)"
   ]
  },
  {
   "cell_type": "code",
   "execution_count": 52,
   "metadata": {
    "ExecuteTime": {
     "end_time": "2019-01-13T17:00:14.163170Z",
     "start_time": "2019-01-13T17:00:14.042249Z"
    }
   },
   "outputs": [
    {
     "data": {
      "text/plain": [
       "{1, 2, 3}"
      ]
     },
     "execution_count": 52,
     "metadata": {},
     "output_type": "execute_result"
    }
   ],
   "source": [
    "my_set"
   ]
  },
  {
   "cell_type": "code",
   "execution_count": 53,
   "metadata": {
    "ExecuteTime": {
     "end_time": "2019-01-13T17:00:14.285839Z",
     "start_time": "2019-01-13T17:00:14.167176Z"
    }
   },
   "outputs": [],
   "source": [
    "my_set.add(1) # add repeated value doesnt work"
   ]
  },
  {
   "cell_type": "code",
   "execution_count": 54,
   "metadata": {
    "ExecuteTime": {
     "end_time": "2019-01-13T17:00:14.417834Z",
     "start_time": "2019-01-13T17:00:14.289050Z"
    }
   },
   "outputs": [
    {
     "data": {
      "text/plain": [
       "{1, 2, 3}"
      ]
     },
     "execution_count": 54,
     "metadata": {},
     "output_type": "execute_result"
    }
   ],
   "source": [
    "my_set"
   ]
  },
  {
   "cell_type": "markdown",
   "metadata": {},
   "source": [
    "### 26. Booleans in Python\n",
    "\n",
    "Only `True` and `False` assessment."
   ]
  },
  {
   "cell_type": "code",
   "execution_count": 55,
   "metadata": {
    "ExecuteTime": {
     "end_time": "2019-01-13T17:00:14.541434Z",
     "start_time": "2019-01-13T17:00:14.420824Z"
    }
   },
   "outputs": [
    {
     "data": {
      "text/plain": [
       "True"
      ]
     },
     "execution_count": 55,
     "metadata": {},
     "output_type": "execute_result"
    }
   ],
   "source": [
    "True"
   ]
  },
  {
   "cell_type": "code",
   "execution_count": 56,
   "metadata": {
    "ExecuteTime": {
     "end_time": "2019-01-13T17:00:14.646808Z",
     "start_time": "2019-01-13T17:00:14.544610Z"
    }
   },
   "outputs": [
    {
     "data": {
      "text/plain": [
       "False"
      ]
     },
     "execution_count": 56,
     "metadata": {},
     "output_type": "execute_result"
    }
   ],
   "source": [
    "False"
   ]
  },
  {
   "cell_type": "code",
   "execution_count": 57,
   "metadata": {
    "ExecuteTime": {
     "end_time": "2019-01-13T17:00:14.750665Z",
     "start_time": "2019-01-13T17:00:14.650647Z"
    }
   },
   "outputs": [
    {
     "data": {
      "text/plain": [
       "False"
      ]
     },
     "execution_count": 57,
     "metadata": {},
     "output_type": "execute_result"
    }
   ],
   "source": [
    "1 > 2 # comparison operators"
   ]
  },
  {
   "cell_type": "markdown",
   "metadata": {},
   "source": [
    "### 27. I/O with Basic Files in Python"
   ]
  },
  {
   "cell_type": "markdown",
   "metadata": {},
   "source": [
    "Used in jupyter notebook to create a new file: `%%writefile path/filename`."
   ]
  },
  {
   "cell_type": "code",
   "execution_count": 58,
   "metadata": {
    "ExecuteTime": {
     "end_time": "2019-01-13T17:00:14.874552Z",
     "start_time": "2019-01-13T17:00:14.754767Z"
    }
   },
   "outputs": [
    {
     "name": "stdout",
     "output_type": "stream",
     "text": [
      "Overwriting my_file.txt\n"
     ]
    }
   ],
   "source": [
    "%%writefile my_file.txt\n",
    "Hello this is a text file.\n",
    "This is the second line.\n",
    "This is the third line."
   ]
  },
  {
   "cell_type": "code",
   "execution_count": 59,
   "metadata": {
    "ExecuteTime": {
     "end_time": "2019-01-13T17:00:15.040219Z",
     "start_time": "2019-01-13T17:00:14.877957Z"
    }
   },
   "outputs": [
    {
     "data": {
      "text/plain": [
       "'/home/leonardo/Documents/Git/udemy-complete-python-bootcamp'"
      ]
     },
     "execution_count": 59,
     "metadata": {},
     "output_type": "execute_result"
    }
   ],
   "source": [
    "%pwd # this is a variable"
   ]
  },
  {
   "cell_type": "code",
   "execution_count": 60,
   "metadata": {
    "ExecuteTime": {
     "end_time": "2019-01-13T17:00:15.166089Z",
     "start_time": "2019-01-13T17:00:15.043852Z"
    }
   },
   "outputs": [],
   "source": [
    "# can be used full or dymanic path\n",
    "my_file = open('my_file.txt')"
   ]
  },
  {
   "cell_type": "markdown",
   "metadata": {},
   "source": [
    "Return all string with escape sequences."
   ]
  },
  {
   "cell_type": "code",
   "execution_count": 61,
   "metadata": {
    "ExecuteTime": {
     "end_time": "2019-01-13T17:00:15.287165Z",
     "start_time": "2019-01-13T17:00:15.169315Z"
    }
   },
   "outputs": [
    {
     "data": {
      "text/plain": [
       "'Hello this is a text file.\\nThis is the second line.\\nThis is the third line.'"
      ]
     },
     "execution_count": 61,
     "metadata": {},
     "output_type": "execute_result"
    }
   ],
   "source": [
    "my_file.read()"
   ]
  },
  {
   "cell_type": "markdown",
   "metadata": {},
   "source": [
    "`.read()` again, return a empty string because the cursor passed by all the file."
   ]
  },
  {
   "cell_type": "code",
   "execution_count": 62,
   "metadata": {
    "ExecuteTime": {
     "end_time": "2019-01-13T17:00:15.416499Z",
     "start_time": "2019-01-13T17:00:15.291385Z"
    }
   },
   "outputs": [
    {
     "data": {
      "text/plain": [
       "''"
      ]
     },
     "execution_count": 62,
     "metadata": {},
     "output_type": "execute_result"
    }
   ],
   "source": [
    "my_file.read()"
   ]
  },
  {
   "cell_type": "markdown",
   "metadata": {
    "ExecuteTime": {
     "end_time": "2019-01-13T16:16:58.438804Z",
     "start_time": "2019-01-13T16:16:58.432288Z"
    }
   },
   "source": [
    "Return the cursor."
   ]
  },
  {
   "cell_type": "code",
   "execution_count": 63,
   "metadata": {
    "ExecuteTime": {
     "end_time": "2019-01-13T17:00:15.538559Z",
     "start_time": "2019-01-13T17:00:15.420458Z"
    }
   },
   "outputs": [
    {
     "data": {
      "text/plain": [
       "0"
      ]
     },
     "execution_count": 63,
     "metadata": {},
     "output_type": "execute_result"
    }
   ],
   "source": [
    "my_file.seek(0)"
   ]
  },
  {
   "cell_type": "code",
   "execution_count": 64,
   "metadata": {
    "ExecuteTime": {
     "end_time": "2019-01-13T17:00:16.004814Z",
     "start_time": "2019-01-13T17:00:15.542495Z"
    }
   },
   "outputs": [
    {
     "data": {
      "text/plain": [
       "['Hello this is a text file.\\n',\n",
       " 'This is the second line.\\n',\n",
       " 'This is the third line.']"
      ]
     },
     "execution_count": 64,
     "metadata": {},
     "output_type": "execute_result"
    }
   ],
   "source": [
    "my_file.readlines()"
   ]
  },
  {
   "cell_type": "markdown",
   "metadata": {},
   "source": [
    "You need close the file to avoid future errors."
   ]
  },
  {
   "cell_type": "code",
   "execution_count": 65,
   "metadata": {
    "ExecuteTime": {
     "end_time": "2019-01-13T17:00:16.124827Z",
     "start_time": "2019-01-13T17:00:16.010875Z"
    }
   },
   "outputs": [],
   "source": [
    "my_file.close()"
   ]
  },
  {
   "cell_type": "code",
   "execution_count": 66,
   "metadata": {
    "ExecuteTime": {
     "end_time": "2019-01-13T17:00:16.248526Z",
     "start_time": "2019-01-13T17:00:16.128040Z"
    }
   },
   "outputs": [
    {
     "data": {
      "text/plain": [
       "True"
      ]
     },
     "execution_count": 66,
     "metadata": {},
     "output_type": "execute_result"
    }
   ],
   "source": [
    "my_file.closed # check if is closed"
   ]
  },
  {
   "cell_type": "markdown",
   "metadata": {},
   "source": [
    "The better sintaxe to use file:"
   ]
  },
  {
   "cell_type": "code",
   "execution_count": 67,
   "metadata": {
    "ExecuteTime": {
     "end_time": "2019-01-13T17:00:16.370720Z",
     "start_time": "2019-01-13T17:00:16.252446Z"
    }
   },
   "outputs": [],
   "source": [
    "with open('my_file.txt') as my_new_file:\n",
    "    contents = my_new_file.read()"
   ]
  },
  {
   "cell_type": "code",
   "execution_count": 68,
   "metadata": {
    "ExecuteTime": {
     "end_time": "2019-01-13T17:00:16.481583Z",
     "start_time": "2019-01-13T17:00:16.373225Z"
    }
   },
   "outputs": [
    {
     "data": {
      "text/plain": [
       "'Hello this is a text file.\\nThis is the second line.\\nThis is the third line.'"
      ]
     },
     "execution_count": 68,
     "metadata": {},
     "output_type": "execute_result"
    }
   ],
   "source": [
    "contents"
   ]
  },
  {
   "cell_type": "markdown",
   "metadata": {},
   "source": [
    "How write and overwrite files? Using `mode = ['r', 'w']`\n",
    "- r: read only\n",
    "- w: write only (also overwrite)\n",
    "- a: append only\n",
    "- r+: read and write\n",
    "- w+: write and read (also ovrewrite)"
   ]
  },
  {
   "cell_type": "code",
   "execution_count": 69,
   "metadata": {
    "ExecuteTime": {
     "end_time": "2019-01-13T17:00:16.598335Z",
     "start_time": "2019-01-13T17:00:16.484935Z"
    }
   },
   "outputs": [],
   "source": [
    "with open('my_file.txt', mode='a') as f:\n",
    "    f.write('\\nnew line')"
   ]
  },
  {
   "cell_type": "code",
   "execution_count": 70,
   "metadata": {
    "ExecuteTime": {
     "end_time": "2019-01-13T17:00:16.704089Z",
     "start_time": "2019-01-13T17:00:16.601993Z"
    }
   },
   "outputs": [
    {
     "name": "stdout",
     "output_type": "stream",
     "text": [
      "Hello this is a text file.\n",
      "This is the second line.\n",
      "This is the third line.\n",
      "new line\n"
     ]
    }
   ],
   "source": [
    "with open('my_file.txt', mode='r') as f:\n",
    "    print(f.read())"
   ]
  },
  {
   "cell_type": "code",
   "execution_count": 71,
   "metadata": {
    "ExecuteTime": {
     "end_time": "2019-01-13T17:00:16.836406Z",
     "start_time": "2019-01-13T17:00:16.707742Z"
    }
   },
   "outputs": [],
   "source": [
    "with open('my_file.txt', mode='w') as f:\n",
    "    f.write('Overwrite the file!')"
   ]
  },
  {
   "cell_type": "code",
   "execution_count": 72,
   "metadata": {
    "ExecuteTime": {
     "end_time": "2019-01-13T17:00:16.975051Z",
     "start_time": "2019-01-13T17:00:16.842447Z"
    }
   },
   "outputs": [
    {
     "name": "stdout",
     "output_type": "stream",
     "text": [
      "Overwrite the file!\n"
     ]
    }
   ],
   "source": [
    "with open('my_file.txt', mode='r') as f:\n",
    "    print(f.read())"
   ]
  },
  {
   "cell_type": "markdown",
   "metadata": {},
   "source": [
    "Usefull links:\n",
    "- [CodingBat](https://codingbat.com/python): pratice Python codes.\n",
    "- [Project Euler](https://projecteuler.net/problem=27): math problems.\n",
    "- [CodeAbbey](http://www.codeabbey.com/index/task_list): general problems.\n",
    "- [Python Challenge](http://www.pythonchallenge.com/): a serie of hard problems."
   ]
  },
  {
   "cell_type": "markdown",
   "metadata": {},
   "source": [
    "### 29. Python Objects and Data Structures Assessments Overview\n",
    "\n",
    "File: section-3-test.ipynb"
   ]
  },
  {
   "cell_type": "code",
   "execution_count": null,
   "metadata": {},
   "outputs": [],
   "source": []
  }
 ],
 "metadata": {
  "kernelspec": {
   "display_name": "Python 3",
   "language": "python",
   "name": "python3"
  },
  "language_info": {
   "codemirror_mode": {
    "name": "ipython",
    "version": 3
   },
   "file_extension": ".py",
   "mimetype": "text/x-python",
   "name": "python",
   "nbconvert_exporter": "python",
   "pygments_lexer": "ipython3",
   "version": "3.6.5"
  }
 },
 "nbformat": 4,
 "nbformat_minor": 2
}
