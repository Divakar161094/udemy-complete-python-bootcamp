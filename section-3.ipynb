{
 "cells": [
  {
   "cell_type": "markdown",
   "metadata": {},
   "source": [
    "## Section 3: Python Object to Python Data Types\n",
    "\n",
    "10. Introduction to Python Data Types\n",
    "11. Numbers\n",
    "12. Quiz\n",
    "13. Variable Assignments\n",
    "14. Introduction to Strings\n",
    "15. Indexing and Slicing with Strings\n",
    "16. String Properties and Methods\n",
    "17. FAQ and Quiz\n",
    "18. Print Formatting with Strings\n",
    "19. FAQ and Quiz\n",
    "20. Lists in Python\n"
   ]
  },
  {
   "cell_type": "markdown",
   "metadata": {},
   "source": [
    "### 10. Introduction to Python Data Types\n",
    "\n",
    "_Data Types_: int, float, str   \n",
    "_Data Structures_: list, dict, tup, set, bool   \n",
    "\n",
    "| Name | Type | Description |\n",
    "| :--- | :---: | :--- |\n",
    "| Integers | `int` | Numbers: 3, 300, 200 |\n",
    "| Floating point | `float` | Number with decimal point: 2.3, 4.6, 100.0 |\n",
    "| Strings | `str` | Ordered sequence of characters: 'hello', \"Sammy\" |\n",
    "| Lists | `list` | Ordered sequence of objects: \\[10, 'hello', 200.3] |\n",
    "| Dictionaries | `dict` | Unordered Key:Value pairs: {\"key\":\"value\", ...} |\n",
    "| Tuples | `tup` | Ordered immutable sequence of objects: (10, 'hello', 200.3) |\n",
    "| Sets | `set` | Unordered collection of unique objects: {\"a\", \"b\"} |\n",
    "| Booleans | `bool` | Logical value indicating _True_ or _False_ |\n",
    "\n"
   ]
  },
  {
   "cell_type": "markdown",
   "metadata": {},
   "source": [
    "### 11. Numbers\n",
    "\n",
    "Basics:\n",
    "- Addition: `1 + 2`\n",
    "- Subtraction: `1 - 2`\n",
    "- Multiplication: `1 * 2`\n",
    "- Division: `1 / 2`\n",
    "\n",
    "Other operators:\n",
    "- Modulo or \"Mod\": `7 % 4`\n",
    "- Power: `2 ** 3`\n",
    "- Parentheses: `(2 + 1) * 10`"
   ]
  },
  {
   "cell_type": "markdown",
   "metadata": {},
   "source": [
    "### 13. Variable Assignments\n",
    "\n",
    "Rules for names:\n",
    "- Names can not start with a number;\n",
    "- There can be no scpaces in the name, use _ instead;\n",
    "- Can not use any of theses symbols: :\"',<>/?|\\()!@#$%^&*~-+=\n",
    "- Best pratice (PEP8):\n",
    "  - lowercase\n",
    "  - avoid using special words (like \"list\")\n",
    "  \n",
    "Python uses **Dymanic Typing** (can reassign variables to different data types)"
   ]
  },
  {
   "cell_type": "code",
   "execution_count": 1,
   "metadata": {
    "ExecuteTime": {
     "end_time": "2019-01-10T20:14:40.475819Z",
     "start_time": "2019-01-10T20:14:40.455974Z"
    }
   },
   "outputs": [
    {
     "name": "stdout",
     "output_type": "stream",
     "text": [
      "type: <class 'str'>\n"
     ]
    },
    {
     "data": {
      "text/plain": [
       "True"
      ]
     },
     "execution_count": 1,
     "metadata": {},
     "output_type": "execute_result"
    }
   ],
   "source": [
    "a = \"abc\"\n",
    "print('type:', type(a)) # check variable type\n",
    "type(a) == str"
   ]
  },
  {
   "cell_type": "markdown",
   "metadata": {},
   "source": [
    "### 14. Introduction to Strings\n",
    "\n",
    "Strings are _ordered sequences_ which can be indexing and slicing.   \n",
    "Also, there is reverse indexing to get the last letter of the string.   \n",
    "\n",
    "```python\n",
    "a = 'hello'\n",
    "a[4] == a[-1]\n",
    "```\n",
    "   \n",
    "Slicing, we use `[start:stop:step]`:   \n",
    "- `start`: index of slice star\n",
    "- `stop` : is the last index (but not include)\n",
    "- `stop` : \"jump\" size between `start` and `stop`\n",
    "   \n",
    "Example: `a[0:3:2]`   \n",
    "   \n",
    "Also, it is possible use _escape sequence_ (e.g., \\n, \\t, etc.)"
   ]
  },
  {
   "cell_type": "code",
   "execution_count": 2,
   "metadata": {
    "ExecuteTime": {
     "end_time": "2019-01-10T20:14:40.658616Z",
     "start_time": "2019-01-10T20:14:40.480595Z"
    }
   },
   "outputs": [
    {
     "name": "stdout",
     "output_type": "stream",
     "text": [
      "5\n",
      "hlo\n"
     ]
    }
   ],
   "source": [
    "a = 'hello'\n",
    "print(len(a))\n",
    "print(a[0:5:2])"
   ]
  },
  {
   "cell_type": "markdown",
   "metadata": {},
   "source": [
    "### 15. Indexing and Slicing with Strings"
   ]
  },
  {
   "cell_type": "code",
   "execution_count": 3,
   "metadata": {
    "ExecuteTime": {
     "end_time": "2019-01-10T20:14:40.815431Z",
     "start_time": "2019-01-10T20:14:40.661451Z"
    }
   },
   "outputs": [
    {
     "name": "stdout",
     "output_type": "stream",
     "text": [
      "indexing [0] : H\n",
      "indexing [-1]: d\n"
     ]
    }
   ],
   "source": [
    "mystring = 'Hello World'\n",
    "print('indexing [0] :', mystring[0])\n",
    "print('indexing [-1]:', mystring[-1])"
   ]
  },
  {
   "cell_type": "code",
   "execution_count": 4,
   "metadata": {
    "ExecuteTime": {
     "end_time": "2019-01-10T20:14:40.947566Z",
     "start_time": "2019-01-10T20:14:40.820858Z"
    }
   },
   "outputs": [
    {
     "name": "stdout",
     "output_type": "stream",
     "text": [
      "slicing [2:]   : llo World\n",
      "slicing [:2]   : He\n",
      "slicing [:]    : Hello World\n",
      "slicing [2:5]  : llo\n",
      "slicing [::]   : Hello World\n",
      "slicing [::2]  : HloWrd\n",
      "slicing [::-1] : dlroW olleH\n"
     ]
    }
   ],
   "source": [
    "print('slicing [2:]   :', mystring[2:])\n",
    "print('slicing [:2]   :', mystring[:2])\n",
    "print('slicing [:]    :', mystring[:])\n",
    "print('slicing [2:5]  :', mystring[2:5])\n",
    "print('slicing [::]   :', mystring[::])\n",
    "print('slicing [::2]  :', mystring[::2])\n",
    "print('slicing [::-1] :', mystring[::-1])"
   ]
  },
  {
   "cell_type": "markdown",
   "metadata": {},
   "source": [
    "### 16. String Properties and Methods\n",
    "\n",
    "- Immutability: you can not change a character by indexing.\n",
    "  - e.g., `mystring[0] = 'A'` - Error\n",
    "- Concatenation: put string together.\n",
    "  - e.g., `'A' + 'BCD' + 'EF'`\n",
    "  - mutiplication: `'zZ' * 10`\n",
    "- Some functions:"
   ]
  },
  {
   "cell_type": "code",
   "execution_count": 5,
   "metadata": {
    "ExecuteTime": {
     "end_time": "2019-01-10T20:14:41.127661Z",
     "start_time": "2019-01-10T20:14:40.953373Z"
    }
   },
   "outputs": [
    {
     "data": {
      "text/plain": [
       "'zZzZzZzZzZzZzZzZzZzZ'"
      ]
     },
     "execution_count": 5,
     "metadata": {},
     "output_type": "execute_result"
    }
   ],
   "source": [
    "'zZ' * 10"
   ]
  },
  {
   "cell_type": "code",
   "execution_count": 6,
   "metadata": {
    "ExecuteTime": {
     "end_time": "2019-01-10T20:14:41.247583Z",
     "start_time": "2019-01-10T20:14:41.135002Z"
    }
   },
   "outputs": [
    {
     "data": {
      "text/plain": [
       "'HELLO WORLD'"
      ]
     },
     "execution_count": 6,
     "metadata": {},
     "output_type": "execute_result"
    }
   ],
   "source": [
    "mystring.upper()"
   ]
  },
  {
   "cell_type": "code",
   "execution_count": 7,
   "metadata": {
    "ExecuteTime": {
     "end_time": "2019-01-10T20:14:41.391540Z",
     "start_time": "2019-01-10T20:14:41.250694Z"
    }
   },
   "outputs": [
    {
     "data": {
      "text/plain": [
       "'Hello world'"
      ]
     },
     "execution_count": 7,
     "metadata": {},
     "output_type": "execute_result"
    }
   ],
   "source": [
    "mystring.capitalize()"
   ]
  },
  {
   "cell_type": "code",
   "execution_count": 8,
   "metadata": {
    "ExecuteTime": {
     "end_time": "2019-01-10T20:14:41.524796Z",
     "start_time": "2019-01-10T20:14:41.395404Z"
    }
   },
   "outputs": [
    {
     "data": {
      "text/plain": [
       "['Hello', 'World']"
      ]
     },
     "execution_count": 8,
     "metadata": {},
     "output_type": "execute_result"
    }
   ],
   "source": [
    "mystring.split()"
   ]
  },
  {
   "cell_type": "markdown",
   "metadata": {},
   "source": [
    "### 18. Print Formatting with Strings\n",
    "\n",
    "Methods:\n",
    "- `.format()`\n",
    "- f-strings - formatted string"
   ]
  },
  {
   "cell_type": "code",
   "execution_count": 9,
   "metadata": {
    "ExecuteTime": {
     "end_time": "2019-01-10T20:14:41.659529Z",
     "start_time": "2019-01-10T20:14:41.527919Z"
    }
   },
   "outputs": [
    {
     "name": "stdout",
     "output_type": "stream",
     "text": [
      "This is a string INSERTED\n"
     ]
    }
   ],
   "source": [
    "print('This is a string {}'.format('INSERTED'))"
   ]
  },
  {
   "cell_type": "code",
   "execution_count": 10,
   "metadata": {
    "ExecuteTime": {
     "end_time": "2019-01-10T20:14:41.802744Z",
     "start_time": "2019-01-10T20:14:41.663021Z"
    }
   },
   "outputs": [
    {
     "name": "stdout",
     "output_type": "stream",
     "text": [
      "The fox red quick\n",
      "The quick red fox\n",
      "The fox fox fox\n"
     ]
    }
   ],
   "source": [
    "print('The {} {} {}'.format('fox', 'red', 'quick'))\n",
    "print('The {2} {1} {0}'.format('fox', 'red', 'quick'))\n",
    "print('The {0} {0} {0}'.format('fox', 'red', 'quick'))"
   ]
  },
  {
   "cell_type": "code",
   "execution_count": 11,
   "metadata": {
    "ExecuteTime": {
     "end_time": "2019-01-10T20:14:41.957968Z",
     "start_time": "2019-01-10T20:14:41.805071Z"
    }
   },
   "outputs": [
    {
     "name": "stdout",
     "output_type": "stream",
     "text": [
      "The quick red fox\n"
     ]
    }
   ],
   "source": [
    "print('The {q} {r} {f}'.format(f='fox', r='red', q='quick'))"
   ]
  },
  {
   "cell_type": "markdown",
   "metadata": {},
   "source": [
    "** Float formating follows ** `{value:width.precision}`"
   ]
  },
  {
   "cell_type": "code",
   "execution_count": 12,
   "metadata": {
    "ExecuteTime": {
     "end_time": "2019-01-10T20:14:42.103792Z",
     "start_time": "2019-01-10T20:14:41.963577Z"
    }
   },
   "outputs": [
    {
     "name": "stdout",
     "output_type": "stream",
     "text": [
      "11.11111111111111\n"
     ]
    }
   ],
   "source": [
    "result = 100/9\n",
    "print(result)"
   ]
  },
  {
   "cell_type": "code",
   "execution_count": 13,
   "metadata": {
    "ExecuteTime": {
     "end_time": "2019-01-10T20:14:42.246796Z",
     "start_time": "2019-01-10T20:14:42.107075Z"
    }
   },
   "outputs": [
    {
     "name": "stdout",
     "output_type": "stream",
     "text": [
      "The result was     11.111\n"
     ]
    }
   ],
   "source": [
    "print('The result was {r:10.3f}'.format(r=result))"
   ]
  },
  {
   "cell_type": "code",
   "execution_count": 14,
   "metadata": {
    "ExecuteTime": {
     "end_time": "2019-01-10T20:14:42.378875Z",
     "start_time": "2019-01-10T20:14:42.250183Z"
    }
   },
   "outputs": [
    {
     "name": "stdout",
     "output_type": "stream",
     "text": [
      "My name is Jose\n",
      "My name is Jose\n",
      "My name is 'Jose'\n"
     ]
    }
   ],
   "source": [
    "name = 'Jose'\n",
    "print('My name is {}'.format(name))\n",
    "print(f'My name is {name}') #formatted string literal - Python 3.6\n",
    "print(f'My name is {name!r}')"
   ]
  },
  {
   "cell_type": "markdown",
   "metadata": {},
   "source": [
    "** Placeholders **"
   ]
  },
  {
   "cell_type": "code",
   "execution_count": 15,
   "metadata": {
    "ExecuteTime": {
     "end_time": "2019-01-10T20:14:42.513193Z",
     "start_time": "2019-01-10T20:14:42.383192Z"
    }
   },
   "outputs": [
    {
     "name": "stdout",
     "output_type": "stream",
     "text": [
      "My name is Jose\n",
      "My name is 'Jose'\n"
     ]
    }
   ],
   "source": [
    "print('My name is %s' % (name))\n",
    "print('My name is %r' % (name))"
   ]
  },
  {
   "cell_type": "code",
   "execution_count": 16,
   "metadata": {
    "ExecuteTime": {
     "end_time": "2019-01-10T20:14:42.677485Z",
     "start_time": "2019-01-10T20:14:42.516593Z"
    }
   },
   "outputs": [
    {
     "name": "stdout",
     "output_type": "stream",
     "text": [
      "I wrote 3.75 programs today.\n",
      "I wrote 3 programs today.\n"
     ]
    }
   ],
   "source": [
    "print('I wrote %s programs today.' % 3.75)\n",
    "print('I wrote %d programs today.' % 3.75)"
   ]
  },
  {
   "cell_type": "markdown",
   "metadata": {},
   "source": [
    "** Alignment, padding and precision with ** `.format()`"
   ]
  },
  {
   "cell_type": "code",
   "execution_count": 17,
   "metadata": {
    "ExecuteTime": {
     "end_time": "2019-01-10T20:14:42.814981Z",
     "start_time": "2019-01-10T20:14:42.682667Z"
    }
   },
   "outputs": [
    {
     "name": "stdout",
     "output_type": "stream",
     "text": [
      "Left     |  Center  |    Right\n",
      "11       |    22    |       33\n"
     ]
    }
   ],
   "source": [
    "print('{0:<8} | {1:^8} | {2:>8}'.format('Left','Center','Right'))\n",
    "print('{0:<8} | {1:^8} | {2:>8}'.format(11,22,33))"
   ]
  },
  {
   "cell_type": "code",
   "execution_count": 18,
   "metadata": {
    "ExecuteTime": {
     "end_time": "2019-01-10T20:14:42.955413Z",
     "start_time": "2019-01-10T20:14:42.819538Z"
    }
   },
   "outputs": [
    {
     "name": "stdout",
     "output_type": "stream",
     "text": [
      "Left==== | -Center- | ...Right\n",
      "11====== | ---22--- | ......33\n"
     ]
    }
   ],
   "source": [
    "print('{0:=<8} | {1:-^8} | {2:.>8}'.format('Left','Center','Right'))\n",
    "print('{0:=<8} | {1:-^8} | {2:.>8}'.format(11,22,33))"
   ]
  },
  {
   "cell_type": "markdown",
   "metadata": {},
   "source": [
    "More functionalities: (https://pyformat.info/)"
   ]
  },
  {
   "cell_type": "code",
   "execution_count": null,
   "metadata": {},
   "outputs": [],
   "source": []
  }
 ],
 "metadata": {
  "kernelspec": {
   "display_name": "Python 3",
   "language": "python",
   "name": "python3"
  },
  "language_info": {
   "codemirror_mode": {
    "name": "ipython",
    "version": 3
   },
   "file_extension": ".py",
   "mimetype": "text/x-python",
   "name": "python",
   "nbconvert_exporter": "python",
   "pygments_lexer": "ipython3",
   "version": "3.6.5"
  }
 },
 "nbformat": 4,
 "nbformat_minor": 2
}
