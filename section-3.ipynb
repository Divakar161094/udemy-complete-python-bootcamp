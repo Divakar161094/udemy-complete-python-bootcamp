{
 "cells": [
  {
   "cell_type": "markdown",
   "metadata": {},
   "source": [
    "## Section 3: Python Object to Python Data Types\n",
    "\n",
    "10. Introduction to Python Data Types\n",
    "11. Numbers\n",
    "12. Quiz\n",
    "13. Variable Assignments\n",
    "14. Introduction to Strings"
   ]
  },
  {
   "cell_type": "markdown",
   "metadata": {},
   "source": [
    "### 10. Introduction to Python Data Types\n",
    "\n",
    "_Data Types_: int, float, str   \n",
    "_Data Structures_: list, dict, tup, set, bool   \n",
    "\n",
    "| Name | Type | Description |\n",
    "| :--- | :---: | :--- |\n",
    "| Integers | `int` | Numbers: 3, 300, 200 |\n",
    "| Floating point | `float` | Number with decimal point: 2.3, 4.6, 100.0 |\n",
    "| Strings | `str` | Ordered sequence of characters: 'hello', \"Sammy\" |\n",
    "| Lists | `list` | Ordered sequence of objects: \\[10, 'hello', 200.3] |\n",
    "| Dictionaries | `dict` | Unordered Key:Value pairs: {\"key\":\"value\", ...} |\n",
    "| Tuples | `tup` | Ordered immutable sequence of objects: (10, 'hello', 200.3) |\n",
    "| Sets | `set` | Unordered collection of unique objects: {\"a\", \"b\"} |\n",
    "| Booleans | `bool` | Logical value indicating _True_ or _False_ |\n",
    "\n"
   ]
  },
  {
   "cell_type": "markdown",
   "metadata": {},
   "source": [
    "### 11. Numbers\n",
    "\n",
    "Basics:\n",
    "- Addition: `1 + 2`\n",
    "- Subtraction: `1 - 2`\n",
    "- Multiplication: `1 * 2`\n",
    "- Division: `1 / 2`\n",
    "\n",
    "Other operators:\n",
    "- Modulo or \"Mod\": `7 % 4`\n",
    "- Power: `2 ** 3`\n",
    "- Parentheses: `(2 + 1) * 10`"
   ]
  },
  {
   "cell_type": "markdown",
   "metadata": {},
   "source": [
    "### 13. Variable Assignments\n",
    "\n",
    "Rules for names:\n",
    "- Names can not start with a number;\n",
    "- There can be no scpaces in the name, use _ instead;\n",
    "- Can not use any of theses symbols: :\"',<>/?|\\()!@#$%^&*~-+=\n",
    "- Best pratice (PEP8):\n",
    "  - lowercase\n",
    "  - avoid using special words (like \"list\")\n",
    "  \n",
    "Python uses **Dymanic Typing** (can reassign variables to different data types)"
   ]
  },
  {
   "cell_type": "code",
   "execution_count": 1,
   "metadata": {
    "ExecuteTime": {
     "end_time": "2019-01-09T19:49:56.279114Z",
     "start_time": "2019-01-09T19:49:56.263025Z"
    }
   },
   "outputs": [
    {
     "data": {
      "text/plain": [
       "str"
      ]
     },
     "execution_count": 1,
     "metadata": {},
     "output_type": "execute_result"
    }
   ],
   "source": [
    "a = \"abc\"\n",
    "type(a) # check variable type"
   ]
  },
  {
   "cell_type": "code",
   "execution_count": null,
   "metadata": {},
   "outputs": [],
   "source": []
  }
 ],
 "metadata": {
  "kernelspec": {
   "display_name": "Python 3",
   "language": "python",
   "name": "python3"
  },
  "language_info": {
   "codemirror_mode": {
    "name": "ipython",
    "version": 3
   },
   "file_extension": ".py",
   "mimetype": "text/x-python",
   "name": "python",
   "nbconvert_exporter": "python",
   "pygments_lexer": "ipython3",
   "version": "3.6.5"
  }
 },
 "nbformat": 4,
 "nbformat_minor": 2
}
