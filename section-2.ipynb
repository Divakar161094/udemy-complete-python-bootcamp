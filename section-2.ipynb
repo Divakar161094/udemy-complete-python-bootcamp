{
 "cells": [
  {
   "cell_type": "markdown",
   "metadata": {},
   "source": [
    "## Section 2: Python Setup\n",
    "\n",
    "5. Command Line Basics\n",
    "6. Installing Python\n"
   ]
  },
  {
   "cell_type": "markdown",
   "metadata": {},
   "source": [
    "### Command Line Basics\n",
    "\n",
    "In terminal:   \n",
    "- Basic: `pwd`, `ls`, `cd`, `clear`\n",
    "   \n",
    "### Install\n",
    "\n",
    "Free [Anaconda distribution](https://www.anaconda.com/download/). \\[[How to do](http://docs.anaconda.com/anaconda/install/linux/)] \n"
   ]
  },
  {
   "cell_type": "code",
   "execution_count": null,
   "metadata": {},
   "outputs": [],
   "source": [
    "## Continue 7. Running Python Code"
   ]
  }
 ],
 "metadata": {
  "kernelspec": {
   "display_name": "Python 3",
   "language": "python",
   "name": "python3"
  },
  "language_info": {
   "codemirror_mode": {
    "name": "ipython",
    "version": 3
   },
   "file_extension": ".py",
   "mimetype": "text/x-python",
   "name": "python",
   "nbconvert_exporter": "python",
   "pygments_lexer": "ipython3",
   "version": "3.6.5"
  }
 },
 "nbformat": 4,
 "nbformat_minor": 2
}
