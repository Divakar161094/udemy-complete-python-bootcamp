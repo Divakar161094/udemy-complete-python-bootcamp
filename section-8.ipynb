{
 "cells": [
  {
   "cell_type": "markdown",
   "metadata": {},
   "source": [
    "## Section 8: Object Oriented Programming\n",
    "\n",
    "59. Introduction\n",
    "60. Attributes and Class keywords\n",
    "61. Class Objects Attributes and Methods\n",
    "62. Inheritance and Polymorphism\n",
    "63. Especial (Magic/Dunder) Methods\n",
    "64. Homework\n",
    "65. Challenge"
   ]
  },
  {
   "cell_type": "markdown",
   "metadata": {},
   "source": [
    "### 59. Introduction\n",
    "\n",
    "Object Oriented Programming (OOP) allows the programmer to develop their own objects with methods and attributes.   \n",
    "Objects allows organization and protected methods, inside of functions and global variables.   \n",
    "Syntaxe:\n",
    "- self keyword, inform this methods are the to the currently class.\n",
    "\n",
    "```python\n",
    "# My Class\n",
    "class NameOfClass:\n",
    "    \n",
    "    # common attribute of the instances\n",
    "    attribute = 'value'\n",
    "    \n",
    "    # init method\n",
    "    def __init__(self,param1,param2):\n",
    "        self.param1 = param1\n",
    "        self.param2 = param2\n",
    "        \n",
    "    # some method\n",
    "    def some_method(self):\n",
    "        print(self.param1, self.param2)\n",
    "```"
   ]
  },
  {
   "cell_type": "markdown",
   "metadata": {},
   "source": [
    "### 60. Attributes and Class keywords"
   ]
  },
  {
   "cell_type": "code",
   "execution_count": 1,
   "metadata": {
    "ExecuteTime": {
     "end_time": "2019-02-10T22:49:59.263019Z",
     "start_time": "2019-02-10T22:49:59.258660Z"
    }
   },
   "outputs": [],
   "source": [
    "class Sample:\n",
    "    pass"
   ]
  },
  {
   "cell_type": "code",
   "execution_count": 2,
   "metadata": {
    "ExecuteTime": {
     "end_time": "2019-02-10T22:49:59.911575Z",
     "start_time": "2019-02-10T22:49:59.907004Z"
    }
   },
   "outputs": [],
   "source": [
    "my_sample = Sample()"
   ]
  },
  {
   "cell_type": "code",
   "execution_count": 3,
   "metadata": {
    "ExecuteTime": {
     "end_time": "2019-02-10T22:50:00.423141Z",
     "start_time": "2019-02-10T22:50:00.405968Z"
    }
   },
   "outputs": [
    {
     "data": {
      "text/plain": [
       "__main__.Sample"
      ]
     },
     "execution_count": 3,
     "metadata": {},
     "output_type": "execute_result"
    }
   ],
   "source": [
    "type(my_sample)"
   ]
  },
  {
   "cell_type": "code",
   "execution_count": 4,
   "metadata": {
    "ExecuteTime": {
     "end_time": "2019-02-10T22:50:01.307258Z",
     "start_time": "2019-02-10T22:50:01.302367Z"
    }
   },
   "outputs": [],
   "source": [
    "class Dog:\n",
    "    \n",
    "    def __init__(self,breed,name):\n",
    "        self.breed = breed\n",
    "        self.name = name"
   ]
  },
  {
   "cell_type": "code",
   "execution_count": 5,
   "metadata": {
    "ExecuteTime": {
     "end_time": "2019-02-10T22:50:03.472294Z",
     "start_time": "2019-02-10T22:50:03.384652Z"
    }
   },
   "outputs": [
    {
     "ename": "TypeError",
     "evalue": "__init__() missing 2 required positional arguments: 'breed' and 'name'",
     "output_type": "error",
     "traceback": [
      "\u001b[0;31m---------------------------------------------------------------------------\u001b[0m",
      "\u001b[0;31mTypeError\u001b[0m                                 Traceback (most recent call last)",
      "\u001b[0;32m<ipython-input-5-b867e62b00ec>\u001b[0m in \u001b[0;36m<module>\u001b[0;34m()\u001b[0m\n\u001b[0;32m----> 1\u001b[0;31m \u001b[0mmy_dog\u001b[0m \u001b[0;34m=\u001b[0m \u001b[0mDog\u001b[0m\u001b[0;34m(\u001b[0m\u001b[0;34m)\u001b[0m\u001b[0;34m\u001b[0m\u001b[0m\n\u001b[0m",
      "\u001b[0;31mTypeError\u001b[0m: __init__() missing 2 required positional arguments: 'breed' and 'name'"
     ]
    }
   ],
   "source": [
    "my_dog = Dog()"
   ]
  },
  {
   "cell_type": "code",
   "execution_count": 6,
   "metadata": {
    "ExecuteTime": {
     "end_time": "2019-02-10T22:50:04.315582Z",
     "start_time": "2019-02-10T22:50:04.307165Z"
    }
   },
   "outputs": [],
   "source": [
    "my_dog = Dog(breed='poodle', name='Layka')"
   ]
  },
  {
   "cell_type": "code",
   "execution_count": 7,
   "metadata": {
    "ExecuteTime": {
     "end_time": "2019-02-10T22:50:05.823432Z",
     "start_time": "2019-02-10T22:50:05.814460Z"
    }
   },
   "outputs": [
    {
     "data": {
      "text/plain": [
       "__main__.Dog"
      ]
     },
     "execution_count": 7,
     "metadata": {},
     "output_type": "execute_result"
    }
   ],
   "source": [
    "type(my_dog)"
   ]
  },
  {
   "cell_type": "code",
   "execution_count": 8,
   "metadata": {
    "ExecuteTime": {
     "end_time": "2019-02-10T22:50:06.166395Z",
     "start_time": "2019-02-10T22:50:06.160151Z"
    }
   },
   "outputs": [
    {
     "data": {
      "text/plain": [
       "('poodle', 'Layka')"
      ]
     },
     "execution_count": 8,
     "metadata": {},
     "output_type": "execute_result"
    }
   ],
   "source": [
    "my_dog.breed, my_dog.name"
   ]
  },
  {
   "cell_type": "markdown",
   "metadata": {},
   "source": [
    "### 61. Class Objects Attributes and Methods"
   ]
  },
  {
   "cell_type": "code",
   "execution_count": 9,
   "metadata": {
    "ExecuteTime": {
     "end_time": "2019-02-10T22:50:10.404592Z",
     "start_time": "2019-02-10T22:50:10.398396Z"
    }
   },
   "outputs": [],
   "source": [
    "class Dog:\n",
    "    \n",
    "    # Class Object Attributes\n",
    "    # - same for any instance of a class\n",
    "    species = 'mammal'\n",
    "    \n",
    "    def __init__(self,breed,name):\n",
    "        self.breed = breed\n",
    "        self.name = name\n",
    "        \n",
    "    # Operations/Actions --> Method\n",
    "    # - functions inside of a class\n",
    "    def bark(self):\n",
    "        print('{n}: Woof!'.format(n=self.name))"
   ]
  },
  {
   "cell_type": "code",
   "execution_count": 10,
   "metadata": {
    "ExecuteTime": {
     "end_time": "2019-02-10T22:50:11.822503Z",
     "start_time": "2019-02-10T22:50:11.817788Z"
    }
   },
   "outputs": [],
   "source": [
    "my_dog = Dog(breed='poodle', name='Layka')"
   ]
  },
  {
   "cell_type": "code",
   "execution_count": 11,
   "metadata": {
    "ExecuteTime": {
     "end_time": "2019-02-10T22:50:12.115224Z",
     "start_time": "2019-02-10T22:50:12.108974Z"
    }
   },
   "outputs": [
    {
     "data": {
      "text/plain": [
       "'mammal'"
      ]
     },
     "execution_count": 11,
     "metadata": {},
     "output_type": "execute_result"
    }
   ],
   "source": [
    "my_dog.species"
   ]
  },
  {
   "cell_type": "code",
   "execution_count": 12,
   "metadata": {
    "ExecuteTime": {
     "end_time": "2019-02-10T22:50:12.608340Z",
     "start_time": "2019-02-10T22:50:12.603652Z"
    }
   },
   "outputs": [
    {
     "name": "stdout",
     "output_type": "stream",
     "text": [
      "Layka: Woof!\n"
     ]
    }
   ],
   "source": [
    "my_dog.bark()"
   ]
  },
  {
   "cell_type": "code",
   "execution_count": 13,
   "metadata": {
    "ExecuteTime": {
     "end_time": "2019-02-10T22:50:15.825834Z",
     "start_time": "2019-02-10T22:50:15.809291Z"
    }
   },
   "outputs": [],
   "source": [
    "class Circle:\n",
    "    \n",
    "    pi = 3.14159\n",
    "    \n",
    "    def __init__(self,radius=1): # radius=1 default parameter\n",
    "        self.radius = radius\n",
    "        self.area = radius**2 * Circle.pi # of self.pi\n",
    "        \n",
    "    def get_circumference(self):\n",
    "        return self.radius * self.pi * 2.0"
   ]
  },
  {
   "cell_type": "code",
   "execution_count": 14,
   "metadata": {
    "ExecuteTime": {
     "end_time": "2019-02-10T22:50:17.296402Z",
     "start_time": "2019-02-10T22:50:17.289287Z"
    }
   },
   "outputs": [],
   "source": [
    "my_circle = Circle()"
   ]
  },
  {
   "cell_type": "code",
   "execution_count": 15,
   "metadata": {
    "ExecuteTime": {
     "end_time": "2019-02-10T22:50:18.094715Z",
     "start_time": "2019-02-10T22:50:18.088622Z"
    }
   },
   "outputs": [
    {
     "data": {
      "text/plain": [
       "3.14159"
      ]
     },
     "execution_count": 15,
     "metadata": {},
     "output_type": "execute_result"
    }
   ],
   "source": [
    "my_circle.pi"
   ]
  },
  {
   "cell_type": "code",
   "execution_count": 16,
   "metadata": {
    "ExecuteTime": {
     "end_time": "2019-02-10T22:50:19.084268Z",
     "start_time": "2019-02-10T22:50:19.078015Z"
    }
   },
   "outputs": [
    {
     "data": {
      "text/plain": [
       "3.14159"
      ]
     },
     "execution_count": 16,
     "metadata": {},
     "output_type": "execute_result"
    }
   ],
   "source": [
    "Circle.pi"
   ]
  },
  {
   "cell_type": "code",
   "execution_count": 17,
   "metadata": {
    "ExecuteTime": {
     "end_time": "2019-02-10T22:50:20.020114Z",
     "start_time": "2019-02-10T22:50:20.013050Z"
    }
   },
   "outputs": [
    {
     "data": {
      "text/plain": [
       "1"
      ]
     },
     "execution_count": 17,
     "metadata": {},
     "output_type": "execute_result"
    }
   ],
   "source": [
    "my_circle.radius"
   ]
  },
  {
   "cell_type": "code",
   "execution_count": 18,
   "metadata": {
    "ExecuteTime": {
     "end_time": "2019-02-10T22:50:20.578204Z",
     "start_time": "2019-02-10T22:50:20.571185Z"
    }
   },
   "outputs": [
    {
     "data": {
      "text/plain": [
       "3.14159"
      ]
     },
     "execution_count": 18,
     "metadata": {},
     "output_type": "execute_result"
    }
   ],
   "source": [
    "my_circle.area"
   ]
  },
  {
   "cell_type": "code",
   "execution_count": 19,
   "metadata": {
    "ExecuteTime": {
     "end_time": "2019-02-10T22:50:21.128674Z",
     "start_time": "2019-02-10T22:50:21.121386Z"
    }
   },
   "outputs": [
    {
     "data": {
      "text/plain": [
       "6.28318"
      ]
     },
     "execution_count": 19,
     "metadata": {},
     "output_type": "execute_result"
    }
   ],
   "source": [
    "my_circle.get_circumference()"
   ]
  },
  {
   "cell_type": "markdown",
   "metadata": {},
   "source": [
    "### 62. Inheritance and Polymorphism\n",
    "\n",
    "How to reuse methods and attributes: Use Inheritance Class."
   ]
  },
  {
   "cell_type": "code",
   "execution_count": 20,
   "metadata": {
    "ExecuteTime": {
     "end_time": "2019-02-10T22:50:25.091314Z",
     "start_time": "2019-02-10T22:50:25.076081Z"
    }
   },
   "outputs": [],
   "source": [
    "class Animal: # base class\n",
    "    def __init__(self):\n",
    "        print('Animal created')\n",
    "        \n",
    "    def who_am_i(self):\n",
    "        print('I am a Animal')\n",
    "    \n",
    "    def eat(self):\n",
    "        print('I am eating')"
   ]
  },
  {
   "cell_type": "code",
   "execution_count": 21,
   "metadata": {
    "ExecuteTime": {
     "end_time": "2019-02-10T22:50:26.833704Z",
     "start_time": "2019-02-10T22:50:26.827944Z"
    }
   },
   "outputs": [
    {
     "name": "stdout",
     "output_type": "stream",
     "text": [
      "Animal created\n"
     ]
    }
   ],
   "source": [
    "my_animal = Animal()"
   ]
  },
  {
   "cell_type": "code",
   "execution_count": 22,
   "metadata": {
    "ExecuteTime": {
     "end_time": "2019-02-10T22:50:30.236990Z",
     "start_time": "2019-02-10T22:50:30.219070Z"
    }
   },
   "outputs": [],
   "source": [
    "class Dog(Animal): # inheriting Animal Class\n",
    "    \n",
    "    def __init__(self):\n",
    "        Animal.__init__(self)\n",
    "        print('Dog created')\n",
    "        \n",
    "    def who_am_i(self):\n",
    "        print('I am a Dog')\n",
    "        \n",
    "    def bark(self):\n",
    "        print('Woof!')"
   ]
  },
  {
   "cell_type": "code",
   "execution_count": 23,
   "metadata": {
    "ExecuteTime": {
     "end_time": "2019-02-10T22:50:31.431858Z",
     "start_time": "2019-02-10T22:50:31.425754Z"
    }
   },
   "outputs": [
    {
     "name": "stdout",
     "output_type": "stream",
     "text": [
      "Animal created\n",
      "Dog created\n"
     ]
    }
   ],
   "source": [
    "my_dog = Dog()"
   ]
  },
  {
   "cell_type": "code",
   "execution_count": 24,
   "metadata": {
    "ExecuteTime": {
     "end_time": "2019-02-10T22:50:31.888440Z",
     "start_time": "2019-02-10T22:50:31.884499Z"
    }
   },
   "outputs": [
    {
     "name": "stdout",
     "output_type": "stream",
     "text": [
      "I am a Dog\n"
     ]
    }
   ],
   "source": [
    "my_dog.who_am_i()"
   ]
  },
  {
   "cell_type": "code",
   "execution_count": 25,
   "metadata": {
    "ExecuteTime": {
     "end_time": "2019-02-10T22:50:32.557306Z",
     "start_time": "2019-02-10T22:50:32.552130Z"
    }
   },
   "outputs": [
    {
     "name": "stdout",
     "output_type": "stream",
     "text": [
      "I am eating\n"
     ]
    }
   ],
   "source": [
    "my_dog.eat()"
   ]
  },
  {
   "cell_type": "code",
   "execution_count": 26,
   "metadata": {
    "ExecuteTime": {
     "end_time": "2019-02-10T22:50:34.164798Z",
     "start_time": "2019-02-10T22:50:34.159285Z"
    }
   },
   "outputs": [
    {
     "name": "stdout",
     "output_type": "stream",
     "text": [
      "Woof!\n"
     ]
    }
   ],
   "source": [
    "my_dog.bark()"
   ]
  },
  {
   "cell_type": "markdown",
   "metadata": {},
   "source": [
    "Polymorphism"
   ]
  },
  {
   "cell_type": "code",
   "execution_count": 27,
   "metadata": {
    "ExecuteTime": {
     "end_time": "2019-02-10T22:50:36.669226Z",
     "start_time": "2019-02-10T22:50:36.659022Z"
    }
   },
   "outputs": [],
   "source": [
    "class Dog:\n",
    "    \n",
    "    def __init__(self,name):\n",
    "        self.name = name\n",
    "    \n",
    "    def speak(self):\n",
    "        return ('{} says Woof!'.format(self.name))"
   ]
  },
  {
   "cell_type": "code",
   "execution_count": 28,
   "metadata": {
    "ExecuteTime": {
     "end_time": "2019-02-10T22:50:43.587446Z",
     "start_time": "2019-02-10T22:50:43.577181Z"
    }
   },
   "outputs": [],
   "source": [
    "class Cat:\n",
    "    \n",
    "    def __init__(self,name):\n",
    "        self.name = name\n",
    "    \n",
    "    def speak(self):\n",
    "        return ('{} says Meow!'.format(self.name))"
   ]
  },
  {
   "cell_type": "code",
   "execution_count": 29,
   "metadata": {
    "ExecuteTime": {
     "end_time": "2019-02-10T22:50:44.793034Z",
     "start_time": "2019-02-10T22:50:44.785958Z"
    }
   },
   "outputs": [
    {
     "data": {
      "text/plain": [
       "'niko says Woof!'"
      ]
     },
     "execution_count": 29,
     "metadata": {},
     "output_type": "execute_result"
    }
   ],
   "source": [
    "niko = Dog('niko')\n",
    "niko.speak()"
   ]
  },
  {
   "cell_type": "code",
   "execution_count": 30,
   "metadata": {
    "ExecuteTime": {
     "end_time": "2019-02-10T22:50:45.271325Z",
     "start_time": "2019-02-10T22:50:45.263268Z"
    }
   },
   "outputs": [
    {
     "data": {
      "text/plain": [
       "'felix says Meow!'"
      ]
     },
     "execution_count": 30,
     "metadata": {},
     "output_type": "execute_result"
    }
   ],
   "source": [
    "felix = Cat('felix')\n",
    "felix.speak()"
   ]
  },
  {
   "cell_type": "code",
   "execution_count": 31,
   "metadata": {
    "ExecuteTime": {
     "end_time": "2019-02-10T22:50:46.736246Z",
     "start_time": "2019-02-10T22:50:46.730709Z"
    }
   },
   "outputs": [
    {
     "name": "stdout",
     "output_type": "stream",
     "text": [
      "<class '__main__.Dog'>\n",
      "<class '__main__.Cat'>\n"
     ]
    }
   ],
   "source": [
    "for pet in [niko, felix]:\n",
    "    print(type(pet))"
   ]
  },
  {
   "cell_type": "code",
   "execution_count": 32,
   "metadata": {
    "ExecuteTime": {
     "end_time": "2019-02-10T22:50:47.223995Z",
     "start_time": "2019-02-10T22:50:47.219107Z"
    }
   },
   "outputs": [],
   "source": [
    "def pet_speak(pet):\n",
    "    print(pet.speak())"
   ]
  },
  {
   "cell_type": "code",
   "execution_count": 33,
   "metadata": {
    "ExecuteTime": {
     "end_time": "2019-02-10T22:50:47.914778Z",
     "start_time": "2019-02-10T22:50:47.909485Z"
    }
   },
   "outputs": [
    {
     "name": "stdout",
     "output_type": "stream",
     "text": [
      "niko says Woof!\n"
     ]
    }
   ],
   "source": [
    "pet_speak(niko)"
   ]
  },
  {
   "cell_type": "code",
   "execution_count": 34,
   "metadata": {
    "ExecuteTime": {
     "end_time": "2019-02-10T22:50:48.497990Z",
     "start_time": "2019-02-10T22:50:48.493075Z"
    }
   },
   "outputs": [
    {
     "name": "stdout",
     "output_type": "stream",
     "text": [
      "felix says Meow!\n"
     ]
    }
   ],
   "source": [
    "pet_speak(felix)"
   ]
  },
  {
   "cell_type": "code",
   "execution_count": 35,
   "metadata": {
    "ExecuteTime": {
     "end_time": "2019-02-10T22:50:51.420754Z",
     "start_time": "2019-02-10T22:50:51.408275Z"
    }
   },
   "outputs": [],
   "source": [
    "class Animal: # Abstract Class\n",
    "    \n",
    "    def __init__(self, name):\n",
    "        self.name = name\n",
    "    \n",
    "    def speak(self):\n",
    "        raise NotImplementedError('Subclass must implement this abstract method')"
   ]
  },
  {
   "cell_type": "code",
   "execution_count": 36,
   "metadata": {
    "ExecuteTime": {
     "end_time": "2019-02-10T22:50:52.628283Z",
     "start_time": "2019-02-10T22:50:52.609336Z"
    }
   },
   "outputs": [
    {
     "ename": "NotImplementedError",
     "evalue": "Subclass must implement this abstract method",
     "output_type": "error",
     "traceback": [
      "\u001b[0;31m---------------------------------------------------------------------------\u001b[0m",
      "\u001b[0;31mNotImplementedError\u001b[0m                       Traceback (most recent call last)",
      "\u001b[0;32m<ipython-input-36-25a5ac155b3e>\u001b[0m in \u001b[0;36m<module>\u001b[0;34m()\u001b[0m\n\u001b[1;32m      1\u001b[0m \u001b[0mmy_animal\u001b[0m \u001b[0;34m=\u001b[0m \u001b[0mAnimal\u001b[0m\u001b[0;34m(\u001b[0m\u001b[0;34m'example'\u001b[0m\u001b[0;34m)\u001b[0m\u001b[0;34m\u001b[0m\u001b[0m\n\u001b[0;32m----> 2\u001b[0;31m \u001b[0mmy_animal\u001b[0m\u001b[0;34m.\u001b[0m\u001b[0mspeak\u001b[0m\u001b[0;34m(\u001b[0m\u001b[0;34m)\u001b[0m\u001b[0;34m\u001b[0m\u001b[0m\n\u001b[0m",
      "\u001b[0;32m<ipython-input-35-05d5bd5dc89b>\u001b[0m in \u001b[0;36mspeak\u001b[0;34m(self)\u001b[0m\n\u001b[1;32m      5\u001b[0m \u001b[0;34m\u001b[0m\u001b[0m\n\u001b[1;32m      6\u001b[0m     \u001b[0;32mdef\u001b[0m \u001b[0mspeak\u001b[0m\u001b[0;34m(\u001b[0m\u001b[0mself\u001b[0m\u001b[0;34m)\u001b[0m\u001b[0;34m:\u001b[0m\u001b[0;34m\u001b[0m\u001b[0m\n\u001b[0;32m----> 7\u001b[0;31m         \u001b[0;32mraise\u001b[0m \u001b[0mNotImplementedError\u001b[0m\u001b[0;34m(\u001b[0m\u001b[0;34m'Subclass must implement this abstract method'\u001b[0m\u001b[0;34m)\u001b[0m\u001b[0;34m\u001b[0m\u001b[0m\n\u001b[0m",
      "\u001b[0;31mNotImplementedError\u001b[0m: Subclass must implement this abstract method"
     ]
    }
   ],
   "source": [
    "my_animal = Animal('example')\n",
    "my_animal.speak()"
   ]
  },
  {
   "cell_type": "code",
   "execution_count": 37,
   "metadata": {
    "ExecuteTime": {
     "end_time": "2019-02-10T22:50:57.353238Z",
     "start_time": "2019-02-10T22:50:57.344561Z"
    }
   },
   "outputs": [],
   "source": [
    "class Dog(Animal):\n",
    "    \n",
    "    def speak(self):\n",
    "        return ('{} says Woof!'.format(self.name))"
   ]
  },
  {
   "cell_type": "code",
   "execution_count": 38,
   "metadata": {
    "ExecuteTime": {
     "end_time": "2019-02-10T22:50:59.803521Z",
     "start_time": "2019-02-10T22:50:59.798286Z"
    }
   },
   "outputs": [],
   "source": [
    "class Cat(Animal):\n",
    "    \n",
    "    def speak(self):\n",
    "        return ('{} says Meow!'.format(self.name))"
   ]
  },
  {
   "cell_type": "code",
   "execution_count": 39,
   "metadata": {
    "ExecuteTime": {
     "end_time": "2019-02-10T22:51:01.204717Z",
     "start_time": "2019-02-10T22:51:01.199993Z"
    }
   },
   "outputs": [],
   "source": [
    "fido = Dog('fido')\n",
    "isis = Cat('isis')"
   ]
  },
  {
   "cell_type": "code",
   "execution_count": 40,
   "metadata": {
    "ExecuteTime": {
     "end_time": "2019-02-10T22:51:02.614579Z",
     "start_time": "2019-02-10T22:51:02.609311Z"
    }
   },
   "outputs": [
    {
     "data": {
      "text/plain": [
       "'fido'"
      ]
     },
     "execution_count": 40,
     "metadata": {},
     "output_type": "execute_result"
    }
   ],
   "source": [
    "fido.name"
   ]
  },
  {
   "cell_type": "code",
   "execution_count": 41,
   "metadata": {
    "ExecuteTime": {
     "end_time": "2019-02-10T22:51:02.837076Z",
     "start_time": "2019-02-10T22:51:02.829018Z"
    }
   },
   "outputs": [
    {
     "data": {
      "text/plain": [
       "'fido says Woof!'"
      ]
     },
     "execution_count": 41,
     "metadata": {},
     "output_type": "execute_result"
    }
   ],
   "source": [
    "fido.speak()"
   ]
  },
  {
   "cell_type": "code",
   "execution_count": 42,
   "metadata": {
    "ExecuteTime": {
     "end_time": "2019-02-10T22:51:03.280916Z",
     "start_time": "2019-02-10T22:51:03.272925Z"
    }
   },
   "outputs": [
    {
     "data": {
      "text/plain": [
       "'isis says Meow!'"
      ]
     },
     "execution_count": 42,
     "metadata": {},
     "output_type": "execute_result"
    }
   ],
   "source": [
    "isis.speak()"
   ]
  },
  {
   "cell_type": "markdown",
   "metadata": {},
   "source": [
    "### 63. Especial (Magic/Dunder) Methods\n",
    "\n",
    "Using built functions (magic/dunder) methods.\n",
    "- e.g., `len()`, `print()`"
   ]
  },
  {
   "cell_type": "code",
   "execution_count": 43,
   "metadata": {
    "ExecuteTime": {
     "end_time": "2019-02-10T22:51:05.156503Z",
     "start_time": "2019-02-10T22:51:05.152113Z"
    }
   },
   "outputs": [],
   "source": [
    "my_list = [1,2,3]"
   ]
  },
  {
   "cell_type": "code",
   "execution_count": 44,
   "metadata": {
    "ExecuteTime": {
     "end_time": "2019-02-10T22:51:05.485393Z",
     "start_time": "2019-02-10T22:51:05.476695Z"
    }
   },
   "outputs": [
    {
     "data": {
      "text/plain": [
       "3"
      ]
     },
     "execution_count": 44,
     "metadata": {},
     "output_type": "execute_result"
    }
   ],
   "source": [
    "len(my_list)"
   ]
  },
  {
   "cell_type": "code",
   "execution_count": 45,
   "metadata": {
    "ExecuteTime": {
     "end_time": "2019-02-10T22:51:05.983028Z",
     "start_time": "2019-02-10T22:51:05.976020Z"
    }
   },
   "outputs": [],
   "source": [
    "class Sample:\n",
    "    pass"
   ]
  },
  {
   "cell_type": "code",
   "execution_count": 46,
   "metadata": {
    "ExecuteTime": {
     "end_time": "2019-02-10T22:51:07.581231Z",
     "start_time": "2019-02-10T22:51:07.576071Z"
    }
   },
   "outputs": [],
   "source": [
    "my_sample = Sample()"
   ]
  },
  {
   "cell_type": "code",
   "execution_count": 47,
   "metadata": {
    "ExecuteTime": {
     "end_time": "2019-02-10T22:51:07.938530Z",
     "start_time": "2019-02-10T22:51:07.926355Z"
    }
   },
   "outputs": [
    {
     "ename": "TypeError",
     "evalue": "object of type 'Sample' has no len()",
     "output_type": "error",
     "traceback": [
      "\u001b[0;31m---------------------------------------------------------------------------\u001b[0m",
      "\u001b[0;31mTypeError\u001b[0m                                 Traceback (most recent call last)",
      "\u001b[0;32m<ipython-input-47-ad70cc2faee3>\u001b[0m in \u001b[0;36m<module>\u001b[0;34m()\u001b[0m\n\u001b[0;32m----> 1\u001b[0;31m \u001b[0mlen\u001b[0m\u001b[0;34m(\u001b[0m\u001b[0mmy_sample\u001b[0m\u001b[0;34m)\u001b[0m\u001b[0;34m\u001b[0m\u001b[0m\n\u001b[0m",
      "\u001b[0;31mTypeError\u001b[0m: object of type 'Sample' has no len()"
     ]
    }
   ],
   "source": [
    "len(my_sample)"
   ]
  },
  {
   "cell_type": "code",
   "execution_count": 48,
   "metadata": {
    "ExecuteTime": {
     "end_time": "2019-02-10T22:51:08.478417Z",
     "start_time": "2019-02-10T22:51:08.472295Z"
    }
   },
   "outputs": [],
   "source": [
    "class Book:\n",
    "    \n",
    "    def __init__(self, title, author, pages):\n",
    "        self.title = title\n",
    "        self.author = author\n",
    "        self.pages = pages\n",
    "        \n",
    "    def __str__(self):\n",
    "        return '{} by {}. p {}.'.format(self.title, self.author, self.pages)\n",
    "    \n",
    "    def __len__(self):\n",
    "        return self.pages\n",
    "    \n",
    "    def __del__(self):\n",
    "        print('The book object has been deleted')"
   ]
  },
  {
   "cell_type": "code",
   "execution_count": 49,
   "metadata": {
    "ExecuteTime": {
     "end_time": "2019-02-10T22:51:10.088595Z",
     "start_time": "2019-02-10T22:51:10.084948Z"
    }
   },
   "outputs": [],
   "source": [
    "my_book = Book('Example Book', 'Leonardo Mauro', 367)"
   ]
  },
  {
   "cell_type": "code",
   "execution_count": 50,
   "metadata": {
    "ExecuteTime": {
     "end_time": "2019-02-10T22:51:10.390846Z",
     "start_time": "2019-02-10T22:51:10.384624Z"
    }
   },
   "outputs": [
    {
     "name": "stdout",
     "output_type": "stream",
     "text": [
      "Example Book by Leonardo Mauro. p 367.\n"
     ]
    }
   ],
   "source": [
    "print(my_book)"
   ]
  },
  {
   "cell_type": "code",
   "execution_count": 51,
   "metadata": {
    "ExecuteTime": {
     "end_time": "2019-02-10T22:51:10.765523Z",
     "start_time": "2019-02-10T22:51:10.759219Z"
    }
   },
   "outputs": [
    {
     "data": {
      "text/plain": [
       "367"
      ]
     },
     "execution_count": 51,
     "metadata": {},
     "output_type": "execute_result"
    }
   ],
   "source": [
    "len(my_book)"
   ]
  },
  {
   "cell_type": "code",
   "execution_count": 52,
   "metadata": {
    "ExecuteTime": {
     "end_time": "2019-02-10T22:51:11.262438Z",
     "start_time": "2019-02-10T22:51:11.252744Z"
    }
   },
   "outputs": [
    {
     "name": "stdout",
     "output_type": "stream",
     "text": [
      "The book object has been deleted\n"
     ]
    }
   ],
   "source": [
    "del my_book"
   ]
  },
  {
   "cell_type": "markdown",
   "metadata": {},
   "source": [
    "### 64. Homework\n",
    "\n",
    "File: `section-8-homework.ipynb`\n",
    "\n",
    "### 65. Challenge\n",
    "\n",
    "File: `section-8-challenge.ipynb`"
   ]
  },
  {
   "cell_type": "code",
   "execution_count": null,
   "metadata": {},
   "outputs": [],
   "source": []
  }
 ],
 "metadata": {
  "kernelspec": {
   "display_name": "Python 3",
   "language": "python",
   "name": "python3"
  },
  "language_info": {
   "codemirror_mode": {
    "name": "ipython",
    "version": 3
   },
   "file_extension": ".py",
   "mimetype": "text/x-python",
   "name": "python",
   "nbconvert_exporter": "python",
   "pygments_lexer": "ipython3",
   "version": "3.6.5"
  }
 },
 "nbformat": 4,
 "nbformat_minor": 2
}
