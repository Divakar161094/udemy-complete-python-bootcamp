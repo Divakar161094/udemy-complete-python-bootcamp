{
 "cells": [
  {
   "cell_type": "markdown",
   "metadata": {},
   "source": [
    "## Section 5: Python Statements\n",
    "\n",
    "33. If Elif and Else Statements in Python\n",
    "34. For Loops in Python\n",
    "35. While Loops in Python\n",
    "36. Useful Operators in Python\n",
    "37. List Comprehensions in Python\n",
    "38. Python Statements Test Overview\n",
    "39. Python Statements Test Solution"
   ]
  },
  {
   "cell_type": "markdown",
   "metadata": {},
   "source": [
    "### 33. If Elif and Else Statements in Python\n",
    "\n",
    "Flow logic control:\n",
    "- `if`\n",
    "- `elif`\n",
    "- `else`"
   ]
  },
  {
   "cell_type": "markdown",
   "metadata": {},
   "source": [
    "```python\n",
    "if some_condition:\n",
    "    # execute something\n",
    "elif another_condition:\n",
    "    # checked after the first condition\n",
    "else:\n",
    "    # do something else\n",
    "```"
   ]
  },
  {
   "cell_type": "code",
   "execution_count": 1,
   "metadata": {
    "ExecuteTime": {
     "end_time": "2019-01-18T21:45:48.361763Z",
     "start_time": "2019-01-18T21:45:48.349527Z"
    }
   },
   "outputs": [
    {
     "name": "stdout",
     "output_type": "stream",
     "text": [
      "Checking my account.\n"
     ]
    }
   ],
   "source": [
    "loc = 'Bank'\n",
    "\n",
    "if loc == 'Auto Shop':\n",
    "    print('Cars are cool!')\n",
    "elif loc == 'Bank':\n",
    "    print('Checking my account.')\n",
    "elif loc == 'Store':\n",
    "    print('I want to buy new clothes.')\n",
    "else:\n",
    "    print('I don\\'t know where I am.')"
   ]
  },
  {
   "cell_type": "markdown",
   "metadata": {},
   "source": [
    "### 34. For Loops in Python\n",
    "\n",
    "Action of \"iterate\" Python Objects.   \n",
    "\n",
    "- `str`: each character.\n",
    "- `list`: each item.\n",
    "- `tup`: each param.\n",
    "- `dict`: each pair (key, value).\n",
    "\n",
    "Example:\n",
    "\n",
    "```python\n",
    "my_iterable = [...]\n",
    "for item_name in my_iterable:\n",
    "    print(item_name)\n",
    "```"
   ]
  },
  {
   "cell_type": "code",
   "execution_count": 2,
   "metadata": {
    "ExecuteTime": {
     "end_time": "2019-01-18T21:45:48.520072Z",
     "start_time": "2019-01-18T21:45:48.366105Z"
    }
   },
   "outputs": [
    {
     "name": "stdout",
     "output_type": "stream",
     "text": [
      "1 2 3 4 5 6 7 8 9 10 "
     ]
    }
   ],
   "source": [
    "my_list = [1,2,3,4,5,6,7,8,9,10]\n",
    "for item in my_list:\n",
    "    print(item, end=' ')"
   ]
  },
  {
   "cell_type": "code",
   "execution_count": 3,
   "metadata": {
    "ExecuteTime": {
     "end_time": "2019-01-18T21:45:48.670763Z",
     "start_time": "2019-01-18T21:45:48.524188Z"
    }
   },
   "outputs": [
    {
     "name": "stdout",
     "output_type": "stream",
     "text": [
      "H-e-l-l-o- -W-o-r-l-d-"
     ]
    }
   ],
   "source": [
    "for letter in 'Hello World':\n",
    "    print(letter, end='-')"
   ]
  },
  {
   "cell_type": "code",
   "execution_count": 4,
   "metadata": {
    "ExecuteTime": {
     "end_time": "2019-01-18T21:45:48.833496Z",
     "start_time": "2019-01-18T21:45:48.674641Z"
    }
   },
   "outputs": [
    {
     "name": "stdout",
     "output_type": "stream",
     "text": [
      "Cool!\n",
      "Cool!\n",
      "Cool!\n"
     ]
    }
   ],
   "source": [
    "# Use _ when you do not use the variable\n",
    "for _ in (1, 2, 3):\n",
    "    print('Cool!')"
   ]
  },
  {
   "cell_type": "code",
   "execution_count": 5,
   "metadata": {
    "ExecuteTime": {
     "end_time": "2019-01-18T21:45:48.979148Z",
     "start_time": "2019-01-18T21:45:48.839169Z"
    }
   },
   "outputs": [
    {
     "name": "stdout",
     "output_type": "stream",
     "text": [
      "(1, 'a')\n",
      "(2, 'b')\n",
      "(3, 'c')\n",
      "(4, 'd')\n"
     ]
    }
   ],
   "source": [
    "my_list = [(1,'a'), (2,'b'), (3,'c'), (4,'d')]\n",
    "\n",
    "for pair in my_list:\n",
    "    print(pair)"
   ]
  },
  {
   "cell_type": "code",
   "execution_count": 6,
   "metadata": {
    "ExecuteTime": {
     "end_time": "2019-01-18T21:45:49.111854Z",
     "start_time": "2019-01-18T21:45:48.982913Z"
    }
   },
   "outputs": [
    {
     "name": "stdout",
     "output_type": "stream",
     "text": [
      "a: 1\n",
      "b: 2\n",
      "c: 3\n",
      "d: 4\n"
     ]
    }
   ],
   "source": [
    "for (one, two) in my_list:\n",
    "    print('{t}: {o}'.format(o=one, t=two))"
   ]
  },
  {
   "cell_type": "code",
   "execution_count": 7,
   "metadata": {
    "ExecuteTime": {
     "end_time": "2019-01-18T21:45:49.255140Z",
     "start_time": "2019-01-18T21:45:49.116260Z"
    }
   },
   "outputs": [
    {
     "name": "stdout",
     "output_type": "stream",
     "text": [
      "('a', 1)\n",
      "('b', 2)\n",
      "('c', 'Three')\n",
      "('alpha', 78.9)\n"
     ]
    }
   ],
   "source": [
    "my_dict = {'a':1, 'b':2, 'c':'Three', 'alpha':78.9}\n",
    "\n",
    "for pair in my_dict.items():\n",
    "    print(pair)"
   ]
  },
  {
   "cell_type": "code",
   "execution_count": 8,
   "metadata": {
    "ExecuteTime": {
     "end_time": "2019-01-18T21:45:49.389242Z",
     "start_time": "2019-01-18T21:45:49.260408Z"
    }
   },
   "outputs": [
    {
     "name": "stdout",
     "output_type": "stream",
     "text": [
      "1 + 2 + Three + 78.9 + "
     ]
    }
   ],
   "source": [
    "# my_dict.keys() -> list of keys\n",
    "# my_dict.values() -> list of values\n",
    "for (key, value) in my_dict.items():\n",
    "    print(value, end=' + ')"
   ]
  },
  {
   "cell_type": "markdown",
   "metadata": {},
   "source": [
    "### 35. While Loops in Python\n",
    "\n",
    "```python\n",
    "while some_condition:\n",
    "    # do something\n",
    "else:\n",
    "    # do another thing\n",
    "```"
   ]
  },
  {
   "cell_type": "code",
   "execution_count": 9,
   "metadata": {
    "ExecuteTime": {
     "end_time": "2019-01-18T21:45:49.522775Z",
     "start_time": "2019-01-18T21:45:49.392793Z"
    }
   },
   "outputs": [
    {
     "name": "stdout",
     "output_type": "stream",
     "text": [
      "x is 0\n",
      "x is 1\n",
      "x is 2\n",
      "x is 3\n",
      "x is 4\n",
      "x is bigger than 5\n"
     ]
    }
   ],
   "source": [
    "x = 0\n",
    "while x < 5:\n",
    "    print(f'x is {x}')\n",
    "    x += 1\n",
    "else:\n",
    "    print('x is bigger than 5')"
   ]
  },
  {
   "cell_type": "markdown",
   "metadata": {},
   "source": [
    "- `break`: break the loop\n",
    "- `continue`: return to top os the loop (i.e., the `while` or `for`)\n",
    "- `pass`: do nothing"
   ]
  },
  {
   "cell_type": "code",
   "execution_count": 10,
   "metadata": {
    "ExecuteTime": {
     "end_time": "2019-01-18T21:45:49.654683Z",
     "start_time": "2019-01-18T21:45:49.526024Z"
    }
   },
   "outputs": [
    {
     "name": "stdout",
     "output_type": "stream",
     "text": [
      "Leon"
     ]
    }
   ],
   "source": [
    "for letter in 'Leonardo':\n",
    "    if letter == 'a':\n",
    "        break\n",
    "    print(letter, end='')"
   ]
  },
  {
   "cell_type": "code",
   "execution_count": 11,
   "metadata": {
    "ExecuteTime": {
     "end_time": "2019-01-18T21:45:49.804954Z",
     "start_time": "2019-01-18T21:45:49.658465Z"
    }
   },
   "outputs": [
    {
     "name": "stdout",
     "output_type": "stream",
     "text": [
      "Lenard"
     ]
    }
   ],
   "source": [
    "for letter in 'Leonardo':\n",
    "    if letter == 'o':\n",
    "        continue\n",
    "    print(letter, end='') # dont execute for 'o' letter"
   ]
  },
  {
   "cell_type": "code",
   "execution_count": 12,
   "metadata": {
    "ExecuteTime": {
     "end_time": "2019-01-18T21:45:49.944641Z",
     "start_time": "2019-01-18T21:45:49.810782Z"
    }
   },
   "outputs": [
    {
     "name": "stdout",
     "output_type": "stream",
     "text": [
      "Finish the script\n"
     ]
    }
   ],
   "source": [
    "for item in [1,2,3]:\n",
    "    # comment\n",
    "    pass # to avoid the error\n",
    "\n",
    "print('Finish the script')"
   ]
  },
  {
   "cell_type": "markdown",
   "metadata": {},
   "source": [
    "### 36. Useful Operators in Python\n",
    "\n",
    "Loop Operators:\n",
    "- `range(start, stop[, step])`: iterator in loops.\n",
    "- `enumerate(iterable)`: enumarate each item in the _iterable_.\n",
    "- `zip(iterable,..)`: concat _\\[iterables, ...]_ in a tup.\n",
    "\n",
    "Checker:\n",
    "- `in`: check if a item is in the _iterable_.\n",
    "\n",
    "Min and Max:\n",
    "- `min`: min into a _iterable_.\n",
    "- `max`: max into a _iterable_.\n",
    "\n",
    "Other:\n",
    "- `shuffle`: shuffle a _iterable_.\n",
    "- `randint(start, last)`: a random value.\n",
    "- `input(text)`: return `str` user input."
   ]
  },
  {
   "cell_type": "code",
   "execution_count": 13,
   "metadata": {
    "ExecuteTime": {
     "end_time": "2019-01-18T21:45:50.088725Z",
     "start_time": "2019-01-18T21:45:49.950410Z"
    }
   },
   "outputs": [
    {
     "name": "stdout",
     "output_type": "stream",
     "text": [
      "1\n",
      "3\n",
      "5\n",
      "7\n",
      "9\n"
     ]
    }
   ],
   "source": [
    "for i in range(1, 10, 2):\n",
    "    print(i)"
   ]
  },
  {
   "cell_type": "code",
   "execution_count": 14,
   "metadata": {
    "ExecuteTime": {
     "end_time": "2019-01-18T21:45:50.281060Z",
     "start_time": "2019-01-18T21:45:50.094453Z"
    }
   },
   "outputs": [
    {
     "data": {
      "text/plain": [
       "[1, 3, 5, 7, 9]"
      ]
     },
     "execution_count": 14,
     "metadata": {},
     "output_type": "execute_result"
    }
   ],
   "source": [
    "# cast to list\n",
    "list(range(1, 10, 2))"
   ]
  },
  {
   "cell_type": "code",
   "execution_count": 15,
   "metadata": {
    "ExecuteTime": {
     "end_time": "2019-01-18T21:45:50.398313Z",
     "start_time": "2019-01-18T21:45:50.286945Z"
    }
   },
   "outputs": [
    {
     "name": "stdout",
     "output_type": "stream",
     "text": [
      "At index 0 the letter is a\n",
      "At index 1 the letter is b\n",
      "At index 2 the letter is c\n",
      "At index 3 the letter is d\n"
     ]
    }
   ],
   "source": [
    "index_count = 0\n",
    "for letter in 'abcd':\n",
    "    print('At index {} the letter is {}'.format(index_count, letter))\n",
    "    index_count += 1"
   ]
  },
  {
   "cell_type": "code",
   "execution_count": 16,
   "metadata": {
    "ExecuteTime": {
     "end_time": "2019-01-18T21:45:50.543455Z",
     "start_time": "2019-01-18T21:45:50.402812Z"
    }
   },
   "outputs": [
    {
     "name": "stdout",
     "output_type": "stream",
     "text": [
      "(0, 'a')\n",
      "(1, 'b')\n",
      "(2, 'c')\n",
      "(3, 'd')\n"
     ]
    }
   ],
   "source": [
    "for item in enumerate('abcd'):\n",
    "    print(item)"
   ]
  },
  {
   "cell_type": "code",
   "execution_count": 17,
   "metadata": {
    "ExecuteTime": {
     "end_time": "2019-01-18T21:45:50.679641Z",
     "start_time": "2019-01-18T21:45:50.547711Z"
    }
   },
   "outputs": [
    {
     "name": "stdout",
     "output_type": "stream",
     "text": [
      "At index 0 the letter is a\n",
      "At index 1 the letter is b\n",
      "At index 2 the letter is c\n",
      "At index 3 the letter is d\n"
     ]
    }
   ],
   "source": [
    "for (index_count, letter) in enumerate('abcd'):\n",
    "    print('At index {} the letter is {}'.format(index_count, letter))"
   ]
  },
  {
   "cell_type": "code",
   "execution_count": 18,
   "metadata": {
    "ExecuteTime": {
     "end_time": "2019-01-18T21:45:50.820161Z",
     "start_time": "2019-01-18T21:45:50.683958Z"
    }
   },
   "outputs": [
    {
     "name": "stdout",
     "output_type": "stream",
     "text": [
      "(1, 'a', 1.1)\n",
      "(2, 'b', 2.2)\n",
      "(3, 'c', 3.3)\n"
     ]
    }
   ],
   "source": [
    "list1 = [1,2,3]\n",
    "list2 = ['a','b','c']\n",
    "list3 = [1.1, 2.2, 3.3, 4.4, 5.5]\n",
    "\n",
    "for item in zip(list1, list2, list3): # only go as far it is possible\n",
    "    print(item)"
   ]
  },
  {
   "cell_type": "code",
   "execution_count": 19,
   "metadata": {
    "ExecuteTime": {
     "end_time": "2019-01-18T21:45:50.977656Z",
     "start_time": "2019-01-18T21:45:50.825748Z"
    }
   },
   "outputs": [
    {
     "data": {
      "text/plain": [
       "True"
      ]
     },
     "execution_count": 19,
     "metadata": {},
     "output_type": "execute_result"
    }
   ],
   "source": [
    "'a' in 'abcd'"
   ]
  },
  {
   "cell_type": "code",
   "execution_count": 20,
   "metadata": {
    "ExecuteTime": {
     "end_time": "2019-01-18T21:45:51.131067Z",
     "start_time": "2019-01-18T21:45:50.983020Z"
    }
   },
   "outputs": [
    {
     "data": {
      "text/plain": [
       "False"
      ]
     },
     "execution_count": 20,
     "metadata": {},
     "output_type": "execute_result"
    }
   ],
   "source": [
    "'e' in 'abcd'"
   ]
  },
  {
   "cell_type": "code",
   "execution_count": 21,
   "metadata": {
    "ExecuteTime": {
     "end_time": "2019-01-18T21:45:51.276056Z",
     "start_time": "2019-01-18T21:45:51.134988Z"
    }
   },
   "outputs": [
    {
     "data": {
      "text/plain": [
       "True"
      ]
     },
     "execution_count": 21,
     "metadata": {},
     "output_type": "execute_result"
    }
   ],
   "source": [
    "2 in [1,2,3,4,5]"
   ]
  },
  {
   "cell_type": "code",
   "execution_count": 22,
   "metadata": {
    "ExecuteTime": {
     "end_time": "2019-01-18T21:45:51.419433Z",
     "start_time": "2019-01-18T21:45:51.279413Z"
    }
   },
   "outputs": [
    {
     "data": {
      "text/plain": [
       "True"
      ]
     },
     "execution_count": 22,
     "metadata": {},
     "output_type": "execute_result"
    }
   ],
   "source": [
    "'key' in {'key':1, 'k2':2}"
   ]
  },
  {
   "cell_type": "code",
   "execution_count": 23,
   "metadata": {
    "ExecuteTime": {
     "end_time": "2019-01-18T21:45:51.561678Z",
     "start_time": "2019-01-18T21:45:51.423045Z"
    }
   },
   "outputs": [],
   "source": [
    "my_list = [10, 20, 30, 40, 100]"
   ]
  },
  {
   "cell_type": "code",
   "execution_count": 24,
   "metadata": {
    "ExecuteTime": {
     "end_time": "2019-01-18T21:45:51.708617Z",
     "start_time": "2019-01-18T21:45:51.565551Z"
    }
   },
   "outputs": [
    {
     "data": {
      "text/plain": [
       "10"
      ]
     },
     "execution_count": 24,
     "metadata": {},
     "output_type": "execute_result"
    }
   ],
   "source": [
    "min(my_list)"
   ]
  },
  {
   "cell_type": "code",
   "execution_count": 25,
   "metadata": {
    "ExecuteTime": {
     "end_time": "2019-01-18T21:45:51.852346Z",
     "start_time": "2019-01-18T21:45:51.712587Z"
    }
   },
   "outputs": [
    {
     "data": {
      "text/plain": [
       "100"
      ]
     },
     "execution_count": 25,
     "metadata": {},
     "output_type": "execute_result"
    }
   ],
   "source": [
    "max(my_list)"
   ]
  },
  {
   "cell_type": "code",
   "execution_count": 26,
   "metadata": {
    "ExecuteTime": {
     "end_time": "2019-01-18T21:45:51.996806Z",
     "start_time": "2019-01-18T21:45:51.856071Z"
    }
   },
   "outputs": [
    {
     "data": {
      "text/plain": [
       "'z'"
      ]
     },
     "execution_count": 26,
     "metadata": {},
     "output_type": "execute_result"
    }
   ],
   "source": [
    "max('abczde')"
   ]
  },
  {
   "cell_type": "code",
   "execution_count": 27,
   "metadata": {
    "ExecuteTime": {
     "end_time": "2019-01-18T21:45:52.137843Z",
     "start_time": "2019-01-18T21:45:52.000614Z"
    }
   },
   "outputs": [],
   "source": [
    "from random import shuffle"
   ]
  },
  {
   "cell_type": "code",
   "execution_count": 28,
   "metadata": {
    "ExecuteTime": {
     "end_time": "2019-01-18T21:45:52.264653Z",
     "start_time": "2019-01-18T21:45:52.141389Z"
    }
   },
   "outputs": [
    {
     "data": {
      "text/plain": [
       "[10, 20, 30, 40, 100]"
      ]
     },
     "execution_count": 28,
     "metadata": {},
     "output_type": "execute_result"
    }
   ],
   "source": [
    "my_list"
   ]
  },
  {
   "cell_type": "code",
   "execution_count": 29,
   "metadata": {
    "ExecuteTime": {
     "end_time": "2019-01-18T21:45:52.396416Z",
     "start_time": "2019-01-18T21:45:52.268229Z"
    }
   },
   "outputs": [
    {
     "data": {
      "text/plain": [
       "[20, 10, 40, 100, 30]"
      ]
     },
     "execution_count": 29,
     "metadata": {},
     "output_type": "execute_result"
    }
   ],
   "source": [
    "shuffle(my_list)\n",
    "my_list"
   ]
  },
  {
   "cell_type": "code",
   "execution_count": 30,
   "metadata": {
    "ExecuteTime": {
     "end_time": "2019-01-18T21:45:52.538251Z",
     "start_time": "2019-01-18T21:45:52.400243Z"
    }
   },
   "outputs": [],
   "source": [
    "from random import randint"
   ]
  },
  {
   "cell_type": "code",
   "execution_count": 31,
   "metadata": {
    "ExecuteTime": {
     "end_time": "2019-01-18T21:45:52.708151Z",
     "start_time": "2019-01-18T21:45:52.542342Z"
    }
   },
   "outputs": [
    {
     "data": {
      "text/plain": [
       "7"
      ]
     },
     "execution_count": 31,
     "metadata": {},
     "output_type": "execute_result"
    }
   ],
   "source": [
    "randint(0, 10)"
   ]
  },
  {
   "cell_type": "code",
   "execution_count": 32,
   "metadata": {
    "ExecuteTime": {
     "end_time": "2019-01-18T21:45:52.851452Z",
     "start_time": "2019-01-18T21:45:52.711406Z"
    }
   },
   "outputs": [
    {
     "data": {
      "text/plain": [
       "10"
      ]
     },
     "execution_count": 32,
     "metadata": {},
     "output_type": "execute_result"
    }
   ],
   "source": [
    "randint(0, 10)"
   ]
  },
  {
   "cell_type": "code",
   "execution_count": 33,
   "metadata": {
    "ExecuteTime": {
     "end_time": "2019-01-18T21:45:58.721689Z",
     "start_time": "2019-01-18T21:45:52.856378Z"
    }
   },
   "outputs": [
    {
     "name": "stdout",
     "output_type": "stream",
     "text": [
      "Enter a number: 10\n"
     ]
    },
    {
     "data": {
      "text/plain": [
       "'10'"
      ]
     },
     "execution_count": 33,
     "metadata": {},
     "output_type": "execute_result"
    }
   ],
   "source": [
    "input('Enter a number: ')"
   ]
  },
  {
   "cell_type": "code",
   "execution_count": 34,
   "metadata": {
    "ExecuteTime": {
     "end_time": "2019-01-18T21:46:01.057131Z",
     "start_time": "2019-01-18T21:45:58.727500Z"
    }
   },
   "outputs": [
    {
     "name": "stdout",
     "output_type": "stream",
     "text": [
      "Enter a number: 9\n"
     ]
    }
   ],
   "source": [
    "my_num = input('Enter a number: ')"
   ]
  },
  {
   "cell_type": "code",
   "execution_count": 35,
   "metadata": {
    "ExecuteTime": {
     "end_time": "2019-01-18T21:46:01.082815Z",
     "start_time": "2019-01-18T21:46:01.069600Z"
    }
   },
   "outputs": [
    {
     "data": {
      "text/plain": [
       "(str, '9')"
      ]
     },
     "execution_count": 35,
     "metadata": {},
     "output_type": "execute_result"
    }
   ],
   "source": [
    "type(my_num), my_num"
   ]
  },
  {
   "cell_type": "code",
   "execution_count": 36,
   "metadata": {
    "ExecuteTime": {
     "end_time": "2019-01-18T21:46:01.249116Z",
     "start_time": "2019-01-18T21:46:01.088188Z"
    }
   },
   "outputs": [
    {
     "data": {
      "text/plain": [
       "(int, 9)"
      ]
     },
     "execution_count": 36,
     "metadata": {},
     "output_type": "execute_result"
    }
   ],
   "source": [
    "my_num = int(my_num)\n",
    "type(my_num), my_num"
   ]
  },
  {
   "cell_type": "markdown",
   "metadata": {},
   "source": [
    "### 37. List Comprehensions in Python\n",
    "\n",
    "A unique quickly way to creating a list in Python.   "
   ]
  },
  {
   "cell_type": "code",
   "execution_count": 37,
   "metadata": {
    "ExecuteTime": {
     "end_time": "2019-01-18T21:46:01.427521Z",
     "start_time": "2019-01-18T21:46:01.252530Z"
    }
   },
   "outputs": [
    {
     "data": {
      "text/plain": [
       "['h', 'e', 'l', 'l', 'o']"
      ]
     },
     "execution_count": 37,
     "metadata": {},
     "output_type": "execute_result"
    }
   ],
   "source": [
    "my_string = 'hello'\n",
    "my_list = []\n",
    "\n",
    "for letter in my_string:\n",
    "    my_list.append(letter)\n",
    "my_list"
   ]
  },
  {
   "cell_type": "code",
   "execution_count": 38,
   "metadata": {
    "ExecuteTime": {
     "end_time": "2019-01-18T21:46:01.571907Z",
     "start_time": "2019-01-18T21:46:01.432843Z"
    }
   },
   "outputs": [
    {
     "data": {
      "text/plain": [
       "['h', 'e', 'l', 'l', 'o']"
      ]
     },
     "execution_count": 38,
     "metadata": {},
     "output_type": "execute_result"
    }
   ],
   "source": [
    "my_list = [letter for letter in my_string]\n",
    "my_list"
   ]
  },
  {
   "cell_type": "code",
   "execution_count": 39,
   "metadata": {
    "ExecuteTime": {
     "end_time": "2019-01-18T21:46:01.715664Z",
     "start_time": "2019-01-18T21:46:01.576484Z"
    }
   },
   "outputs": [
    {
     "data": {
      "text/plain": [
       "[0, 1, 2, 3, 4, 5, 6, 7, 8, 9, 10]"
      ]
     },
     "execution_count": 39,
     "metadata": {},
     "output_type": "execute_result"
    }
   ],
   "source": [
    "my_list = [x for x in range(0,11)]\n",
    "my_list"
   ]
  },
  {
   "cell_type": "code",
   "execution_count": 40,
   "metadata": {
    "ExecuteTime": {
     "end_time": "2019-01-18T21:46:01.887043Z",
     "start_time": "2019-01-18T21:46:01.719942Z"
    }
   },
   "outputs": [
    {
     "data": {
      "text/plain": [
       "[0, 1, 4, 9, 16, 25, 36, 49, 64, 81, 100]"
      ]
     },
     "execution_count": 40,
     "metadata": {},
     "output_type": "execute_result"
    }
   ],
   "source": [
    "my_list = [x**2 for x in range(0,11)] # square function\n",
    "my_list"
   ]
  },
  {
   "cell_type": "code",
   "execution_count": 41,
   "metadata": {
    "ExecuteTime": {
     "end_time": "2019-01-18T21:46:02.036521Z",
     "start_time": "2019-01-18T21:46:01.891413Z"
    }
   },
   "outputs": [
    {
     "data": {
      "text/plain": [
       "[0, 2, 4, 6, 8, 10]"
      ]
     },
     "execution_count": 41,
     "metadata": {},
     "output_type": "execute_result"
    }
   ],
   "source": [
    "my_list = [x for x in range(0,11) if x%2 == 0] # only even\n",
    "my_list"
   ]
  },
  {
   "cell_type": "code",
   "execution_count": 42,
   "metadata": {
    "ExecuteTime": {
     "end_time": "2019-01-18T21:46:02.169738Z",
     "start_time": "2019-01-18T21:46:02.041358Z"
    }
   },
   "outputs": [
    {
     "data": {
      "text/plain": [
       "[32.0, 50.72, 68.72, 76.64]"
      ]
     },
     "execution_count": 42,
     "metadata": {},
     "output_type": "execute_result"
    }
   ],
   "source": [
    "celcius = [0, 10.4, 20.4, 24.8]\n",
    "fahrenheit = [((9/5)*temp + 32) for temp in celcius]\n",
    "\n",
    "fahrenheit"
   ]
  },
  {
   "cell_type": "code",
   "execution_count": 43,
   "metadata": {
    "ExecuteTime": {
     "end_time": "2019-01-18T21:46:02.304633Z",
     "start_time": "2019-01-18T21:46:02.172843Z"
    }
   },
   "outputs": [
    {
     "data": {
      "text/plain": [
       "10"
      ]
     },
     "execution_count": 43,
     "metadata": {},
     "output_type": "execute_result"
    }
   ],
   "source": [
    "# use if inline\n",
    "a = 10 if 1<2 else 9\n",
    "a"
   ]
  },
  {
   "cell_type": "code",
   "execution_count": 44,
   "metadata": {
    "ExecuteTime": {
     "end_time": "2019-01-18T21:46:02.438507Z",
     "start_time": "2019-01-18T21:46:02.310873Z"
    }
   },
   "outputs": [
    {
     "data": {
      "text/plain": [
       "[0, 'odd', 2, 'odd', 4, 'odd', 6, 'odd', 8, 'odd', 10]"
      ]
     },
     "execution_count": 44,
     "metadata": {},
     "output_type": "execute_result"
    }
   ],
   "source": [
    "a = [x if x%2==0 else 'odd' for x in range(0, 11)]\n",
    "a"
   ]
  },
  {
   "cell_type": "markdown",
   "metadata": {},
   "source": [
    "** Nested Loop **"
   ]
  },
  {
   "cell_type": "code",
   "execution_count": 45,
   "metadata": {
    "ExecuteTime": {
     "end_time": "2019-01-18T21:46:02.593240Z",
     "start_time": "2019-01-18T21:46:02.442806Z"
    }
   },
   "outputs": [
    {
     "data": {
      "text/plain": [
       "[200, 400, 600, 300, 600, 900, 400, 800, 1200]"
      ]
     },
     "execution_count": 45,
     "metadata": {},
     "output_type": "execute_result"
    }
   ],
   "source": [
    "my_list = []\n",
    "\n",
    "for i in [2, 3, 4]:\n",
    "    for j in [100, 200, 300]:\n",
    "        my_list.append(i*j)\n",
    "\n",
    "my_list"
   ]
  },
  {
   "cell_type": "code",
   "execution_count": 46,
   "metadata": {
    "ExecuteTime": {
     "end_time": "2019-01-18T21:46:02.736222Z",
     "start_time": "2019-01-18T21:46:02.596307Z"
    }
   },
   "outputs": [
    {
     "data": {
      "text/plain": [
       "[200, 400, 600, 300, 600, 900, 400, 800, 1200]"
      ]
     },
     "execution_count": 46,
     "metadata": {},
     "output_type": "execute_result"
    }
   ],
   "source": [
    "my_list = [(i*j) for i in [2, 3, 4] for j in [100, 200, 300]]\n",
    "my_list"
   ]
  },
  {
   "cell_type": "code",
   "execution_count": null,
   "metadata": {},
   "outputs": [],
   "source": []
  }
 ],
 "metadata": {
  "kernelspec": {
   "display_name": "Python 3",
   "language": "python",
   "name": "python3"
  },
  "language_info": {
   "codemirror_mode": {
    "name": "ipython",
    "version": 3
   },
   "file_extension": ".py",
   "mimetype": "text/x-python",
   "name": "python",
   "nbconvert_exporter": "python",
   "pygments_lexer": "ipython3",
   "version": "3.6.5"
  }
 },
 "nbformat": 4,
 "nbformat_minor": 2
}
