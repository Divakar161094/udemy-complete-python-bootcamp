{
 "cells": [
  {
   "cell_type": "markdown",
   "metadata": {},
   "source": [
    "## Section 6: Methods and Functions\n",
    "\n",
    "40. Methods and Python Documentation\n",
    "41. Functions in Python\n",
    "42. Overview of Quick Functions Exercices \\#1-10\n",
    "43. \\*args and \\*\\*kwargs in Python"
   ]
  },
  {
   "cell_type": "markdown",
   "metadata": {},
   "source": [
    "### 40. Methods and Python Documentation\n",
    "\n",
    "Methods are functions built into objects.   \n",
    "In _Jupyter Notebook_, you can check the methods os a object by typing `object.` and press `Tab`.   \n",
    "In Python, you can use `help(func)` to see the args of a `func`.   \n",
    "Link: [Documentation](https://docs.python.org/3/).   "
   ]
  },
  {
   "cell_type": "code",
   "execution_count": 1,
   "metadata": {
    "ExecuteTime": {
     "end_time": "2019-01-25T00:49:03.825769Z",
     "start_time": "2019-01-25T00:49:03.821234Z"
    },
    "scrolled": true
   },
   "outputs": [
    {
     "name": "stdout",
     "output_type": "stream",
     "text": [
      "Help on method_descriptor:\n",
      "\n",
      "insert(...)\n",
      "    L.insert(index, object) -- insert object before index\n",
      "\n"
     ]
    }
   ],
   "source": [
    "help(list.insert)"
   ]
  },
  {
   "cell_type": "markdown",
   "metadata": {},
   "source": [
    "### 41. Functions in Python"
   ]
  },
  {
   "cell_type": "code",
   "execution_count": 2,
   "metadata": {
    "ExecuteTime": {
     "end_time": "2019-01-25T00:49:03.937849Z",
     "start_time": "2019-01-25T00:49:03.840078Z"
    }
   },
   "outputs": [],
   "source": [
    "def fuction_name(name):\n",
    "    '''\n",
    "    fuction(str). -- say hello to 'str'\n",
    "    input:\n",
    "        name: person name\n",
    "    '''\n",
    "    print(f'Hello {name}!')"
   ]
  },
  {
   "cell_type": "code",
   "execution_count": 3,
   "metadata": {
    "ExecuteTime": {
     "end_time": "2019-01-25T00:49:04.129133Z",
     "start_time": "2019-01-25T00:49:03.941420Z"
    }
   },
   "outputs": [
    {
     "name": "stdout",
     "output_type": "stream",
     "text": [
      "Help on function fuction_name in module __main__:\n",
      "\n",
      "fuction_name(name)\n",
      "    fuction(str). -- say hello to 'str'\n",
      "    input:\n",
      "        name: person name\n",
      "\n"
     ]
    }
   ],
   "source": [
    "help(fuction_name)"
   ]
  },
  {
   "cell_type": "code",
   "execution_count": 4,
   "metadata": {
    "ExecuteTime": {
     "end_time": "2019-01-25T00:49:04.239450Z",
     "start_time": "2019-01-25T00:49:04.133018Z"
    }
   },
   "outputs": [
    {
     "name": "stdout",
     "output_type": "stream",
     "text": [
      "Hello Leonardo!\n"
     ]
    }
   ],
   "source": [
    "fuction_name('Leonardo')"
   ]
  },
  {
   "cell_type": "code",
   "execution_count": 5,
   "metadata": {
    "ExecuteTime": {
     "end_time": "2019-01-25T00:49:04.348669Z",
     "start_time": "2019-01-25T00:49:04.244398Z"
    }
   },
   "outputs": [],
   "source": [
    "def add_function(val1, val2):\n",
    "    return (val1 + val2)"
   ]
  },
  {
   "cell_type": "code",
   "execution_count": 6,
   "metadata": {
    "ExecuteTime": {
     "end_time": "2019-01-25T00:49:04.498499Z",
     "start_time": "2019-01-25T00:49:04.353869Z"
    }
   },
   "outputs": [
    {
     "data": {
      "text/plain": [
       "3"
      ]
     },
     "execution_count": 6,
     "metadata": {},
     "output_type": "execute_result"
    }
   ],
   "source": [
    "result = add_function(1, 2)\n",
    "result"
   ]
  },
  {
   "cell_type": "code",
   "execution_count": 7,
   "metadata": {
    "ExecuteTime": {
     "end_time": "2019-01-25T00:49:04.604585Z",
     "start_time": "2019-01-25T00:49:04.502321Z"
    }
   },
   "outputs": [],
   "source": [
    "def say_hello(name='predefined'):\n",
    "    print('Hey {n}!'.format(n=name))"
   ]
  },
  {
   "cell_type": "code",
   "execution_count": 8,
   "metadata": {
    "ExecuteTime": {
     "end_time": "2019-01-25T00:49:04.715021Z",
     "start_time": "2019-01-25T00:49:04.610890Z"
    }
   },
   "outputs": [
    {
     "name": "stdout",
     "output_type": "stream",
     "text": [
      "Hey predefined!\n"
     ]
    }
   ],
   "source": [
    "say_hello()"
   ]
  },
  {
   "cell_type": "code",
   "execution_count": 9,
   "metadata": {
    "ExecuteTime": {
     "end_time": "2019-01-25T00:49:04.850385Z",
     "start_time": "2019-01-25T00:49:04.718525Z"
    }
   },
   "outputs": [
    {
     "name": "stdout",
     "output_type": "stream",
     "text": [
      "Hey Bob!\n"
     ]
    }
   ],
   "source": [
    "say_hello('Bob')"
   ]
  },
  {
   "cell_type": "code",
   "execution_count": 10,
   "metadata": {
    "ExecuteTime": {
     "end_time": "2019-01-25T00:49:04.994877Z",
     "start_time": "2019-01-25T00:49:04.853713Z"
    }
   },
   "outputs": [],
   "source": [
    "# Check if a 'word' is in a 'string'\n",
    "\n",
    "def check_word(word, string):\n",
    "    '''\n",
    "    fuction(str, str). -- Check if a 'word' is in a 'string'\n",
    "    input:\n",
    "        word: word to check\n",
    "        string: big string\n",
    "    return:\n",
    "        bool: True or False\n",
    "    '''\n",
    "    return (word.lower() in string.lower())"
   ]
  },
  {
   "cell_type": "code",
   "execution_count": 11,
   "metadata": {
    "ExecuteTime": {
     "end_time": "2019-01-25T00:49:05.150050Z",
     "start_time": "2019-01-25T00:49:04.998966Z"
    }
   },
   "outputs": [
    {
     "data": {
      "text/plain": [
       "True"
      ]
     },
     "execution_count": 11,
     "metadata": {},
     "output_type": "execute_result"
    }
   ],
   "source": [
    "check_word('dog', 'Dog is eating.')"
   ]
  },
  {
   "cell_type": "code",
   "execution_count": 12,
   "metadata": {
    "ExecuteTime": {
     "end_time": "2019-01-25T00:49:05.249030Z",
     "start_time": "2019-01-25T00:49:05.153493Z"
    }
   },
   "outputs": [
    {
     "name": "stdout",
     "output_type": "stream",
     "text": [
      "Help on function check_word in module __main__:\n",
      "\n",
      "check_word(word, string)\n",
      "    fuction(str, str). -- Check if a 'word' is in a 'string'\n",
      "    input:\n",
      "        word: word to check\n",
      "        string: big string\n",
      "    return:\n",
      "        bool: True or False\n",
      "\n"
     ]
    }
   ],
   "source": [
    "help(check_word)"
   ]
  },
  {
   "cell_type": "code",
   "execution_count": 13,
   "metadata": {
    "ExecuteTime": {
     "end_time": "2019-01-25T00:49:05.372924Z",
     "start_time": "2019-01-25T00:49:05.255206Z"
    }
   },
   "outputs": [],
   "source": [
    "def pig_latin(word):\n",
    "    if word[0] == 'a' or word[0] == 'e' or word[0] == 'i' or \\\n",
    "       word[0] == 'o' or word[0] == 'u':\n",
    "        return (word + 'ay')\n",
    "    else:\n",
    "        return (word[1:] + word[0] + 'ay')"
   ]
  },
  {
   "cell_type": "code",
   "execution_count": 14,
   "metadata": {
    "ExecuteTime": {
     "end_time": "2019-01-25T00:49:05.492222Z",
     "start_time": "2019-01-25T00:49:05.378460Z"
    }
   },
   "outputs": [],
   "source": [
    "def pig_latin(word): # better way\n",
    "    if word[0] in 'aeiou':\n",
    "        return (word + 'ay')\n",
    "    else:\n",
    "        return (word[1:] + word[0] + 'ay')"
   ]
  },
  {
   "cell_type": "code",
   "execution_count": 15,
   "metadata": {
    "ExecuteTime": {
     "end_time": "2019-01-25T00:49:05.606280Z",
     "start_time": "2019-01-25T00:49:05.496368Z"
    }
   },
   "outputs": [
    {
     "data": {
      "text/plain": [
       "'ordway'"
      ]
     },
     "execution_count": 15,
     "metadata": {},
     "output_type": "execute_result"
    }
   ],
   "source": [
    "pig_latin('word')"
   ]
  },
  {
   "cell_type": "code",
   "execution_count": 16,
   "metadata": {
    "ExecuteTime": {
     "end_time": "2019-01-25T00:49:05.743862Z",
     "start_time": "2019-01-25T00:49:05.610787Z"
    }
   },
   "outputs": [
    {
     "data": {
      "text/plain": [
       "'appleay'"
      ]
     },
     "execution_count": 16,
     "metadata": {},
     "output_type": "execute_result"
    }
   ],
   "source": [
    "pig_latin('apple')"
   ]
  },
  {
   "cell_type": "markdown",
   "metadata": {},
   "source": [
    "### 43. \\*args and \\*\\*kwargs in Python\n",
    "\n",
    "- `*args`: is a tuple of args.\n",
    "- `**kwargs`: is a dict of args (keywords).\n",
    "\n",
    "**Note**: preserve the order."
   ]
  },
  {
   "cell_type": "code",
   "execution_count": 17,
   "metadata": {
    "ExecuteTime": {
     "end_time": "2019-01-25T00:49:05.892300Z",
     "start_time": "2019-01-25T00:49:05.748619Z"
    }
   },
   "outputs": [],
   "source": [
    "def myfunc(a,b):\n",
    "    # Returns 5% of the sum of 'a' and 'b'\n",
    "    return (sum((a,b)) * 0.05)"
   ]
  },
  {
   "cell_type": "code",
   "execution_count": 18,
   "metadata": {
    "ExecuteTime": {
     "end_time": "2019-01-25T00:49:06.026451Z",
     "start_time": "2019-01-25T00:49:05.895327Z"
    }
   },
   "outputs": [
    {
     "data": {
      "text/plain": [
       "5.0"
      ]
     },
     "execution_count": 18,
     "metadata": {},
     "output_type": "execute_result"
    }
   ],
   "source": [
    "myfunc(40,60)"
   ]
  },
  {
   "cell_type": "code",
   "execution_count": 19,
   "metadata": {
    "ExecuteTime": {
     "end_time": "2019-01-25T00:49:06.170047Z",
     "start_time": "2019-01-25T00:49:06.030318Z"
    }
   },
   "outputs": [],
   "source": [
    "#Multiple *args\n",
    "def myfunc(*args):\n",
    "    return (sum(args) * 0.05)"
   ]
  },
  {
   "cell_type": "code",
   "execution_count": 20,
   "metadata": {
    "ExecuteTime": {
     "end_time": "2019-01-25T00:49:06.304605Z",
     "start_time": "2019-01-25T00:49:06.174679Z"
    }
   },
   "outputs": [
    {
     "data": {
      "text/plain": [
       "11.55"
      ]
     },
     "execution_count": 20,
     "metadata": {},
     "output_type": "execute_result"
    }
   ],
   "source": [
    "myfunc(40,60,100,1,30)"
   ]
  },
  {
   "cell_type": "code",
   "execution_count": 21,
   "metadata": {
    "ExecuteTime": {
     "end_time": "2019-01-25T00:49:06.412352Z",
     "start_time": "2019-01-25T00:49:06.308817Z"
    }
   },
   "outputs": [],
   "source": [
    "def myfunc(**kwargs):\n",
    "    print(kwargs)"
   ]
  },
  {
   "cell_type": "code",
   "execution_count": 22,
   "metadata": {
    "ExecuteTime": {
     "end_time": "2019-01-25T00:49:06.558935Z",
     "start_time": "2019-01-25T00:49:06.415055Z"
    }
   },
   "outputs": [
    {
     "name": "stdout",
     "output_type": "stream",
     "text": [
      "{'fruit': 'apple', 'another': 'grape'}\n"
     ]
    }
   ],
   "source": [
    "myfunc(fruit='apple', another='grape')"
   ]
  },
  {
   "cell_type": "code",
   "execution_count": 23,
   "metadata": {
    "ExecuteTime": {
     "end_time": "2019-01-25T00:49:06.689540Z",
     "start_time": "2019-01-25T00:49:06.561930Z"
    }
   },
   "outputs": [],
   "source": [
    "def myfunc(*args,**kwargs):\n",
    "    print('*args', args)\n",
    "    print('**kwargs', kwargs)"
   ]
  },
  {
   "cell_type": "code",
   "execution_count": 24,
   "metadata": {
    "ExecuteTime": {
     "end_time": "2019-01-25T00:49:06.848105Z",
     "start_time": "2019-01-25T00:49:06.692615Z"
    }
   },
   "outputs": [
    {
     "name": "stdout",
     "output_type": "stream",
     "text": [
      "*args (10, 20, 30)\n",
      "**kwargs {'key1': 'val1', 'key2': 'val2'}\n"
     ]
    }
   ],
   "source": [
    "myfunc(10,20,30,key1='val1',key2='val2')"
   ]
  },
  {
   "cell_type": "code",
   "execution_count": null,
   "metadata": {},
   "outputs": [],
   "source": []
  }
 ],
 "metadata": {
  "kernelspec": {
   "display_name": "Python 3",
   "language": "python",
   "name": "python3"
  },
  "language_info": {
   "codemirror_mode": {
    "name": "ipython",
    "version": 3
   },
   "file_extension": ".py",
   "mimetype": "text/x-python",
   "name": "python",
   "nbconvert_exporter": "python",
   "pygments_lexer": "ipython3",
   "version": "3.6.5"
  }
 },
 "nbformat": 4,
 "nbformat_minor": 2
}
